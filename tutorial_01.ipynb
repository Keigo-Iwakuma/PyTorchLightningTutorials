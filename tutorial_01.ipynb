{
 "cells": [
  {
   "cell_type": "markdown",
   "metadata": {},
   "source": [
    "# TUTORIAL 1: Introduction to PyTorch"
   ]
  },
  {
   "cell_type": "markdown",
   "metadata": {},
   "source": [
    "## Setup"
   ]
  },
  {
   "cell_type": "code",
   "execution_count": 1,
   "metadata": {},
   "outputs": [
    {
     "name": "stderr",
     "output_type": "stream",
     "text": [
      "/tmp/ipykernel_9709/796961534.py:13: DeprecationWarning: `set_matplotlib_formats` is deprecated since IPython 7.23, directly use `matplotlib_inline.backend_inline.set_matplotlib_formats()`\n",
      "  set_matplotlib_formats(\"svg\", \"pdf\")\n"
     ]
    }
   ],
   "source": [
    "import time\n",
    "\n",
    "import matplotlib.pyplot as plt\n",
    "import numpy as np\n",
    "import torch\n",
    "import torch.nn as nn\n",
    "import torch.utils.data as data\n",
    "\n",
    "from IPython.display import set_matplotlib_formats\n",
    "from matplotlib.colors import to_rgba\n",
    "from tqdm.notebook import tqdm\n",
    "\n",
    "set_matplotlib_formats(\"svg\", \"pdf\")"
   ]
  },
  {
   "cell_type": "markdown",
   "metadata": {},
   "source": [
    "## The Basics of PyTorch"
   ]
  },
  {
   "cell_type": "code",
   "execution_count": 2,
   "metadata": {},
   "outputs": [
    {
     "name": "stdout",
     "output_type": "stream",
     "text": [
      "Using torch 1.10.0a0+0aef44c\n"
     ]
    }
   ],
   "source": [
    "print(\"Using torch\", torch.__version__)"
   ]
  },
  {
   "cell_type": "code",
   "execution_count": 3,
   "metadata": {},
   "outputs": [
    {
     "data": {
      "text/plain": [
       "<torch._C.Generator at 0x7f129011e8b0>"
      ]
     },
     "execution_count": 3,
     "metadata": {},
     "output_type": "execute_result"
    }
   ],
   "source": [
    "torch.manual_seed(42)  # Setting the seed"
   ]
  },
  {
   "cell_type": "markdown",
   "metadata": {},
   "source": [
    "### Tensors"
   ]
  },
  {
   "cell_type": "markdown",
   "metadata": {},
   "source": [
    "#### Initialization"
   ]
  },
  {
   "cell_type": "code",
   "execution_count": 5,
   "metadata": {},
   "outputs": [
    {
     "name": "stdout",
     "output_type": "stream",
     "text": [
      "tensor([[[-9.1809e-04,  4.5584e-41, -9.1809e-04,  4.5584e-41],\n",
      "         [ 0.0000e+00,  0.0000e+00,  0.0000e+00,  0.0000e+00],\n",
      "         [-3.9993e+02,  4.5583e-41, -3.9993e+02,  4.5583e-41]],\n",
      "\n",
      "        [[ 1.3004e-42,  0.0000e+00,  1.5414e-44,  0.0000e+00],\n",
      "         [-3.9993e+02,  4.5583e-41, -1.7802e+05,  3.0928e-41],\n",
      "         [ 1.4013e-45,  0.0000e+00,  1.7754e+28,  2.1707e-18]]])\n"
     ]
    }
   ],
   "source": [
    "x = torch.Tensor(2, 3, 4)\n",
    "print(x)"
   ]
  },
  {
   "cell_type": "code",
   "execution_count": 6,
   "metadata": {},
   "outputs": [
    {
     "name": "stdout",
     "output_type": "stream",
     "text": [
      "tensor([[1., 2.],\n",
      "        [3., 4.]])\n"
     ]
    }
   ],
   "source": [
    "# Create a tensor from a (nested) list\n",
    "x = torch.Tensor([[1, 2], [3, 4]])\n",
    "print(x)"
   ]
  },
  {
   "cell_type": "code",
   "execution_count": 7,
   "metadata": {},
   "outputs": [
    {
     "name": "stdout",
     "output_type": "stream",
     "text": [
      "tensor([[[0.8823, 0.9150, 0.3829, 0.9593],\n",
      "         [0.3904, 0.6009, 0.2566, 0.7936],\n",
      "         [0.9408, 0.1332, 0.9346, 0.5936]],\n",
      "\n",
      "        [[0.8694, 0.5677, 0.7411, 0.4294],\n",
      "         [0.8854, 0.5739, 0.2666, 0.6274],\n",
      "         [0.2696, 0.4414, 0.2969, 0.8317]]])\n"
     ]
    }
   ],
   "source": [
    "# Create a tensor with random values between 0 and 1 with the shape [2, 3, 4]\n",
    "x = torch.rand(2, 3, 4)\n",
    "print(x)"
   ]
  },
  {
   "cell_type": "code",
   "execution_count": 8,
   "metadata": {},
   "outputs": [
    {
     "name": "stdout",
     "output_type": "stream",
     "text": [
      "Shape: torch.Size([2, 3, 4])\n",
      "Size: torch.Size([2, 3, 4])\n",
      "Size: 2 3 4\n"
     ]
    }
   ],
   "source": [
    "shape = x.shape\n",
    "print(\"Shape:\", shape)\n",
    "\n",
    "size = x.size()\n",
    "print(\"Size:\", size)\n",
    "\n",
    "dim1, dim2, dim3 = x.size()\n",
    "print(\"Size:\", dim1, dim2, dim3)"
   ]
  },
  {
   "cell_type": "markdown",
   "metadata": {},
   "source": [
    "#### Tensor to Numpy, adn Numpy to Tensor"
   ]
  },
  {
   "cell_type": "code",
   "execution_count": 9,
   "metadata": {},
   "outputs": [
    {
     "name": "stdout",
     "output_type": "stream",
     "text": [
      "Numpy array: [[1 2]\n",
      " [3 4]]\n",
      "PyTorch tensor: tensor([[1, 2],\n",
      "        [3, 4]])\n"
     ]
    }
   ],
   "source": [
    "np_arr = np.array([[1, 2], [3, 4]])\n",
    "tensor = torch.from_numpy(np_arr)\n",
    "\n",
    "print(\"Numpy array:\", np_arr)\n",
    "print(\"PyTorch tensor:\", tensor)"
   ]
  },
  {
   "cell_type": "code",
   "execution_count": 10,
   "metadata": {},
   "outputs": [
    {
     "name": "stdout",
     "output_type": "stream",
     "text": [
      "PyTorch tensor: tensor([0, 1, 2, 3])\n",
      "Numpy array: [0 1 2 3]\n"
     ]
    }
   ],
   "source": [
    "tensor = torch.arange(4)\n",
    "np_arr = tensor.numpy()\n",
    "\n",
    "print(\"PyTorch tensor:\", tensor)\n",
    "print(\"Numpy array:\", np_arr)"
   ]
  },
  {
   "cell_type": "markdown",
   "metadata": {},
   "source": [
    "#### Operations"
   ]
  },
  {
   "cell_type": "code",
   "execution_count": 11,
   "metadata": {},
   "outputs": [
    {
     "name": "stdout",
     "output_type": "stream",
     "text": [
      "X1 tensor([[0.1053, 0.2695, 0.3588],\n",
      "        [0.1994, 0.5472, 0.0062]])\n",
      "X2 tensor([[0.9516, 0.0753, 0.8860],\n",
      "        [0.5832, 0.3376, 0.8090]])\n",
      "Y tensor([[1.0569, 0.3448, 1.2448],\n",
      "        [0.7826, 0.8848, 0.8151]])\n"
     ]
    }
   ],
   "source": [
    "x1 = torch.rand(2, 3)\n",
    "x2 = torch.rand(2, 3)\n",
    "y = x1 + x2\n",
    "\n",
    "print(\"X1\", x1)\n",
    "print(\"X2\", x2)\n",
    "print(\"Y\", y)"
   ]
  },
  {
   "cell_type": "code",
   "execution_count": 12,
   "metadata": {},
   "outputs": [
    {
     "name": "stdout",
     "output_type": "stream",
     "text": [
      "X1 (before): tensor([[0.5779, 0.9040, 0.5547],\n",
      "        [0.3423, 0.6343, 0.3644]])\n",
      "X2 (before): tensor([[0.7104, 0.9464, 0.7890],\n",
      "        [0.2814, 0.7886, 0.5895]])\n",
      "X1 (after): tensor([[0.5779, 0.9040, 0.5547],\n",
      "        [0.3423, 0.6343, 0.3644]])\n",
      "X2 (after): tensor([[1.2884, 1.8504, 1.3437],\n",
      "        [0.6237, 1.4230, 0.9539]])\n"
     ]
    }
   ],
   "source": [
    "x1 = torch.rand(2, 3)\n",
    "x2 = torch.rand(2, 3)\n",
    "print(\"X1 (before):\", x1)\n",
    "print(\"X2 (before):\", x2)\n",
    "\n",
    "x2.add_(x1)\n",
    "print(\"X1 (after):\", x1)\n",
    "print(\"X2 (after):\", x2)"
   ]
  },
  {
   "cell_type": "code",
   "execution_count": 13,
   "metadata": {},
   "outputs": [
    {
     "name": "stdout",
     "output_type": "stream",
     "text": [
      "X tensor([0, 1, 2, 3, 4, 5])\n"
     ]
    }
   ],
   "source": [
    "x = torch.arange(6)\n",
    "print(\"X\", x)"
   ]
  },
  {
   "cell_type": "code",
   "execution_count": 14,
   "metadata": {},
   "outputs": [
    {
     "name": "stdout",
     "output_type": "stream",
     "text": [
      "X tensor([[0, 1, 2],\n",
      "        [3, 4, 5]])\n"
     ]
    }
   ],
   "source": [
    "x = x.view(2, 3)\n",
    "print(\"X\", x)"
   ]
  },
  {
   "cell_type": "code",
   "execution_count": 15,
   "metadata": {},
   "outputs": [
    {
     "name": "stdout",
     "output_type": "stream",
     "text": [
      "X tensor([[0, 3],\n",
      "        [1, 4],\n",
      "        [2, 5]])\n"
     ]
    }
   ],
   "source": [
    "x = x.permute(1, 0)  # Swapping dimension 0 and 1\n",
    "print(\"X\", x)"
   ]
  },
  {
   "cell_type": "code",
   "execution_count": 16,
   "metadata": {},
   "outputs": [
    {
     "name": "stdout",
     "output_type": "stream",
     "text": [
      "X tensor([[0, 1, 2],\n",
      "        [3, 4, 5]])\n"
     ]
    }
   ],
   "source": [
    "x = torch.arange(6)\n",
    "x = x.view(2, 3)\n",
    "print(\"X\", x)"
   ]
  },
  {
   "cell_type": "code",
   "execution_count": 17,
   "metadata": {},
   "outputs": [
    {
     "name": "stdout",
     "output_type": "stream",
     "text": [
      "W tensor([[0, 1, 2],\n",
      "        [3, 4, 5],\n",
      "        [6, 7, 8]])\n"
     ]
    }
   ],
   "source": [
    "W = torch.arange(9).view(3, 3)  # We can also stack multiple operations in a single line\n",
    "print(\"W\", W)"
   ]
  },
  {
   "cell_type": "code",
   "execution_count": 18,
   "metadata": {},
   "outputs": [
    {
     "name": "stdout",
     "output_type": "stream",
     "text": [
      "h tensor([[15, 18, 21],\n",
      "        [42, 54, 66]])\n"
     ]
    }
   ],
   "source": [
    "h = torch.matmul(x, W)  # Verify the result by calculating it by hand too!\n",
    "print(\"h\", h)"
   ]
  },
  {
   "cell_type": "markdown",
   "metadata": {},
   "source": [
    "#### Indexing"
   ]
  },
  {
   "cell_type": "code",
   "execution_count": 19,
   "metadata": {},
   "outputs": [
    {
     "name": "stdout",
     "output_type": "stream",
     "text": [
      "X tensor([[ 0,  1,  2,  3],\n",
      "        [ 4,  5,  6,  7],\n",
      "        [ 8,  9, 10, 11]])\n"
     ]
    }
   ],
   "source": [
    "x = torch.arange(12).view(3, 4)\n",
    "print(\"X\", x)"
   ]
  },
  {
   "cell_type": "code",
   "execution_count": 20,
   "metadata": {},
   "outputs": [
    {
     "name": "stdout",
     "output_type": "stream",
     "text": [
      "tensor([1, 5, 9])\n"
     ]
    }
   ],
   "source": [
    "print(x[:, 1])"
   ]
  },
  {
   "cell_type": "code",
   "execution_count": 21,
   "metadata": {},
   "outputs": [
    {
     "name": "stdout",
     "output_type": "stream",
     "text": [
      "tensor([0, 1, 2, 3])\n"
     ]
    }
   ],
   "source": [
    "print(x[0])  # First row"
   ]
  },
  {
   "cell_type": "code",
   "execution_count": 22,
   "metadata": {},
   "outputs": [
    {
     "name": "stdout",
     "output_type": "stream",
     "text": [
      "tensor([3, 7])\n"
     ]
    }
   ],
   "source": [
    "print(x[:2, -1])  # First two rows, last column"
   ]
  },
  {
   "cell_type": "code",
   "execution_count": 23,
   "metadata": {},
   "outputs": [
    {
     "name": "stdout",
     "output_type": "stream",
     "text": [
      "tensor([[ 4,  5,  6,  7],\n",
      "        [ 8,  9, 10, 11]])\n"
     ]
    }
   ],
   "source": [
    "print(x[1:3, :])  # Middle tow rows"
   ]
  },
  {
   "cell_type": "markdown",
   "metadata": {},
   "source": [
    "### Dynamic Computation Graph and Backpropagation"
   ]
  },
  {
   "cell_type": "code",
   "execution_count": 24,
   "metadata": {},
   "outputs": [
    {
     "name": "stdout",
     "output_type": "stream",
     "text": [
      "False\n"
     ]
    }
   ],
   "source": [
    "x = torch.ones((3,))\n",
    "print(x.requires_grad)"
   ]
  },
  {
   "cell_type": "code",
   "execution_count": 25,
   "metadata": {},
   "outputs": [
    {
     "name": "stdout",
     "output_type": "stream",
     "text": [
      "True\n"
     ]
    }
   ],
   "source": [
    "x.requires_grad_(True)\n",
    "print(x.requires_grad)"
   ]
  },
  {
   "cell_type": "code",
   "execution_count": 26,
   "metadata": {},
   "outputs": [
    {
     "name": "stdout",
     "output_type": "stream",
     "text": [
      "X tensor([0., 1., 2.], requires_grad=True)\n"
     ]
    }
   ],
   "source": [
    "x = torch.arange(3, dtype=torch.float32, requires_grad=True)  # Only float tensors can have gradients\n",
    "print(\"X\", x)"
   ]
  },
  {
   "cell_type": "code",
   "execution_count": 27,
   "metadata": {},
   "outputs": [
    {
     "name": "stdout",
     "output_type": "stream",
     "text": [
      "Y tensor(12.6667, grad_fn=<MeanBackward0>)\n"
     ]
    }
   ],
   "source": [
    "a = x + 2\n",
    "b = a ** 2\n",
    "c = b + 3\n",
    "y = c.mean()\n",
    "print(\"Y\", y)"
   ]
  },
  {
   "cell_type": "code",
   "execution_count": 28,
   "metadata": {},
   "outputs": [],
   "source": [
    "y.backward()"
   ]
  },
  {
   "cell_type": "code",
   "execution_count": 29,
   "metadata": {},
   "outputs": [
    {
     "name": "stdout",
     "output_type": "stream",
     "text": [
      "tensor([1.3333, 2.0000, 2.6667])\n"
     ]
    }
   ],
   "source": [
    "print(x.grad)"
   ]
  },
  {
   "cell_type": "markdown",
   "metadata": {},
   "source": [
    "### GPU support"
   ]
  },
  {
   "cell_type": "code",
   "execution_count": 30,
   "metadata": {},
   "outputs": [
    {
     "name": "stdout",
     "output_type": "stream",
     "text": [
      "Is the GPU available? True\n"
     ]
    }
   ],
   "source": [
    "gpu_avail = torch.cuda.is_available()\n",
    "print(f\"Is the GPU available? {gpu_avail}\")"
   ]
  },
  {
   "cell_type": "code",
   "execution_count": 31,
   "metadata": {},
   "outputs": [
    {
     "name": "stdout",
     "output_type": "stream",
     "text": [
      "Device cuda\n"
     ]
    }
   ],
   "source": [
    "device = torch.device(\"cuda\" if torch.cuda.is_available() else \"cpu\")\n",
    "print(\"Device\", device)"
   ]
  },
  {
   "cell_type": "code",
   "execution_count": 32,
   "metadata": {},
   "outputs": [
    {
     "name": "stdout",
     "output_type": "stream",
     "text": [
      "X tensor([[0., 0., 0.],\n",
      "        [0., 0., 0.]], device='cuda:0')\n"
     ]
    }
   ],
   "source": [
    "x = torch.zeros(2, 3)\n",
    "x = x.to(device)\n",
    "print(\"X\", x)"
   ]
  },
  {
   "cell_type": "code",
   "execution_count": 33,
   "metadata": {},
   "outputs": [
    {
     "name": "stdout",
     "output_type": "stream",
     "text": [
      "CPU time: 0.54500s\n",
      "GPU time: 0.00009s\n"
     ]
    }
   ],
   "source": [
    "x = torch.randn(5000, 5000)\n",
    "\n",
    "# CPU version\n",
    "start_time = time.time()\n",
    "_ = torch.matmul(x, x)\n",
    "end_time = time.time()\n",
    "print(f\"CPU time: {(end_time - start_time):6.5f}s\")\n",
    "\n",
    "# GPU version\n",
    "x = x.to(device)\n",
    "# The first operation on a CUDA device can be slow as it has to establish a CPU-GPU communication first.\n",
    "# Hence, we run an arbitrary command first without timing it for a fair comparizon.\n",
    "if torch.cuda.is_available():\n",
    "    _ = torch.matmul(x * 0.0, x)\n",
    "start_time = time.time()\n",
    "_ = torch.matmul(x, x)\n",
    "end_time = time.time()\n",
    "print(f\"GPU time: {(end_time - start_time):6.5f}s\")"
   ]
  },
  {
   "cell_type": "code",
   "execution_count": 34,
   "metadata": {},
   "outputs": [],
   "source": [
    "# GPU operations have a separate seed we also want to set\n",
    "if torch.cuda.is_available():\n",
    "    torch.cuda.manual_seed(42)\n",
    "    torch.cuda.manual_seed_all(42)\n",
    "\n",
    "# Additionally, some operations on a GPU are implemented stochastic for efficiency\n",
    "# We want to ensure that all operations are deterministic on GPU (if used) for reproducibility\n",
    "torch.backends.cudnn.deterministic = True\n",
    "torch.backends.cudnn.benchmark = False"
   ]
  },
  {
   "cell_type": "markdown",
   "metadata": {},
   "source": [
    "## Learning by example: Continuous XOR"
   ]
  },
  {
   "cell_type": "markdown",
   "metadata": {},
   "source": [
    "### The model"
   ]
  },
  {
   "cell_type": "markdown",
   "metadata": {},
   "source": [
    "#### nn.Module"
   ]
  },
  {
   "cell_type": "code",
   "execution_count": null,
   "metadata": {},
   "outputs": [],
   "source": [
    "class MyModule(nn.Module):\n",
    "    def __init__(self):\n",
    "        super().__init__()\n",
    "        # some init for my module\n",
    "    \n",
    "    def forward(self, x):\n",
    "        # Function for performing the calculation of the module.\n",
    "        pass"
   ]
  },
  {
   "cell_type": "markdown",
   "metadata": {},
   "source": [
    "#### Simple classifier"
   ]
  },
  {
   "cell_type": "code",
   "execution_count": 35,
   "metadata": {},
   "outputs": [],
   "source": [
    "class SimpleClassifier(nn.Module):\n",
    "    def __init__(self, num_inputs, num_hidden, num_outputs):\n",
    "        super().__init__()\n",
    "        # Initialize the modules we need to build the network\n",
    "        self.linear1 = nn.Linear(num_inputs, num_hidden)\n",
    "        self.act_fn = nn.Tanh()\n",
    "        self.linear2 = nn.Linear(num_hidden, num_outputs)\n",
    "    \n",
    "    def forward(self, x):\n",
    "        # Perform the calculation of the model to detemine the prediction\n",
    "        x = self.linear1(x)\n",
    "        x = self.act_fn(x)\n",
    "        x = self.linear2(x)\n",
    "        return x"
   ]
  },
  {
   "cell_type": "code",
   "execution_count": 36,
   "metadata": {},
   "outputs": [
    {
     "name": "stdout",
     "output_type": "stream",
     "text": [
      "SimpleClassifier(\n",
      "  (linear1): Linear(in_features=2, out_features=4, bias=True)\n",
      "  (act_fn): Tanh()\n",
      "  (linear2): Linear(in_features=4, out_features=1, bias=True)\n",
      ")\n"
     ]
    }
   ],
   "source": [
    "model = SimpleClassifier(num_inputs=2, num_hidden=4, num_outputs=1)\n",
    "# Printing a module shows all its submodules\n",
    "print(model)"
   ]
  },
  {
   "cell_type": "code",
   "execution_count": 37,
   "metadata": {},
   "outputs": [
    {
     "name": "stdout",
     "output_type": "stream",
     "text": [
      "Parameter linear1.weight, shape torch.Size([4, 2])\n",
      "Parameter linear1.bias, shape torch.Size([4])\n",
      "Parameter linear2.weight, shape torch.Size([1, 4])\n",
      "Parameter linear2.bias, shape torch.Size([1])\n"
     ]
    }
   ],
   "source": [
    "for name, param in model.named_parameters():\n",
    "    print(f\"Parameter {name}, shape {param.shape}\")"
   ]
  },
  {
   "cell_type": "markdown",
   "metadata": {},
   "source": [
    "### The data"
   ]
  },
  {
   "cell_type": "markdown",
   "metadata": {},
   "source": [
    "#### The dataset class"
   ]
  },
  {
   "cell_type": "code",
   "execution_count": 38,
   "metadata": {},
   "outputs": [],
   "source": [
    "class XORDataset(data.Dataset):\n",
    "    def __init__(self, size, std=0.1):\n",
    "        \"\"\"\n",
    "        Inputs:\n",
    "            size - Number of data points we want to generate\n",
    "            std - Standard deviation of the noise (see generate_continuous_xor function)\n",
    "        \"\"\"\n",
    "        super().__init__()\n",
    "        self.size = size\n",
    "        self.std = std\n",
    "        self.generate_continuous_xor()\n",
    "    \n",
    "    def generate_continuous_xor(self):\n",
    "        # Each data point in the XOR dataset has tow variables, x and y, that can be either 0 or 1\n",
    "        # The label is their XOR combination, i.e. 1 if only x or y is 1 while the other is 0.\n",
    "        # If x = y, the label is 0.\n",
    "        data = torch.randint(low=0, high=2, size=(self.size, 2), dtype=torch.float32)\n",
    "        label = (data.sum(dim=1) == 1).to(torch.long)\n",
    "        # To make it slightly more challenging, we add a bit of gaussian noise to the data points.\n",
    "        data += self.std * torch.randn(data.shape)\n",
    "\n",
    "        self.data = data\n",
    "        self.label = label\n",
    "    \n",
    "    def __len__(self):\n",
    "        # Number of data point we have. Alternatively self.data.shape[0], or self.label.shape[0]\n",
    "        return self.size\n",
    "    \n",
    "    def __getitem__(self, idx):\n",
    "        # Return the idx-th data point of the dataset\n",
    "        # If we have multiple things to return (data point and label), we can return them as tuple\n",
    "        data_point = self.data[idx]\n",
    "        data_label = self.label[idx]\n",
    "        return data_point, data_label"
   ]
  },
  {
   "cell_type": "code",
   "execution_count": 39,
   "metadata": {},
   "outputs": [
    {
     "name": "stdout",
     "output_type": "stream",
     "text": [
      "Size of dataset: 200\n",
      "Data point 0: (tensor([0.9632, 0.1117]), tensor(1))\n"
     ]
    }
   ],
   "source": [
    "dataset = XORDataset(size=200)\n",
    "print(\"Size of dataset:\", len(dataset))\n",
    "print(\"Data point 0:\", dataset[0])"
   ]
  },
  {
   "cell_type": "code",
   "execution_count": 40,
   "metadata": {},
   "outputs": [],
   "source": [
    "def visualize_samples(data, label):\n",
    "    if isinstance(data, torch.Tensor):\n",
    "        data = data.cpu().numpy()\n",
    "    if isinstance(label, torch.Tensor):\n",
    "        label = label.cpu().numpy()\n",
    "    data_0 = data[label == 0]\n",
    "    data_1 = data[label == 1]\n",
    "\n",
    "    plt.figure(figsize=(4, 4))\n",
    "    plt.scatter(data_0[:, 0], data_0[:, 1], edgecolor=\"#333\", label=\"Class 0\")\n",
    "    plt.scatter(data_1[:, 0], data_1[:, 1], edgecolor=\"#333\", label=\"Class 1\")\n",
    "    plt.title(\"Dataset samples\")\n",
    "    plt.ylabel(r\"$x_2$\")\n",
    "    plt.xlabel(r\"$x_1$\")\n",
    "    plt.legend()"
   ]
  },
  {
   "cell_type": "code",
   "execution_count": 41,
   "metadata": {},
   "outputs": [
    {
     "data": {
      "application/pdf": "[encoded data removed]",
      "image/svg+xml": "<?xml version=\"1.0\" encoding=\"utf-8\" standalone=\"no\"?>\n<!DOCTYPE svg PUBLIC \"-//W3C//DTD SVG 1.1//EN\"\n  \"http://www.w3.org/Graphics/SVG/1.1/DTD/svg11.dtd\">\n<svg height=\"277.314375pt\" version=\"1.1\" viewBox=\"0 0 288.985258 277.314375\" width=\"288.985258pt\" xmlns=\"http://www.w3.org/2000/svg\" xmlns:xlink=\"http://www.w3.org/1999/xlink\">\n <metadata>\n  <rdf:RDF xmlns:cc=\"http://creativecommons.org/ns#\" xmlns:dc=\"http://purl.org/dc/elements/1.1/\" xmlns:rdf=\"http://www.w3.org/1999/02/22-rdf-syntax-ns#\">\n   <cc:Work>\n    <dc:type rdf:resource=\"http://purl.org/dc/dcmitype/StillImage\"/>\n    <dc:date>2021-11-27T13:03:59.277333</dc:date>\n    <dc:format>image/svg+xml</dc:format>\n    <dc:creator>\n     <cc:Agent>\n      <dc:title>Matplotlib v3.4.3, https://matplotlib.org/</dc:title>\n     </cc:Agent>\n    </dc:creator>\n   </cc:Work>\n  </rdf:RDF>\n </metadata>\n <defs>\n  <style type=\"text/css\">*{stroke-linecap:butt;stroke-linejoin:round;}</style>\n </defs>\n <g id=\"figure_1\">\n  <g id=\"patch_1\">\n   <path d=\"M 0 277.314375 \nL 288.985258 277.314375 \nL 288.985258 0 \nL 0 0 \nz\n\" style=\"fill:none;\"/>\n  </g>\n  <g id=\"axes_1\">\n   <g id=\"patch_2\">\n    <path d=\"M 52.160938 239.758125 \nL 275.360937 239.758125 \nL 275.360937 22.318125 \nL 52.160938 22.318125 \nz\n\" style=\"fill:#ffffff;\"/>\n   </g>\n   <g id=\"PathCollection_1\">\n    <defs>\n     <path d=\"M 0 3 \nC 0.795609 3 1.55874 2.683901 2.12132 2.12132 \nC 2.683901 1.55874 3 0.795609 3 0 \nC 3 -0.795609 2.683901 -1.55874 2.12132 -2.12132 \nC 1.55874 -2.683901 0.795609 -3 0 -3 \nC -0.795609 -3 -1.55874 -2.683901 -2.12132 -2.12132 \nC -2.683901 -1.55874 -3 -0.795609 -3 0 \nC -3 0.795609 -2.683901 1.55874 -2.12132 2.12132 \nC -1.55874 2.683901 -0.795609 3 0 3 \nz\n\" id=\"m7eddab6ae6\" style=\"stroke:#333333;\"/>\n    </defs>\n    <g clip-path=\"url(#pc4148d79c4)\">\n     <use style=\"fill:#1f77b4;stroke:#333333;\" x=\"96.31168\" xlink:href=\"#m7eddab6ae6\" y=\"193.325344\"/>\n     <use style=\"fill:#1f77b4;stroke:#333333;\" x=\"232.057657\" xlink:href=\"#m7eddab6ae6\" y=\"62.145049\"/>\n     <use style=\"fill:#1f77b4;stroke:#333333;\" x=\"258.979442\" xlink:href=\"#m7eddab6ae6\" y=\"63.780462\"/>\n     <use style=\"fill:#1f77b4;stroke:#333333;\" x=\"108.913368\" xlink:href=\"#m7eddab6ae6\" y=\"204.409578\"/>\n     <use style=\"fill:#1f77b4;stroke:#333333;\" x=\"101.325808\" xlink:href=\"#m7eddab6ae6\" y=\"205.043015\"/>\n     <use style=\"fill:#1f77b4;stroke:#333333;\" x=\"70.983454\" xlink:href=\"#m7eddab6ae6\" y=\"189.560429\"/>\n     <use style=\"fill:#1f77b4;stroke:#333333;\" x=\"242.885541\" xlink:href=\"#m7eddab6ae6\" y=\"58.566133\"/>\n     <use style=\"fill:#1f77b4;stroke:#333333;\" x=\"232.016709\" xlink:href=\"#m7eddab6ae6\" y=\"51.440521\"/>\n     <use style=\"fill:#1f77b4;stroke:#333333;\" x=\"93.978943\" xlink:href=\"#m7eddab6ae6\" y=\"204.550687\"/>\n     <use style=\"fill:#1f77b4;stroke:#333333;\" x=\"237.538974\" xlink:href=\"#m7eddab6ae6\" y=\"53.572047\"/>\n     <use style=\"fill:#1f77b4;stroke:#333333;\" x=\"103.543109\" xlink:href=\"#m7eddab6ae6\" y=\"200.309835\"/>\n     <use style=\"fill:#1f77b4;stroke:#333333;\" x=\"255.555098\" xlink:href=\"#m7eddab6ae6\" y=\"32.201761\"/>\n     <use style=\"fill:#1f77b4;stroke:#333333;\" x=\"238.058002\" xlink:href=\"#m7eddab6ae6\" y=\"62.589723\"/>\n     <use style=\"fill:#1f77b4;stroke:#333333;\" x=\"232.170061\" xlink:href=\"#m7eddab6ae6\" y=\"57.754453\"/>\n     <use style=\"fill:#1f77b4;stroke:#333333;\" x=\"94.264177\" xlink:href=\"#m7eddab6ae6\" y=\"212.626168\"/>\n     <use style=\"fill:#1f77b4;stroke:#333333;\" x=\"89.231835\" xlink:href=\"#m7eddab6ae6\" y=\"185.037671\"/>\n     <use style=\"fill:#1f77b4;stroke:#333333;\" x=\"251.267421\" xlink:href=\"#m7eddab6ae6\" y=\"90.813692\"/>\n     <use style=\"fill:#1f77b4;stroke:#333333;\" x=\"254.815479\" xlink:href=\"#m7eddab6ae6\" y=\"83.753102\"/>\n     <use style=\"fill:#1f77b4;stroke:#333333;\" x=\"226.105337\" xlink:href=\"#m7eddab6ae6\" y=\"59.138235\"/>\n     <use style=\"fill:#1f77b4;stroke:#333333;\" x=\"82.022892\" xlink:href=\"#m7eddab6ae6\" y=\"209.202243\"/>\n     <use style=\"fill:#1f77b4;stroke:#333333;\" x=\"253.973129\" xlink:href=\"#m7eddab6ae6\" y=\"32.62492\"/>\n     <use style=\"fill:#1f77b4;stroke:#333333;\" x=\"245.15091\" xlink:href=\"#m7eddab6ae6\" y=\"59.955798\"/>\n     <use style=\"fill:#1f77b4;stroke:#333333;\" x=\"114.421987\" xlink:href=\"#m7eddab6ae6\" y=\"175.83743\"/>\n     <use style=\"fill:#1f77b4;stroke:#333333;\" x=\"228.657784\" xlink:href=\"#m7eddab6ae6\" y=\"32.336249\"/>\n     <use style=\"fill:#1f77b4;stroke:#333333;\" x=\"99.781014\" xlink:href=\"#m7eddab6ae6\" y=\"194.777215\"/>\n     <use style=\"fill:#1f77b4;stroke:#333333;\" x=\"227.807175\" xlink:href=\"#m7eddab6ae6\" y=\"51.50491\"/>\n     <use style=\"fill:#1f77b4;stroke:#333333;\" x=\"86.881354\" xlink:href=\"#m7eddab6ae6\" y=\"179.492748\"/>\n     <use style=\"fill:#1f77b4;stroke:#333333;\" x=\"250.727063\" xlink:href=\"#m7eddab6ae6\" y=\"48.77409\"/>\n     <use style=\"fill:#1f77b4;stroke:#333333;\" x=\"246.39628\" xlink:href=\"#m7eddab6ae6\" y=\"61.512745\"/>\n     <use style=\"fill:#1f77b4;stroke:#333333;\" x=\"240.179519\" xlink:href=\"#m7eddab6ae6\" y=\"43.69401\"/>\n     <use style=\"fill:#1f77b4;stroke:#333333;\" x=\"92.34098\" xlink:href=\"#m7eddab6ae6\" y=\"184.373252\"/>\n     <use style=\"fill:#1f77b4;stroke:#333333;\" x=\"104.506115\" xlink:href=\"#m7eddab6ae6\" y=\"209.709719\"/>\n     <use style=\"fill:#1f77b4;stroke:#333333;\" x=\"87.360439\" xlink:href=\"#m7eddab6ae6\" y=\"169.625602\"/>\n     <use style=\"fill:#1f77b4;stroke:#333333;\" x=\"97.745486\" xlink:href=\"#m7eddab6ae6\" y=\"201.318829\"/>\n     <use style=\"fill:#1f77b4;stroke:#333333;\" x=\"112.202457\" xlink:href=\"#m7eddab6ae6\" y=\"200.867622\"/>\n     <use style=\"fill:#1f77b4;stroke:#333333;\" x=\"93.386735\" xlink:href=\"#m7eddab6ae6\" y=\"195.701852\"/>\n     <use style=\"fill:#1f77b4;stroke:#333333;\" x=\"112.962408\" xlink:href=\"#m7eddab6ae6\" y=\"212.211753\"/>\n     <use style=\"fill:#1f77b4;stroke:#333333;\" x=\"213.923524\" xlink:href=\"#m7eddab6ae6\" y=\"39.620323\"/>\n     <use style=\"fill:#1f77b4;stroke:#333333;\" x=\"253.408944\" xlink:href=\"#m7eddab6ae6\" y=\"64.604829\"/>\n     <use style=\"fill:#1f77b4;stroke:#333333;\" x=\"238.202599\" xlink:href=\"#m7eddab6ae6\" y=\"63.759786\"/>\n     <use style=\"fill:#1f77b4;stroke:#333333;\" x=\"93.334759\" xlink:href=\"#m7eddab6ae6\" y=\"205.410605\"/>\n     <use style=\"fill:#1f77b4;stroke:#333333;\" x=\"222.697015\" xlink:href=\"#m7eddab6ae6\" y=\"89.092646\"/>\n     <use style=\"fill:#1f77b4;stroke:#333333;\" x=\"246.067518\" xlink:href=\"#m7eddab6ae6\" y=\"56.781365\"/>\n     <use style=\"fill:#1f77b4;stroke:#333333;\" x=\"97.908356\" xlink:href=\"#m7eddab6ae6\" y=\"212.127081\"/>\n     <use style=\"fill:#1f77b4;stroke:#333333;\" x=\"110.608912\" xlink:href=\"#m7eddab6ae6\" y=\"217.677792\"/>\n     <use style=\"fill:#1f77b4;stroke:#333333;\" x=\"119.278606\" xlink:href=\"#m7eddab6ae6\" y=\"177.02797\"/>\n     <use style=\"fill:#1f77b4;stroke:#333333;\" x=\"229.431275\" xlink:href=\"#m7eddab6ae6\" y=\"71.868079\"/>\n     <use style=\"fill:#1f77b4;stroke:#333333;\" x=\"217.108023\" xlink:href=\"#m7eddab6ae6\" y=\"44.358713\"/>\n     <use style=\"fill:#1f77b4;stroke:#333333;\" x=\"90.421001\" xlink:href=\"#m7eddab6ae6\" y=\"205.813556\"/>\n     <use style=\"fill:#1f77b4;stroke:#333333;\" x=\"230.637614\" xlink:href=\"#m7eddab6ae6\" y=\"68.485687\"/>\n     <use style=\"fill:#1f77b4;stroke:#333333;\" x=\"98.642521\" xlink:href=\"#m7eddab6ae6\" y=\"201.033344\"/>\n     <use style=\"fill:#1f77b4;stroke:#333333;\" x=\"242.296554\" xlink:href=\"#m7eddab6ae6\" y=\"33.609264\"/>\n     <use style=\"fill:#1f77b4;stroke:#333333;\" x=\"95.167044\" xlink:href=\"#m7eddab6ae6\" y=\"188.760034\"/>\n     <use style=\"fill:#1f77b4;stroke:#333333;\" x=\"227.659933\" xlink:href=\"#m7eddab6ae6\" y=\"76.575953\"/>\n     <use style=\"fill:#1f77b4;stroke:#333333;\" x=\"239.162594\" xlink:href=\"#m7eddab6ae6\" y=\"47.436505\"/>\n     <use style=\"fill:#1f77b4;stroke:#333333;\" x=\"70.985535\" xlink:href=\"#m7eddab6ae6\" y=\"190.609003\"/>\n     <use style=\"fill:#1f77b4;stroke:#333333;\" x=\"216.984682\" xlink:href=\"#m7eddab6ae6\" y=\"47.197067\"/>\n     <use style=\"fill:#1f77b4;stroke:#333333;\" x=\"247.342435\" xlink:href=\"#m7eddab6ae6\" y=\"65.6149\"/>\n     <use style=\"fill:#1f77b4;stroke:#333333;\" x=\"82.942512\" xlink:href=\"#m7eddab6ae6\" y=\"196.823089\"/>\n     <use style=\"fill:#1f77b4;stroke:#333333;\" x=\"94.610207\" xlink:href=\"#m7eddab6ae6\" y=\"229.874489\"/>\n     <use style=\"fill:#1f77b4;stroke:#333333;\" x=\"94.065144\" xlink:href=\"#m7eddab6ae6\" y=\"199.872245\"/>\n     <use style=\"fill:#1f77b4;stroke:#333333;\" x=\"75.9265\" xlink:href=\"#m7eddab6ae6\" y=\"200.007537\"/>\n     <use style=\"fill:#1f77b4;stroke:#333333;\" x=\"261.562131\" xlink:href=\"#m7eddab6ae6\" y=\"65.752612\"/>\n     <use style=\"fill:#1f77b4;stroke:#333333;\" x=\"227.651459\" xlink:href=\"#m7eddab6ae6\" y=\"73.759575\"/>\n     <use style=\"fill:#1f77b4;stroke:#333333;\" x=\"253.566025\" xlink:href=\"#m7eddab6ae6\" y=\"39.679857\"/>\n     <use style=\"fill:#1f77b4;stroke:#333333;\" x=\"76.490724\" xlink:href=\"#m7eddab6ae6\" y=\"185.321057\"/>\n     <use style=\"fill:#1f77b4;stroke:#333333;\" x=\"238.897525\" xlink:href=\"#m7eddab6ae6\" y=\"82.429587\"/>\n     <use style=\"fill:#1f77b4;stroke:#333333;\" x=\"249.223089\" xlink:href=\"#m7eddab6ae6\" y=\"89.661589\"/>\n     <use style=\"fill:#1f77b4;stroke:#333333;\" x=\"118.387936\" xlink:href=\"#m7eddab6ae6\" y=\"218.303568\"/>\n     <use style=\"fill:#1f77b4;stroke:#333333;\" x=\"108.710707\" xlink:href=\"#m7eddab6ae6\" y=\"207.070547\"/>\n     <use style=\"fill:#1f77b4;stroke:#333333;\" x=\"94.960359\" xlink:href=\"#m7eddab6ae6\" y=\"190.023846\"/>\n     <use style=\"fill:#1f77b4;stroke:#333333;\" x=\"95.804305\" xlink:href=\"#m7eddab6ae6\" y=\"187.711556\"/>\n     <use style=\"fill:#1f77b4;stroke:#333333;\" x=\"239.509346\" xlink:href=\"#m7eddab6ae6\" y=\"53.869424\"/>\n     <use style=\"fill:#1f77b4;stroke:#333333;\" x=\"226.971018\" xlink:href=\"#m7eddab6ae6\" y=\"88.154106\"/>\n     <use style=\"fill:#1f77b4;stroke:#333333;\" x=\"94.916859\" xlink:href=\"#m7eddab6ae6\" y=\"195.521558\"/>\n     <use style=\"fill:#1f77b4;stroke:#333333;\" x=\"106.991269\" xlink:href=\"#m7eddab6ae6\" y=\"186.850471\"/>\n     <use style=\"fill:#1f77b4;stroke:#333333;\" x=\"108.567957\" xlink:href=\"#m7eddab6ae6\" y=\"194.117803\"/>\n     <use style=\"fill:#1f77b4;stroke:#333333;\" x=\"239.227411\" xlink:href=\"#m7eddab6ae6\" y=\"37.590473\"/>\n     <use style=\"fill:#1f77b4;stroke:#333333;\" x=\"238.317384\" xlink:href=\"#m7eddab6ae6\" y=\"35.754283\"/>\n     <use style=\"fill:#1f77b4;stroke:#333333;\" x=\"96.994499\" xlink:href=\"#m7eddab6ae6\" y=\"208.108344\"/>\n     <use style=\"fill:#1f77b4;stroke:#333333;\" x=\"250.032038\" xlink:href=\"#m7eddab6ae6\" y=\"37.701594\"/>\n     <use style=\"fill:#1f77b4;stroke:#333333;\" x=\"232.359401\" xlink:href=\"#m7eddab6ae6\" y=\"72.374698\"/>\n     <use style=\"fill:#1f77b4;stroke:#333333;\" x=\"248.199716\" xlink:href=\"#m7eddab6ae6\" y=\"33.573869\"/>\n     <use style=\"fill:#1f77b4;stroke:#333333;\" x=\"88.429047\" xlink:href=\"#m7eddab6ae6\" y=\"192.95304\"/>\n     <use style=\"fill:#1f77b4;stroke:#333333;\" x=\"234.27057\" xlink:href=\"#m7eddab6ae6\" y=\"47.995435\"/>\n     <use style=\"fill:#1f77b4;stroke:#333333;\" x=\"98.536004\" xlink:href=\"#m7eddab6ae6\" y=\"212.515425\"/>\n     <use style=\"fill:#1f77b4;stroke:#333333;\" x=\"107.800107\" xlink:href=\"#m7eddab6ae6\" y=\"204.310706\"/>\n     <use style=\"fill:#1f77b4;stroke:#333333;\" x=\"87.726796\" xlink:href=\"#m7eddab6ae6\" y=\"191.216589\"/>\n     <use style=\"fill:#1f77b4;stroke:#333333;\" x=\"212.816998\" xlink:href=\"#m7eddab6ae6\" y=\"53.841351\"/>\n     <use style=\"fill:#1f77b4;stroke:#333333;\" x=\"225.168168\" xlink:href=\"#m7eddab6ae6\" y=\"47.841136\"/>\n     <use style=\"fill:#1f77b4;stroke:#333333;\" x=\"202.642744\" xlink:href=\"#m7eddab6ae6\" y=\"44.693113\"/>\n     <use style=\"fill:#1f77b4;stroke:#333333;\" x=\"86.981531\" xlink:href=\"#m7eddab6ae6\" y=\"191.534849\"/>\n     <use style=\"fill:#1f77b4;stroke:#333333;\" x=\"116.687423\" xlink:href=\"#m7eddab6ae6\" y=\"206.975146\"/>\n     <use style=\"fill:#1f77b4;stroke:#333333;\" x=\"91.776781\" xlink:href=\"#m7eddab6ae6\" y=\"209.817871\"/>\n     <use style=\"fill:#1f77b4;stroke:#333333;\" x=\"225.892096\" xlink:href=\"#m7eddab6ae6\" y=\"90.705434\"/>\n     <use style=\"fill:#1f77b4;stroke:#333333;\" x=\"102.087238\" xlink:href=\"#m7eddab6ae6\" y=\"195.303274\"/>\n     <use style=\"fill:#1f77b4;stroke:#333333;\" x=\"94.905243\" xlink:href=\"#m7eddab6ae6\" y=\"189.148117\"/>\n     <use style=\"fill:#1f77b4;stroke:#333333;\" x=\"89.515988\" xlink:href=\"#m7eddab6ae6\" y=\"200.223394\"/>\n     <use style=\"fill:#1f77b4;stroke:#333333;\" x=\"99.167164\" xlink:href=\"#m7eddab6ae6\" y=\"208.206126\"/>\n     <use style=\"fill:#1f77b4;stroke:#333333;\" x=\"211.577945\" xlink:href=\"#m7eddab6ae6\" y=\"57.867977\"/>\n     <use style=\"fill:#1f77b4;stroke:#333333;\" x=\"220.751413\" xlink:href=\"#m7eddab6ae6\" y=\"41.469595\"/>\n     <use style=\"fill:#1f77b4;stroke:#333333;\" x=\"72.137778\" xlink:href=\"#m7eddab6ae6\" y=\"214.445482\"/>\n     <use style=\"fill:#1f77b4;stroke:#333333;\" x=\"235.916363\" xlink:href=\"#m7eddab6ae6\" y=\"80.464924\"/>\n    </g>\n   </g>\n   <g id=\"PathCollection_2\">\n    <defs>\n     <path d=\"M 0 3 \nC 0.795609 3 1.55874 2.683901 2.12132 2.12132 \nC 2.683901 1.55874 3 0.795609 3 0 \nC 3 -0.795609 2.683901 -1.55874 2.12132 -2.12132 \nC 1.55874 -2.683901 0.795609 -3 0 -3 \nC -0.795609 -3 -1.55874 -2.683901 -2.12132 -2.12132 \nC -2.683901 -1.55874 -3 -0.795609 -3 0 \nC -3 0.795609 -2.683901 1.55874 -2.12132 2.12132 \nC -1.55874 2.683901 -0.795609 3 0 3 \nz\n\" id=\"m63dba2292a\" style=\"stroke:#333333;\"/>\n    </defs>\n    <g clip-path=\"url(#pc4148d79c4)\">\n     <use style=\"fill:#ff7f0e;stroke:#333333;\" x=\"230.877063\" xlink:href=\"#m63dba2292a\" y=\"180.913557\"/>\n     <use style=\"fill:#ff7f0e;stroke:#333333;\" x=\"243.842427\" xlink:href=\"#m63dba2292a\" y=\"181.183986\"/>\n     <use style=\"fill:#ff7f0e;stroke:#333333;\" x=\"232.017097\" xlink:href=\"#m63dba2292a\" y=\"198.932324\"/>\n     <use style=\"fill:#ff7f0e;stroke:#333333;\" x=\"89.746376\" xlink:href=\"#m63dba2292a\" y=\"45.392998\"/>\n     <use style=\"fill:#ff7f0e;stroke:#333333;\" x=\"250.686437\" xlink:href=\"#m63dba2292a\" y=\"201.599728\"/>\n     <use style=\"fill:#ff7f0e;stroke:#333333;\" x=\"100.400405\" xlink:href=\"#m63dba2292a\" y=\"63.553489\"/>\n     <use style=\"fill:#ff7f0e;stroke:#333333;\" x=\"219.862038\" xlink:href=\"#m63dba2292a\" y=\"211.350014\"/>\n     <use style=\"fill:#ff7f0e;stroke:#333333;\" x=\"130.59866\" xlink:href=\"#m63dba2292a\" y=\"59.599027\"/>\n     <use style=\"fill:#ff7f0e;stroke:#333333;\" x=\"247.536058\" xlink:href=\"#m63dba2292a\" y=\"217.196966\"/>\n     <use style=\"fill:#ff7f0e;stroke:#333333;\" x=\"214.797166\" xlink:href=\"#m63dba2292a\" y=\"185.557909\"/>\n     <use style=\"fill:#ff7f0e;stroke:#333333;\" x=\"229.906907\" xlink:href=\"#m63dba2292a\" y=\"173.017888\"/>\n     <use style=\"fill:#ff7f0e;stroke:#333333;\" x=\"65.731142\" xlink:href=\"#m63dba2292a\" y=\"44.566804\"/>\n     <use style=\"fill:#ff7f0e;stroke:#333333;\" x=\"116.585574\" xlink:href=\"#m63dba2292a\" y=\"45.533014\"/>\n     <use style=\"fill:#ff7f0e;stroke:#333333;\" x=\"96.4775\" xlink:href=\"#m63dba2292a\" y=\"76.495825\"/>\n     <use style=\"fill:#ff7f0e;stroke:#333333;\" x=\"96.788387\" xlink:href=\"#m63dba2292a\" y=\"42.091466\"/>\n     <use style=\"fill:#ff7f0e;stroke:#333333;\" x=\"75.708547\" xlink:href=\"#m63dba2292a\" y=\"39.030573\"/>\n     <use style=\"fill:#ff7f0e;stroke:#333333;\" x=\"233.922057\" xlink:href=\"#m63dba2292a\" y=\"201.757218\"/>\n     <use style=\"fill:#ff7f0e;stroke:#333333;\" x=\"216.28277\" xlink:href=\"#m63dba2292a\" y=\"180.766731\"/>\n     <use style=\"fill:#ff7f0e;stroke:#333333;\" x=\"225.945553\" xlink:href=\"#m63dba2292a\" y=\"182.832732\"/>\n     <use style=\"fill:#ff7f0e;stroke:#333333;\" x=\"107.888844\" xlink:href=\"#m63dba2292a\" y=\"59.25904\"/>\n     <use style=\"fill:#ff7f0e;stroke:#333333;\" x=\"212.266314\" xlink:href=\"#m63dba2292a\" y=\"192.147409\"/>\n     <use style=\"fill:#ff7f0e;stroke:#333333;\" x=\"257.089413\" xlink:href=\"#m63dba2292a\" y=\"200.542537\"/>\n     <use style=\"fill:#ff7f0e;stroke:#333333;\" x=\"248.528097\" xlink:href=\"#m63dba2292a\" y=\"198.107913\"/>\n     <use style=\"fill:#ff7f0e;stroke:#333333;\" x=\"223.275659\" xlink:href=\"#m63dba2292a\" y=\"202.11576\"/>\n     <use style=\"fill:#ff7f0e;stroke:#333333;\" x=\"254.62465\" xlink:href=\"#m63dba2292a\" y=\"176.456154\"/>\n     <use style=\"fill:#ff7f0e;stroke:#333333;\" x=\"83.200733\" xlink:href=\"#m63dba2292a\" y=\"70.175377\"/>\n     <use style=\"fill:#ff7f0e;stroke:#333333;\" x=\"251.724096\" xlink:href=\"#m63dba2292a\" y=\"179.390064\"/>\n     <use style=\"fill:#ff7f0e;stroke:#333333;\" x=\"110.819287\" xlink:href=\"#m63dba2292a\" y=\"55.123203\"/>\n     <use style=\"fill:#ff7f0e;stroke:#333333;\" x=\"232.126351\" xlink:href=\"#m63dba2292a\" y=\"178.669064\"/>\n     <use style=\"fill:#ff7f0e;stroke:#333333;\" x=\"68.497902\" xlink:href=\"#m63dba2292a\" y=\"56.973626\"/>\n     <use style=\"fill:#ff7f0e;stroke:#333333;\" x=\"95.226666\" xlink:href=\"#m63dba2292a\" y=\"66.120244\"/>\n     <use style=\"fill:#ff7f0e;stroke:#333333;\" x=\"223.392974\" xlink:href=\"#m63dba2292a\" y=\"208.672634\"/>\n     <use style=\"fill:#ff7f0e;stroke:#333333;\" x=\"214.945261\" xlink:href=\"#m63dba2292a\" y=\"183.133722\"/>\n     <use style=\"fill:#ff7f0e;stroke:#333333;\" x=\"100.205618\" xlink:href=\"#m63dba2292a\" y=\"60.661631\"/>\n     <use style=\"fill:#ff7f0e;stroke:#333333;\" x=\"244.127174\" xlink:href=\"#m63dba2292a\" y=\"183.85959\"/>\n     <use style=\"fill:#ff7f0e;stroke:#333333;\" x=\"100.782099\" xlink:href=\"#m63dba2292a\" y=\"68.534007\"/>\n     <use style=\"fill:#ff7f0e;stroke:#333333;\" x=\"97.685973\" xlink:href=\"#m63dba2292a\" y=\"71.284393\"/>\n     <use style=\"fill:#ff7f0e;stroke:#333333;\" x=\"261.24119\" xlink:href=\"#m63dba2292a\" y=\"209.357586\"/>\n     <use style=\"fill:#ff7f0e;stroke:#333333;\" x=\"231.536281\" xlink:href=\"#m63dba2292a\" y=\"180.074569\"/>\n     <use style=\"fill:#ff7f0e;stroke:#333333;\" x=\"84.432042\" xlink:href=\"#m63dba2292a\" y=\"55.826098\"/>\n     <use style=\"fill:#ff7f0e;stroke:#333333;\" x=\"114.704427\" xlink:href=\"#m63dba2292a\" y=\"57.881371\"/>\n     <use style=\"fill:#ff7f0e;stroke:#333333;\" x=\"118.139583\" xlink:href=\"#m63dba2292a\" y=\"40.282525\"/>\n     <use style=\"fill:#ff7f0e;stroke:#333333;\" x=\"244.331312\" xlink:href=\"#m63dba2292a\" y=\"206.328325\"/>\n     <use style=\"fill:#ff7f0e;stroke:#333333;\" x=\"84.937455\" xlink:href=\"#m63dba2292a\" y=\"59.985039\"/>\n     <use style=\"fill:#ff7f0e;stroke:#333333;\" x=\"229.111028\" xlink:href=\"#m63dba2292a\" y=\"185.254639\"/>\n     <use style=\"fill:#ff7f0e;stroke:#333333;\" x=\"99.865846\" xlink:href=\"#m63dba2292a\" y=\"73.50443\"/>\n     <use style=\"fill:#ff7f0e;stroke:#333333;\" x=\"107.774522\" xlink:href=\"#m63dba2292a\" y=\"50.128195\"/>\n     <use style=\"fill:#ff7f0e;stroke:#333333;\" x=\"106.681533\" xlink:href=\"#m63dba2292a\" y=\"53.57626\"/>\n     <use style=\"fill:#ff7f0e;stroke:#333333;\" x=\"220.300095\" xlink:href=\"#m63dba2292a\" y=\"186.154142\"/>\n     <use style=\"fill:#ff7f0e;stroke:#333333;\" x=\"84.93114\" xlink:href=\"#m63dba2292a\" y=\"77.508109\"/>\n     <use style=\"fill:#ff7f0e;stroke:#333333;\" x=\"105.491498\" xlink:href=\"#m63dba2292a\" y=\"48.161599\"/>\n     <use style=\"fill:#ff7f0e;stroke:#333333;\" x=\"212.017878\" xlink:href=\"#m63dba2292a\" y=\"182.204423\"/>\n     <use style=\"fill:#ff7f0e;stroke:#333333;\" x=\"238.780524\" xlink:href=\"#m63dba2292a\" y=\"210.592034\"/>\n     <use style=\"fill:#ff7f0e;stroke:#333333;\" x=\"102.920944\" xlink:href=\"#m63dba2292a\" y=\"48.671279\"/>\n     <use style=\"fill:#ff7f0e;stroke:#333333;\" x=\"109.227118\" xlink:href=\"#m63dba2292a\" y=\"67.791241\"/>\n     <use style=\"fill:#ff7f0e;stroke:#333333;\" x=\"218.916511\" xlink:href=\"#m63dba2292a\" y=\"195.110735\"/>\n     <use style=\"fill:#ff7f0e;stroke:#333333;\" x=\"210.412471\" xlink:href=\"#m63dba2292a\" y=\"197.807546\"/>\n     <use style=\"fill:#ff7f0e;stroke:#333333;\" x=\"106.409234\" xlink:href=\"#m63dba2292a\" y=\"62.370039\"/>\n     <use style=\"fill:#ff7f0e;stroke:#333333;\" x=\"62.306392\" xlink:href=\"#m63dba2292a\" y=\"69.539331\"/>\n     <use style=\"fill:#ff7f0e;stroke:#333333;\" x=\"91.834453\" xlink:href=\"#m63dba2292a\" y=\"77.469177\"/>\n     <use style=\"fill:#ff7f0e;stroke:#333333;\" x=\"109.483259\" xlink:href=\"#m63dba2292a\" y=\"52.116365\"/>\n     <use style=\"fill:#ff7f0e;stroke:#333333;\" x=\"87.52736\" xlink:href=\"#m63dba2292a\" y=\"63.223243\"/>\n     <use style=\"fill:#ff7f0e;stroke:#333333;\" x=\"94.034599\" xlink:href=\"#m63dba2292a\" y=\"55.768785\"/>\n     <use style=\"fill:#ff7f0e;stroke:#333333;\" x=\"110.113367\" xlink:href=\"#m63dba2292a\" y=\"68.261083\"/>\n     <use style=\"fill:#ff7f0e;stroke:#333333;\" x=\"257.318305\" xlink:href=\"#m63dba2292a\" y=\"202.317721\"/>\n     <use style=\"fill:#ff7f0e;stroke:#333333;\" x=\"79.762115\" xlink:href=\"#m63dba2292a\" y=\"39.847979\"/>\n     <use style=\"fill:#ff7f0e;stroke:#333333;\" x=\"258.048499\" xlink:href=\"#m63dba2292a\" y=\"185.012766\"/>\n     <use style=\"fill:#ff7f0e;stroke:#333333;\" x=\"244.789162\" xlink:href=\"#m63dba2292a\" y=\"171.865302\"/>\n     <use style=\"fill:#ff7f0e;stroke:#333333;\" x=\"214.47439\" xlink:href=\"#m63dba2292a\" y=\"211.299351\"/>\n     <use style=\"fill:#ff7f0e;stroke:#333333;\" x=\"218.387835\" xlink:href=\"#m63dba2292a\" y=\"227.253664\"/>\n     <use style=\"fill:#ff7f0e;stroke:#333333;\" x=\"98.247032\" xlink:href=\"#m63dba2292a\" y=\"41.347367\"/>\n     <use style=\"fill:#ff7f0e;stroke:#333333;\" x=\"221.09122\" xlink:href=\"#m63dba2292a\" y=\"178.959826\"/>\n     <use style=\"fill:#ff7f0e;stroke:#333333;\" x=\"207.783237\" xlink:href=\"#m63dba2292a\" y=\"165.02484\"/>\n     <use style=\"fill:#ff7f0e;stroke:#333333;\" x=\"84.486389\" xlink:href=\"#m63dba2292a\" y=\"47.120304\"/>\n     <use style=\"fill:#ff7f0e;stroke:#333333;\" x=\"108.320496\" xlink:href=\"#m63dba2292a\" y=\"59.847104\"/>\n     <use style=\"fill:#ff7f0e;stroke:#333333;\" x=\"247.02495\" xlink:href=\"#m63dba2292a\" y=\"184.293941\"/>\n     <use style=\"fill:#ff7f0e;stroke:#333333;\" x=\"92.024123\" xlink:href=\"#m63dba2292a\" y=\"51.399993\"/>\n     <use style=\"fill:#ff7f0e;stroke:#333333;\" x=\"103.976033\" xlink:href=\"#m63dba2292a\" y=\"61.578541\"/>\n     <use style=\"fill:#ff7f0e;stroke:#333333;\" x=\"102.375453\" xlink:href=\"#m63dba2292a\" y=\"64.816787\"/>\n     <use style=\"fill:#ff7f0e;stroke:#333333;\" x=\"230.527021\" xlink:href=\"#m63dba2292a\" y=\"177.171327\"/>\n     <use style=\"fill:#ff7f0e;stroke:#333333;\" x=\"238.484799\" xlink:href=\"#m63dba2292a\" y=\"167.950176\"/>\n     <use style=\"fill:#ff7f0e;stroke:#333333;\" x=\"247.340005\" xlink:href=\"#m63dba2292a\" y=\"185.179964\"/>\n     <use style=\"fill:#ff7f0e;stroke:#333333;\" x=\"134.8086\" xlink:href=\"#m63dba2292a\" y=\"59.304711\"/>\n     <use style=\"fill:#ff7f0e;stroke:#333333;\" x=\"213.726653\" xlink:href=\"#m63dba2292a\" y=\"213.578161\"/>\n     <use style=\"fill:#ff7f0e;stroke:#333333;\" x=\"265.215483\" xlink:href=\"#m63dba2292a\" y=\"212.626448\"/>\n     <use style=\"fill:#ff7f0e;stroke:#333333;\" x=\"226.839442\" xlink:href=\"#m63dba2292a\" y=\"209.593202\"/>\n     <use style=\"fill:#ff7f0e;stroke:#333333;\" x=\"88.454985\" xlink:href=\"#m63dba2292a\" y=\"69.802283\"/>\n     <use style=\"fill:#ff7f0e;stroke:#333333;\" x=\"86.200641\" xlink:href=\"#m63dba2292a\" y=\"59.30147\"/>\n     <use style=\"fill:#ff7f0e;stroke:#333333;\" x=\"249.708568\" xlink:href=\"#m63dba2292a\" y=\"212.467168\"/>\n     <use style=\"fill:#ff7f0e;stroke:#333333;\" x=\"86.639713\" xlink:href=\"#m63dba2292a\" y=\"66.734504\"/>\n     <use style=\"fill:#ff7f0e;stroke:#333333;\" x=\"72.549088\" xlink:href=\"#m63dba2292a\" y=\"61.78785\"/>\n     <use style=\"fill:#ff7f0e;stroke:#333333;\" x=\"116.327234\" xlink:href=\"#m63dba2292a\" y=\"48.616483\"/>\n     <use style=\"fill:#ff7f0e;stroke:#333333;\" x=\"89.624632\" xlink:href=\"#m63dba2292a\" y=\"51.591563\"/>\n     <use style=\"fill:#ff7f0e;stroke:#333333;\" x=\"257.369976\" xlink:href=\"#m63dba2292a\" y=\"209.982902\"/>\n     <use style=\"fill:#ff7f0e;stroke:#333333;\" x=\"209.334228\" xlink:href=\"#m63dba2292a\" y=\"191.955712\"/>\n     <use style=\"fill:#ff7f0e;stroke:#333333;\" x=\"98.138755\" xlink:href=\"#m63dba2292a\" y=\"44.566278\"/>\n     <use style=\"fill:#ff7f0e;stroke:#333333;\" x=\"254.619078\" xlink:href=\"#m63dba2292a\" y=\"207.56031\"/>\n    </g>\n   </g>\n   <g id=\"matplotlib.axis_1\">\n    <g id=\"xtick_1\">\n     <g id=\"line2d_1\">\n      <defs>\n       <path d=\"M 0 0 \nL 0 3.5 \n\" id=\"m43a41ad5e4\" style=\"stroke:#000000;stroke-width:0.8;\"/>\n      </defs>\n      <g>\n       <use style=\"stroke:#000000;stroke-width:0.8;\" x=\"62.596276\" xlink:href=\"#m43a41ad5e4\" y=\"239.758125\"/>\n      </g>\n     </g>\n     <g id=\"text_1\">\n      <!-- −0.25 -->\n      <g transform=\"translate(47.27362 254.356562)scale(0.1 -0.1)\">\n       <defs>\n        <path d=\"M 678 2272 \nL 4684 2272 \nL 4684 1741 \nL 678 1741 \nL 678 2272 \nz\n\" id=\"DejaVuSans-2212\" transform=\"scale(0.015625)\"/>\n        <path d=\"M 2034 4250 \nQ 1547 4250 1301 3770 \nQ 1056 3291 1056 2328 \nQ 1056 1369 1301 889 \nQ 1547 409 2034 409 \nQ 2525 409 2770 889 \nQ 3016 1369 3016 2328 \nQ 3016 3291 2770 3770 \nQ 2525 4250 2034 4250 \nz\nM 2034 4750 \nQ 2819 4750 3233 4129 \nQ 3647 3509 3647 2328 \nQ 3647 1150 3233 529 \nQ 2819 -91 2034 -91 \nQ 1250 -91 836 529 \nQ 422 1150 422 2328 \nQ 422 3509 836 4129 \nQ 1250 4750 2034 4750 \nz\n\" id=\"DejaVuSans-30\" transform=\"scale(0.015625)\"/>\n        <path d=\"M 684 794 \nL 1344 794 \nL 1344 0 \nL 684 0 \nL 684 794 \nz\n\" id=\"DejaVuSans-2e\" transform=\"scale(0.015625)\"/>\n        <path d=\"M 1228 531 \nL 3431 531 \nL 3431 0 \nL 469 0 \nL 469 531 \nQ 828 903 1448 1529 \nQ 2069 2156 2228 2338 \nQ 2531 2678 2651 2914 \nQ 2772 3150 2772 3378 \nQ 2772 3750 2511 3984 \nQ 2250 4219 1831 4219 \nQ 1534 4219 1204 4116 \nQ 875 4013 500 3803 \nL 500 4441 \nQ 881 4594 1212 4672 \nQ 1544 4750 1819 4750 \nQ 2544 4750 2975 4387 \nQ 3406 4025 3406 3419 \nQ 3406 3131 3298 2873 \nQ 3191 2616 2906 2266 \nQ 2828 2175 2409 1742 \nQ 1991 1309 1228 531 \nz\n\" id=\"DejaVuSans-32\" transform=\"scale(0.015625)\"/>\n        <path d=\"M 691 4666 \nL 3169 4666 \nL 3169 4134 \nL 1269 4134 \nL 1269 2991 \nQ 1406 3038 1543 3061 \nQ 1681 3084 1819 3084 \nQ 2600 3084 3056 2656 \nQ 3513 2228 3513 1497 \nQ 3513 744 3044 326 \nQ 2575 -91 1722 -91 \nQ 1428 -91 1123 -41 \nQ 819 9 494 109 \nL 494 744 \nQ 775 591 1075 516 \nQ 1375 441 1709 441 \nQ 2250 441 2565 725 \nQ 2881 1009 2881 1497 \nQ 2881 1984 2565 2268 \nQ 2250 2553 1709 2553 \nQ 1456 2553 1204 2497 \nQ 953 2441 691 2322 \nL 691 4666 \nz\n\" id=\"DejaVuSans-35\" transform=\"scale(0.015625)\"/>\n       </defs>\n       <use xlink:href=\"#DejaVuSans-2212\"/>\n       <use x=\"83.789062\" xlink:href=\"#DejaVuSans-30\"/>\n       <use x=\"147.412109\" xlink:href=\"#DejaVuSans-2e\"/>\n       <use x=\"179.199219\" xlink:href=\"#DejaVuSans-32\"/>\n       <use x=\"242.822266\" xlink:href=\"#DejaVuSans-35\"/>\n      </g>\n     </g>\n    </g>\n    <g id=\"xtick_2\">\n     <g id=\"line2d_2\">\n      <g>\n       <use style=\"stroke:#000000;stroke-width:0.8;\" x=\"97.272305\" xlink:href=\"#m43a41ad5e4\" y=\"239.758125\"/>\n      </g>\n     </g>\n     <g id=\"text_2\">\n      <!-- 0.00 -->\n      <g transform=\"translate(86.139492 254.356562)scale(0.1 -0.1)\">\n       <use xlink:href=\"#DejaVuSans-30\"/>\n       <use x=\"63.623047\" xlink:href=\"#DejaVuSans-2e\"/>\n       <use x=\"95.410156\" xlink:href=\"#DejaVuSans-30\"/>\n       <use x=\"159.033203\" xlink:href=\"#DejaVuSans-30\"/>\n      </g>\n     </g>\n    </g>\n    <g id=\"xtick_3\">\n     <g id=\"line2d_3\">\n      <g>\n       <use style=\"stroke:#000000;stroke-width:0.8;\" x=\"131.948333\" xlink:href=\"#m43a41ad5e4\" y=\"239.758125\"/>\n      </g>\n     </g>\n     <g id=\"text_3\">\n      <!-- 0.25 -->\n      <g transform=\"translate(120.81552 254.356562)scale(0.1 -0.1)\">\n       <use xlink:href=\"#DejaVuSans-30\"/>\n       <use x=\"63.623047\" xlink:href=\"#DejaVuSans-2e\"/>\n       <use x=\"95.410156\" xlink:href=\"#DejaVuSans-32\"/>\n       <use x=\"159.033203\" xlink:href=\"#DejaVuSans-35\"/>\n      </g>\n     </g>\n    </g>\n    <g id=\"xtick_4\">\n     <g id=\"line2d_4\">\n      <g>\n       <use style=\"stroke:#000000;stroke-width:0.8;\" x=\"166.624361\" xlink:href=\"#m43a41ad5e4\" y=\"239.758125\"/>\n      </g>\n     </g>\n     <g id=\"text_4\">\n      <!-- 0.50 -->\n      <g transform=\"translate(155.491548 254.356562)scale(0.1 -0.1)\">\n       <use xlink:href=\"#DejaVuSans-30\"/>\n       <use x=\"63.623047\" xlink:href=\"#DejaVuSans-2e\"/>\n       <use x=\"95.410156\" xlink:href=\"#DejaVuSans-35\"/>\n       <use x=\"159.033203\" xlink:href=\"#DejaVuSans-30\"/>\n      </g>\n     </g>\n    </g>\n    <g id=\"xtick_5\">\n     <g id=\"line2d_5\">\n      <g>\n       <use style=\"stroke:#000000;stroke-width:0.8;\" x=\"201.300389\" xlink:href=\"#m43a41ad5e4\" y=\"239.758125\"/>\n      </g>\n     </g>\n     <g id=\"text_5\">\n      <!-- 0.75 -->\n      <g transform=\"translate(190.167577 254.356562)scale(0.1 -0.1)\">\n       <defs>\n        <path d=\"M 525 4666 \nL 3525 4666 \nL 3525 4397 \nL 1831 0 \nL 1172 0 \nL 2766 4134 \nL 525 4134 \nL 525 4666 \nz\n\" id=\"DejaVuSans-37\" transform=\"scale(0.015625)\"/>\n       </defs>\n       <use xlink:href=\"#DejaVuSans-30\"/>\n       <use x=\"63.623047\" xlink:href=\"#DejaVuSans-2e\"/>\n       <use x=\"95.410156\" xlink:href=\"#DejaVuSans-37\"/>\n       <use x=\"159.033203\" xlink:href=\"#DejaVuSans-35\"/>\n      </g>\n     </g>\n    </g>\n    <g id=\"xtick_6\">\n     <g id=\"line2d_6\">\n      <g>\n       <use style=\"stroke:#000000;stroke-width:0.8;\" x=\"235.976417\" xlink:href=\"#m43a41ad5e4\" y=\"239.758125\"/>\n      </g>\n     </g>\n     <g id=\"text_6\">\n      <!-- 1.00 -->\n      <g transform=\"translate(224.843605 254.356562)scale(0.1 -0.1)\">\n       <defs>\n        <path d=\"M 794 531 \nL 1825 531 \nL 1825 4091 \nL 703 3866 \nL 703 4441 \nL 1819 4666 \nL 2450 4666 \nL 2450 531 \nL 3481 531 \nL 3481 0 \nL 794 0 \nL 794 531 \nz\n\" id=\"DejaVuSans-31\" transform=\"scale(0.015625)\"/>\n       </defs>\n       <use xlink:href=\"#DejaVuSans-31\"/>\n       <use x=\"63.623047\" xlink:href=\"#DejaVuSans-2e\"/>\n       <use x=\"95.410156\" xlink:href=\"#DejaVuSans-30\"/>\n       <use x=\"159.033203\" xlink:href=\"#DejaVuSans-30\"/>\n      </g>\n     </g>\n    </g>\n    <g id=\"xtick_7\">\n     <g id=\"line2d_7\">\n      <g>\n       <use style=\"stroke:#000000;stroke-width:0.8;\" x=\"270.652446\" xlink:href=\"#m43a41ad5e4\" y=\"239.758125\"/>\n      </g>\n     </g>\n     <g id=\"text_7\">\n      <!-- 1.25 -->\n      <g transform=\"translate(259.519633 254.356562)scale(0.1 -0.1)\">\n       <use xlink:href=\"#DejaVuSans-31\"/>\n       <use x=\"63.623047\" xlink:href=\"#DejaVuSans-2e\"/>\n       <use x=\"95.410156\" xlink:href=\"#DejaVuSans-32\"/>\n       <use x=\"159.033203\" xlink:href=\"#DejaVuSans-35\"/>\n      </g>\n     </g>\n    </g>\n    <g id=\"text_8\">\n     <!-- $x_1$ -->\n     <g transform=\"translate(158.410938 268.034687)scale(0.1 -0.1)\">\n      <defs>\n       <path d=\"M 3841 3500 \nL 2234 1784 \nL 3219 0 \nL 2559 0 \nL 1819 1388 \nL 531 0 \nL -166 0 \nL 1556 1844 \nL 641 3500 \nL 1300 3500 \nL 1972 2234 \nL 3144 3500 \nL 3841 3500 \nz\n\" id=\"DejaVuSans-Oblique-78\" transform=\"scale(0.015625)\"/>\n      </defs>\n      <use transform=\"translate(0 0.3125)\" xlink:href=\"#DejaVuSans-Oblique-78\"/>\n      <use transform=\"translate(59.179688 -16.09375)scale(0.7)\" xlink:href=\"#DejaVuSans-31\"/>\n     </g>\n    </g>\n   </g>\n   <g id=\"matplotlib.axis_2\">\n    <g id=\"ytick_1\">\n     <g id=\"line2d_8\">\n      <defs>\n       <path d=\"M 0 0 \nL -3.5 0 \n\" id=\"m4ef0fed0e1\" style=\"stroke:#000000;stroke-width:0.8;\"/>\n      </defs>\n      <g>\n       <use style=\"stroke:#000000;stroke-width:0.8;\" x=\"52.160938\" xlink:href=\"#m4ef0fed0e1\" y=\"223.94267\"/>\n      </g>\n     </g>\n     <g id=\"text_9\">\n      <!-- −0.2 -->\n      <g transform=\"translate(20.878125 227.741889)scale(0.1 -0.1)\">\n       <use xlink:href=\"#DejaVuSans-2212\"/>\n       <use x=\"83.789062\" xlink:href=\"#DejaVuSans-30\"/>\n       <use x=\"147.412109\" xlink:href=\"#DejaVuSans-2e\"/>\n       <use x=\"179.199219\" xlink:href=\"#DejaVuSans-32\"/>\n      </g>\n     </g>\n    </g>\n    <g id=\"ytick_2\">\n     <g id=\"line2d_9\">\n      <g>\n       <use style=\"stroke:#000000;stroke-width:0.8;\" x=\"52.160938\" xlink:href=\"#m4ef0fed0e1\" y=\"196.335617\"/>\n      </g>\n     </g>\n     <g id=\"text_10\">\n      <!-- 0.0 -->\n      <g transform=\"translate(29.257812 200.134836)scale(0.1 -0.1)\">\n       <use xlink:href=\"#DejaVuSans-30\"/>\n       <use x=\"63.623047\" xlink:href=\"#DejaVuSans-2e\"/>\n       <use x=\"95.410156\" xlink:href=\"#DejaVuSans-30\"/>\n      </g>\n     </g>\n    </g>\n    <g id=\"ytick_3\">\n     <g id=\"line2d_10\">\n      <g>\n       <use style=\"stroke:#000000;stroke-width:0.8;\" x=\"52.160938\" xlink:href=\"#m4ef0fed0e1\" y=\"168.728564\"/>\n      </g>\n     </g>\n     <g id=\"text_11\">\n      <!-- 0.2 -->\n      <g transform=\"translate(29.257812 172.527783)scale(0.1 -0.1)\">\n       <use xlink:href=\"#DejaVuSans-30\"/>\n       <use x=\"63.623047\" xlink:href=\"#DejaVuSans-2e\"/>\n       <use x=\"95.410156\" xlink:href=\"#DejaVuSans-32\"/>\n      </g>\n     </g>\n    </g>\n    <g id=\"ytick_4\">\n     <g id=\"line2d_11\">\n      <g>\n       <use style=\"stroke:#000000;stroke-width:0.8;\" x=\"52.160938\" xlink:href=\"#m4ef0fed0e1\" y=\"141.12151\"/>\n      </g>\n     </g>\n     <g id=\"text_12\">\n      <!-- 0.4 -->\n      <g transform=\"translate(29.257812 144.920729)scale(0.1 -0.1)\">\n       <defs>\n        <path d=\"M 2419 4116 \nL 825 1625 \nL 2419 1625 \nL 2419 4116 \nz\nM 2253 4666 \nL 3047 4666 \nL 3047 1625 \nL 3713 1625 \nL 3713 1100 \nL 3047 1100 \nL 3047 0 \nL 2419 0 \nL 2419 1100 \nL 313 1100 \nL 313 1709 \nL 2253 4666 \nz\n\" id=\"DejaVuSans-34\" transform=\"scale(0.015625)\"/>\n       </defs>\n       <use xlink:href=\"#DejaVuSans-30\"/>\n       <use x=\"63.623047\" xlink:href=\"#DejaVuSans-2e\"/>\n       <use x=\"95.410156\" xlink:href=\"#DejaVuSans-34\"/>\n      </g>\n     </g>\n    </g>\n    <g id=\"ytick_5\">\n     <g id=\"line2d_12\">\n      <g>\n       <use style=\"stroke:#000000;stroke-width:0.8;\" x=\"52.160938\" xlink:href=\"#m4ef0fed0e1\" y=\"113.514457\"/>\n      </g>\n     </g>\n     <g id=\"text_13\">\n      <!-- 0.6 -->\n      <g transform=\"translate(29.257812 117.313676)scale(0.1 -0.1)\">\n       <defs>\n        <path d=\"M 2113 2584 \nQ 1688 2584 1439 2293 \nQ 1191 2003 1191 1497 \nQ 1191 994 1439 701 \nQ 1688 409 2113 409 \nQ 2538 409 2786 701 \nQ 3034 994 3034 1497 \nQ 3034 2003 2786 2293 \nQ 2538 2584 2113 2584 \nz\nM 3366 4563 \nL 3366 3988 \nQ 3128 4100 2886 4159 \nQ 2644 4219 2406 4219 \nQ 1781 4219 1451 3797 \nQ 1122 3375 1075 2522 \nQ 1259 2794 1537 2939 \nQ 1816 3084 2150 3084 \nQ 2853 3084 3261 2657 \nQ 3669 2231 3669 1497 \nQ 3669 778 3244 343 \nQ 2819 -91 2113 -91 \nQ 1303 -91 875 529 \nQ 447 1150 447 2328 \nQ 447 3434 972 4092 \nQ 1497 4750 2381 4750 \nQ 2619 4750 2861 4703 \nQ 3103 4656 3366 4563 \nz\n\" id=\"DejaVuSans-36\" transform=\"scale(0.015625)\"/>\n       </defs>\n       <use xlink:href=\"#DejaVuSans-30\"/>\n       <use x=\"63.623047\" xlink:href=\"#DejaVuSans-2e\"/>\n       <use x=\"95.410156\" xlink:href=\"#DejaVuSans-36\"/>\n      </g>\n     </g>\n    </g>\n    <g id=\"ytick_6\">\n     <g id=\"line2d_13\">\n      <g>\n       <use style=\"stroke:#000000;stroke-width:0.8;\" x=\"52.160938\" xlink:href=\"#m4ef0fed0e1\" y=\"85.907404\"/>\n      </g>\n     </g>\n     <g id=\"text_14\">\n      <!-- 0.8 -->\n      <g transform=\"translate(29.257812 89.706623)scale(0.1 -0.1)\">\n       <defs>\n        <path d=\"M 2034 2216 \nQ 1584 2216 1326 1975 \nQ 1069 1734 1069 1313 \nQ 1069 891 1326 650 \nQ 1584 409 2034 409 \nQ 2484 409 2743 651 \nQ 3003 894 3003 1313 \nQ 3003 1734 2745 1975 \nQ 2488 2216 2034 2216 \nz\nM 1403 2484 \nQ 997 2584 770 2862 \nQ 544 3141 544 3541 \nQ 544 4100 942 4425 \nQ 1341 4750 2034 4750 \nQ 2731 4750 3128 4425 \nQ 3525 4100 3525 3541 \nQ 3525 3141 3298 2862 \nQ 3072 2584 2669 2484 \nQ 3125 2378 3379 2068 \nQ 3634 1759 3634 1313 \nQ 3634 634 3220 271 \nQ 2806 -91 2034 -91 \nQ 1263 -91 848 271 \nQ 434 634 434 1313 \nQ 434 1759 690 2068 \nQ 947 2378 1403 2484 \nz\nM 1172 3481 \nQ 1172 3119 1398 2916 \nQ 1625 2713 2034 2713 \nQ 2441 2713 2670 2916 \nQ 2900 3119 2900 3481 \nQ 2900 3844 2670 4047 \nQ 2441 4250 2034 4250 \nQ 1625 4250 1398 4047 \nQ 1172 3844 1172 3481 \nz\n\" id=\"DejaVuSans-38\" transform=\"scale(0.015625)\"/>\n       </defs>\n       <use xlink:href=\"#DejaVuSans-30\"/>\n       <use x=\"63.623047\" xlink:href=\"#DejaVuSans-2e\"/>\n       <use x=\"95.410156\" xlink:href=\"#DejaVuSans-38\"/>\n      </g>\n     </g>\n    </g>\n    <g id=\"ytick_7\">\n     <g id=\"line2d_14\">\n      <g>\n       <use style=\"stroke:#000000;stroke-width:0.8;\" x=\"52.160938\" xlink:href=\"#m4ef0fed0e1\" y=\"58.300351\"/>\n      </g>\n     </g>\n     <g id=\"text_15\">\n      <!-- 1.0 -->\n      <g transform=\"translate(29.257812 62.099569)scale(0.1 -0.1)\">\n       <use xlink:href=\"#DejaVuSans-31\"/>\n       <use x=\"63.623047\" xlink:href=\"#DejaVuSans-2e\"/>\n       <use x=\"95.410156\" xlink:href=\"#DejaVuSans-30\"/>\n      </g>\n     </g>\n    </g>\n    <g id=\"ytick_8\">\n     <g id=\"line2d_15\">\n      <g>\n       <use style=\"stroke:#000000;stroke-width:0.8;\" x=\"52.160938\" xlink:href=\"#m4ef0fed0e1\" y=\"30.693297\"/>\n      </g>\n     </g>\n     <g id=\"text_16\">\n      <!-- 1.2 -->\n      <g transform=\"translate(29.257812 34.492516)scale(0.1 -0.1)\">\n       <use xlink:href=\"#DejaVuSans-31\"/>\n       <use x=\"63.623047\" xlink:href=\"#DejaVuSans-2e\"/>\n       <use x=\"95.410156\" xlink:href=\"#DejaVuSans-32\"/>\n      </g>\n     </g>\n    </g>\n    <g id=\"text_17\">\n     <!-- $x_2$ -->\n     <g transform=\"translate(14.798438 136.388125)rotate(-90)scale(0.1 -0.1)\">\n      <use transform=\"translate(0 0.3125)\" xlink:href=\"#DejaVuSans-Oblique-78\"/>\n      <use transform=\"translate(59.179688 -16.09375)scale(0.7)\" xlink:href=\"#DejaVuSans-32\"/>\n     </g>\n    </g>\n   </g>\n   <g id=\"patch_3\">\n    <path d=\"M 52.160938 239.758125 \nL 52.160938 22.318125 \n\" style=\"fill:none;stroke:#000000;stroke-linecap:square;stroke-linejoin:miter;stroke-width:0.8;\"/>\n   </g>\n   <g id=\"patch_4\">\n    <path d=\"M 275.360937 239.758125 \nL 275.360937 22.318125 \n\" style=\"fill:none;stroke:#000000;stroke-linecap:square;stroke-linejoin:miter;stroke-width:0.8;\"/>\n   </g>\n   <g id=\"patch_5\">\n    <path d=\"M 52.160937 239.758125 \nL 275.360937 239.758125 \n\" style=\"fill:none;stroke:#000000;stroke-linecap:square;stroke-linejoin:miter;stroke-width:0.8;\"/>\n   </g>\n   <g id=\"patch_6\">\n    <path d=\"M 52.160937 22.318125 \nL 275.360937 22.318125 \n\" style=\"fill:none;stroke:#000000;stroke-linecap:square;stroke-linejoin:miter;stroke-width:0.8;\"/>\n   </g>\n   <g id=\"text_18\">\n    <!-- Dataset samples -->\n    <g transform=\"translate(113.418125 16.318125)scale(0.12 -0.12)\">\n     <defs>\n      <path d=\"M 1259 4147 \nL 1259 519 \nL 2022 519 \nQ 2988 519 3436 956 \nQ 3884 1394 3884 2338 \nQ 3884 3275 3436 3711 \nQ 2988 4147 2022 4147 \nL 1259 4147 \nz\nM 628 4666 \nL 1925 4666 \nQ 3281 4666 3915 4102 \nQ 4550 3538 4550 2338 \nQ 4550 1131 3912 565 \nQ 3275 0 1925 0 \nL 628 0 \nL 628 4666 \nz\n\" id=\"DejaVuSans-44\" transform=\"scale(0.015625)\"/>\n      <path d=\"M 2194 1759 \nQ 1497 1759 1228 1600 \nQ 959 1441 959 1056 \nQ 959 750 1161 570 \nQ 1363 391 1709 391 \nQ 2188 391 2477 730 \nQ 2766 1069 2766 1631 \nL 2766 1759 \nL 2194 1759 \nz\nM 3341 1997 \nL 3341 0 \nL 2766 0 \nL 2766 531 \nQ 2569 213 2275 61 \nQ 1981 -91 1556 -91 \nQ 1019 -91 701 211 \nQ 384 513 384 1019 \nQ 384 1609 779 1909 \nQ 1175 2209 1959 2209 \nL 2766 2209 \nL 2766 2266 \nQ 2766 2663 2505 2880 \nQ 2244 3097 1772 3097 \nQ 1472 3097 1187 3025 \nQ 903 2953 641 2809 \nL 641 3341 \nQ 956 3463 1253 3523 \nQ 1550 3584 1831 3584 \nQ 2591 3584 2966 3190 \nQ 3341 2797 3341 1997 \nz\n\" id=\"DejaVuSans-61\" transform=\"scale(0.015625)\"/>\n      <path d=\"M 1172 4494 \nL 1172 3500 \nL 2356 3500 \nL 2356 3053 \nL 1172 3053 \nL 1172 1153 \nQ 1172 725 1289 603 \nQ 1406 481 1766 481 \nL 2356 481 \nL 2356 0 \nL 1766 0 \nQ 1100 0 847 248 \nQ 594 497 594 1153 \nL 594 3053 \nL 172 3053 \nL 172 3500 \nL 594 3500 \nL 594 4494 \nL 1172 4494 \nz\n\" id=\"DejaVuSans-74\" transform=\"scale(0.015625)\"/>\n      <path d=\"M 2834 3397 \nL 2834 2853 \nQ 2591 2978 2328 3040 \nQ 2066 3103 1784 3103 \nQ 1356 3103 1142 2972 \nQ 928 2841 928 2578 \nQ 928 2378 1081 2264 \nQ 1234 2150 1697 2047 \nL 1894 2003 \nQ 2506 1872 2764 1633 \nQ 3022 1394 3022 966 \nQ 3022 478 2636 193 \nQ 2250 -91 1575 -91 \nQ 1294 -91 989 -36 \nQ 684 19 347 128 \nL 347 722 \nQ 666 556 975 473 \nQ 1284 391 1588 391 \nQ 1994 391 2212 530 \nQ 2431 669 2431 922 \nQ 2431 1156 2273 1281 \nQ 2116 1406 1581 1522 \nL 1381 1569 \nQ 847 1681 609 1914 \nQ 372 2147 372 2553 \nQ 372 3047 722 3315 \nQ 1072 3584 1716 3584 \nQ 2034 3584 2315 3537 \nQ 2597 3491 2834 3397 \nz\n\" id=\"DejaVuSans-73\" transform=\"scale(0.015625)\"/>\n      <path d=\"M 3597 1894 \nL 3597 1613 \nL 953 1613 \nQ 991 1019 1311 708 \nQ 1631 397 2203 397 \nQ 2534 397 2845 478 \nQ 3156 559 3463 722 \nL 3463 178 \nQ 3153 47 2828 -22 \nQ 2503 -91 2169 -91 \nQ 1331 -91 842 396 \nQ 353 884 353 1716 \nQ 353 2575 817 3079 \nQ 1281 3584 2069 3584 \nQ 2775 3584 3186 3129 \nQ 3597 2675 3597 1894 \nz\nM 3022 2063 \nQ 3016 2534 2758 2815 \nQ 2500 3097 2075 3097 \nQ 1594 3097 1305 2825 \nQ 1016 2553 972 2059 \nL 3022 2063 \nz\n\" id=\"DejaVuSans-65\" transform=\"scale(0.015625)\"/>\n      <path id=\"DejaVuSans-20\" transform=\"scale(0.015625)\"/>\n      <path d=\"M 3328 2828 \nQ 3544 3216 3844 3400 \nQ 4144 3584 4550 3584 \nQ 5097 3584 5394 3201 \nQ 5691 2819 5691 2113 \nL 5691 0 \nL 5113 0 \nL 5113 2094 \nQ 5113 2597 4934 2840 \nQ 4756 3084 4391 3084 \nQ 3944 3084 3684 2787 \nQ 3425 2491 3425 1978 \nL 3425 0 \nL 2847 0 \nL 2847 2094 \nQ 2847 2600 2669 2842 \nQ 2491 3084 2119 3084 \nQ 1678 3084 1418 2786 \nQ 1159 2488 1159 1978 \nL 1159 0 \nL 581 0 \nL 581 3500 \nL 1159 3500 \nL 1159 2956 \nQ 1356 3278 1631 3431 \nQ 1906 3584 2284 3584 \nQ 2666 3584 2933 3390 \nQ 3200 3197 3328 2828 \nz\n\" id=\"DejaVuSans-6d\" transform=\"scale(0.015625)\"/>\n      <path d=\"M 1159 525 \nL 1159 -1331 \nL 581 -1331 \nL 581 3500 \nL 1159 3500 \nL 1159 2969 \nQ 1341 3281 1617 3432 \nQ 1894 3584 2278 3584 \nQ 2916 3584 3314 3078 \nQ 3713 2572 3713 1747 \nQ 3713 922 3314 415 \nQ 2916 -91 2278 -91 \nQ 1894 -91 1617 61 \nQ 1341 213 1159 525 \nz\nM 3116 1747 \nQ 3116 2381 2855 2742 \nQ 2594 3103 2138 3103 \nQ 1681 3103 1420 2742 \nQ 1159 2381 1159 1747 \nQ 1159 1113 1420 752 \nQ 1681 391 2138 391 \nQ 2594 391 2855 752 \nQ 3116 1113 3116 1747 \nz\n\" id=\"DejaVuSans-70\" transform=\"scale(0.015625)\"/>\n      <path d=\"M 603 4863 \nL 1178 4863 \nL 1178 0 \nL 603 0 \nL 603 4863 \nz\n\" id=\"DejaVuSans-6c\" transform=\"scale(0.015625)\"/>\n     </defs>\n     <use xlink:href=\"#DejaVuSans-44\"/>\n     <use x=\"77.001953\" xlink:href=\"#DejaVuSans-61\"/>\n     <use x=\"138.28125\" xlink:href=\"#DejaVuSans-74\"/>\n     <use x=\"177.490234\" xlink:href=\"#DejaVuSans-61\"/>\n     <use x=\"238.769531\" xlink:href=\"#DejaVuSans-73\"/>\n     <use x=\"290.869141\" xlink:href=\"#DejaVuSans-65\"/>\n     <use x=\"352.392578\" xlink:href=\"#DejaVuSans-74\"/>\n     <use x=\"391.601562\" xlink:href=\"#DejaVuSans-20\"/>\n     <use x=\"423.388672\" xlink:href=\"#DejaVuSans-73\"/>\n     <use x=\"475.488281\" xlink:href=\"#DejaVuSans-61\"/>\n     <use x=\"536.767578\" xlink:href=\"#DejaVuSans-6d\"/>\n     <use x=\"634.179688\" xlink:href=\"#DejaVuSans-70\"/>\n     <use x=\"697.65625\" xlink:href=\"#DejaVuSans-6c\"/>\n     <use x=\"725.439453\" xlink:href=\"#DejaVuSans-65\"/>\n     <use x=\"786.962891\" xlink:href=\"#DejaVuSans-73\"/>\n    </g>\n   </g>\n   <g id=\"legend_1\">\n    <g id=\"patch_7\">\n     <path d=\"M 200.5125 147.21625 \nL 268.360937 147.21625 \nQ 270.360937 147.21625 270.360937 145.21625 \nL 270.360937 116.86 \nQ 270.360937 114.86 268.360937 114.86 \nL 200.5125 114.86 \nQ 198.5125 114.86 198.5125 116.86 \nL 198.5125 145.21625 \nQ 198.5125 147.21625 200.5125 147.21625 \nz\n\" style=\"fill:#ffffff;opacity:0.8;stroke:#cccccc;stroke-linejoin:miter;\"/>\n    </g>\n    <g id=\"PathCollection_3\">\n     <g>\n      <use style=\"fill:#1f77b4;stroke:#333333;\" x=\"212.5125\" xlink:href=\"#m7eddab6ae6\" y=\"123.833437\"/>\n     </g>\n    </g>\n    <g id=\"text_19\">\n     <!-- Class 0 -->\n     <g transform=\"translate(230.5125 126.458437)scale(0.1 -0.1)\">\n      <defs>\n       <path d=\"M 4122 4306 \nL 4122 3641 \nQ 3803 3938 3442 4084 \nQ 3081 4231 2675 4231 \nQ 1875 4231 1450 3742 \nQ 1025 3253 1025 2328 \nQ 1025 1406 1450 917 \nQ 1875 428 2675 428 \nQ 3081 428 3442 575 \nQ 3803 722 4122 1019 \nL 4122 359 \nQ 3791 134 3420 21 \nQ 3050 -91 2638 -91 \nQ 1578 -91 968 557 \nQ 359 1206 359 2328 \nQ 359 3453 968 4101 \nQ 1578 4750 2638 4750 \nQ 3056 4750 3426 4639 \nQ 3797 4528 4122 4306 \nz\n\" id=\"DejaVuSans-43\" transform=\"scale(0.015625)\"/>\n      </defs>\n      <use xlink:href=\"#DejaVuSans-43\"/>\n      <use x=\"69.824219\" xlink:href=\"#DejaVuSans-6c\"/>\n      <use x=\"97.607422\" xlink:href=\"#DejaVuSans-61\"/>\n      <use x=\"158.886719\" xlink:href=\"#DejaVuSans-73\"/>\n      <use x=\"210.986328\" xlink:href=\"#DejaVuSans-73\"/>\n      <use x=\"263.085938\" xlink:href=\"#DejaVuSans-20\"/>\n      <use x=\"294.873047\" xlink:href=\"#DejaVuSans-30\"/>\n     </g>\n    </g>\n    <g id=\"PathCollection_4\">\n     <g>\n      <use style=\"fill:#ff7f0e;stroke:#333333;\" x=\"212.5125\" xlink:href=\"#m63dba2292a\" y=\"138.511562\"/>\n     </g>\n    </g>\n    <g id=\"text_20\">\n     <!-- Class 1 -->\n     <g transform=\"translate(230.5125 141.136562)scale(0.1 -0.1)\">\n      <use xlink:href=\"#DejaVuSans-43\"/>\n      <use x=\"69.824219\" xlink:href=\"#DejaVuSans-6c\"/>\n      <use x=\"97.607422\" xlink:href=\"#DejaVuSans-61\"/>\n      <use x=\"158.886719\" xlink:href=\"#DejaVuSans-73\"/>\n      <use x=\"210.986328\" xlink:href=\"#DejaVuSans-73\"/>\n      <use x=\"263.085938\" xlink:href=\"#DejaVuSans-20\"/>\n      <use x=\"294.873047\" xlink:href=\"#DejaVuSans-31\"/>\n     </g>\n    </g>\n   </g>\n  </g>\n </g>\n <defs>\n  <clipPath id=\"pc4148d79c4\">\n   <rect height=\"217.44\" width=\"223.2\" x=\"52.160938\" y=\"22.318125\"/>\n  </clipPath>\n </defs>\n</svg>\n",
      "text/plain": [
       "<Figure size 288x288 with 1 Axes>"
      ]
     },
     "metadata": {
      "needs_background": "light"
     },
     "output_type": "display_data"
    }
   ],
   "source": [
    "visualize_samples(dataset.data, dataset.label)\n",
    "plt.show()"
   ]
  },
  {
   "cell_type": "markdown",
   "metadata": {},
   "source": [
    "#### The data loader class"
   ]
  },
  {
   "cell_type": "code",
   "execution_count": 42,
   "metadata": {},
   "outputs": [],
   "source": [
    "data_loader = data.DataLoader(dataset, batch_size=8, shuffle=True)"
   ]
  },
  {
   "cell_type": "code",
   "execution_count": 43,
   "metadata": {},
   "outputs": [
    {
     "name": "stdout",
     "output_type": "stream",
     "text": [
      "Data inputs torch.Size([8, 2]) \n",
      " tensor([[-0.0890,  0.8608],\n",
      "        [ 1.0905, -0.0128],\n",
      "        [ 0.7967,  0.2268],\n",
      "        [-0.0688,  0.0371],\n",
      "        [ 0.8732, -0.2240],\n",
      "        [-0.0559, -0.0282],\n",
      "        [ 0.9277,  0.0978],\n",
      "        [ 1.0150,  0.9689]])\n",
      "Data labels torch.Size([8]) \n",
      " tensor([1, 1, 1, 0, 1, 0, 1, 0])\n"
     ]
    }
   ],
   "source": [
    "# next(iter(...)) catches the first batch of the data loader\n",
    "# If shuffle is True, this will return a different batch every time we run this cell\n",
    "# For iterating over the whole dataset, we can simple use \"for batch in data_loader: ...\"\n",
    "data_inputs, data_labels = next(iter(data_loader))\n",
    "\n",
    "# The shape of the outputs are [batch_size, d_1, ..., d_N] where d_1, ... , d_N are the\n",
    "# dimensions of the data point returned from the dataset class\n",
    "print(\"Data inputs\", data_inputs.shape, \"\\n\", data_inputs)\n",
    "print(\"Data labels\", data_labels.shape, \"\\n\", data_labels)"
   ]
  },
  {
   "cell_type": "markdown",
   "metadata": {},
   "source": [
    "### Optimization"
   ]
  },
  {
   "cell_type": "markdown",
   "metadata": {},
   "source": [
    "#### loss modules"
   ]
  },
  {
   "cell_type": "code",
   "execution_count": 44,
   "metadata": {},
   "outputs": [],
   "source": [
    "loss_module = nn.BCEWithLogitsLoss()"
   ]
  },
  {
   "cell_type": "markdown",
   "metadata": {},
   "source": [
    "#### Stochastic Gradient Descent"
   ]
  },
  {
   "cell_type": "code",
   "execution_count": 45,
   "metadata": {},
   "outputs": [],
   "source": [
    "# Input to the optimizer are the prameters of the model: model.parameters()\n",
    "optimizer = torch.optim.SGD(model.parameters(), lr=0.1)"
   ]
  },
  {
   "cell_type": "markdown",
   "metadata": {},
   "source": [
    "### Training"
   ]
  },
  {
   "cell_type": "code",
   "execution_count": 46,
   "metadata": {},
   "outputs": [],
   "source": [
    "train_dataset = XORDataset(size=1000)\n",
    "train_data_loader = data.DataLoader(train_dataset, batch_size=128, shuffle=True)"
   ]
  },
  {
   "cell_type": "code",
   "execution_count": 47,
   "metadata": {},
   "outputs": [
    {
     "data": {
      "text/plain": [
       "SimpleClassifier(\n",
       "  (linear1): Linear(in_features=2, out_features=4, bias=True)\n",
       "  (act_fn): Tanh()\n",
       "  (linear2): Linear(in_features=4, out_features=1, bias=True)\n",
       ")"
      ]
     },
     "execution_count": 47,
     "metadata": {},
     "output_type": "execute_result"
    }
   ],
   "source": [
    "# Push model to device. Has to be only done once\n",
    "model.to(device)"
   ]
  },
  {
   "cell_type": "code",
   "execution_count": 48,
   "metadata": {},
   "outputs": [],
   "source": [
    "def train_model(model, optimizer, data_loader, loss_module, num_epochs=100):\n",
    "    # Set model to train mode\n",
    "    model.train()\n",
    "\n",
    "    # Training loop\n",
    "    for epoch in tqdm(range(num_epochs)):\n",
    "        for data_inputs, data_labels in data_loader:\n",
    "\n",
    "            # Step 1: Move input data to device (only strictly necessary if we use GPU)\n",
    "            data_inputs = data_inputs.to(device)\n",
    "            data_labels = data_labels.to(device)\n",
    "\n",
    "            # Step 2: Run the model on the input data\n",
    "            preds = model(data_inputs)\n",
    "            preds = preds.squeeze(dim=1)  # Output is [Batch size, 1], but we want [Batch size]\n",
    "\n",
    "            # Step 3: Calculate the loss\n",
    "            loss = loss_module(preds, data_labels.float())\n",
    "\n",
    "            # Step 4: Perform backpropagation\n",
    "            # Before calculating the gradients, we need to ensure that they are all zero.\n",
    "            # The gradients would not be overwritten, but actually added to the existing ones.\n",
    "            optimizer.zero_grad()\n",
    "            # Perform backpropagation\n",
    "            loss.backward()\n",
    "\n",
    "            # Step 5: Update the parameters\n",
    "            optimizer.step()"
   ]
  },
  {
   "cell_type": "code",
   "execution_count": 49,
   "metadata": {},
   "outputs": [
    {
     "data": {
      "application/vnd.jupyter.widget-view+json": {
       "model_id": "d142bac0316a4d1ca31c4bbe419c276f",
       "version_major": 2,
       "version_minor": 0
      },
      "text/plain": [
       "  0%|          | 0/100 [00:00<?, ?it/s]"
      ]
     },
     "metadata": {},
     "output_type": "display_data"
    }
   ],
   "source": [
    "train_model(model, optimizer, train_data_loader, loss_module)"
   ]
  },
  {
   "cell_type": "markdown",
   "metadata": {},
   "source": [
    "#### Saving a model"
   ]
  },
  {
   "cell_type": "code",
   "execution_count": 50,
   "metadata": {},
   "outputs": [
    {
     "name": "stdout",
     "output_type": "stream",
     "text": [
      "OrderedDict([('linear1.weight', tensor([[-2.0204, -2.3115],\n",
      "        [ 1.3085, -1.8443],\n",
      "        [-1.5097, -0.6611],\n",
      "        [-0.7672, -0.9231]], device='cuda:0')), ('linear1.bias', tensor([ 0.7389, -0.9149,  1.4694, -0.1811], device='cuda:0')), ('linear2.weight', tensor([[-2.5598,  1.9691,  2.1621, -0.4404]], device='cuda:0')), ('linear2.bias', tensor([-1.0178], device='cuda:0'))])\n"
     ]
    }
   ],
   "source": [
    "state_dict = model.state_dict()\n",
    "print(state_dict)"
   ]
  },
  {
   "cell_type": "code",
   "execution_count": 51,
   "metadata": {},
   "outputs": [],
   "source": [
    "# torch.save(object, filename). For the filename, any extension can be used\n",
    "torch.save(state_dict, \"our_model.tar\")"
   ]
  },
  {
   "cell_type": "code",
   "execution_count": 52,
   "metadata": {},
   "outputs": [
    {
     "name": "stdout",
     "output_type": "stream",
     "text": [
      "Original model\n",
      " OrderedDict([('linear1.weight', tensor([[-2.0204, -2.3115],\n",
      "        [ 1.3085, -1.8443],\n",
      "        [-1.5097, -0.6611],\n",
      "        [-0.7672, -0.9231]], device='cuda:0')), ('linear1.bias', tensor([ 0.7389, -0.9149,  1.4694, -0.1811], device='cuda:0')), ('linear2.weight', tensor([[-2.5598,  1.9691,  2.1621, -0.4404]], device='cuda:0')), ('linear2.bias', tensor([-1.0178], device='cuda:0'))])\n",
      "\n",
      "Loaded model\n",
      " OrderedDict([('linear1.weight', tensor([[-2.0204, -2.3115],\n",
      "        [ 1.3085, -1.8443],\n",
      "        [-1.5097, -0.6611],\n",
      "        [-0.7672, -0.9231]])), ('linear1.bias', tensor([ 0.7389, -0.9149,  1.4694, -0.1811])), ('linear2.weight', tensor([[-2.5598,  1.9691,  2.1621, -0.4404]])), ('linear2.bias', tensor([-1.0178]))])\n"
     ]
    }
   ],
   "source": [
    "# Load state dict from the disk (make sure it is the same name as above)\n",
    "state_dict = torch.load(\"our_model.tar\")\n",
    "\n",
    "# Create a new model and load the state\n",
    "new_model = SimpleClassifier(num_inputs=2, num_hidden=4, num_outputs=1)\n",
    "new_model.load_state_dict(state_dict)\n",
    "\n",
    "# Verify that the parameters are the same\n",
    "print(\"Original model\\n\", model.state_dict())\n",
    "print(\"\\nLoaded model\\n\", new_model.state_dict())"
   ]
  },
  {
   "cell_type": "markdown",
   "metadata": {},
   "source": [
    "### Evaluation"
   ]
  },
  {
   "cell_type": "code",
   "execution_count": 53,
   "metadata": {},
   "outputs": [],
   "source": [
    "test_dataset = XORDataset(size=500)\n",
    "# drop_last -> Don't drop the last batch although it is smaller than 128\n",
    "test_data_loader = data.DataLoader(test_dataset, batch_size=128, shuffle=False, drop_last=False)"
   ]
  },
  {
   "cell_type": "code",
   "execution_count": 54,
   "metadata": {},
   "outputs": [],
   "source": [
    "def eval_model(model, data_loader):\n",
    "    model.eval()  # Set model to eval mode\n",
    "    true_preds, num_preds = 0., 0.\n",
    "    \n",
    "    with torch.no_grad():  # Deactivate gradients for the following code\n",
    "        for data_inputs, data_labels in data_loader:\n",
    "\n",
    "            # Determine prediction of model on dev set\n",
    "            data_inputs, data_labels = data_inputs.to(device), data_labels.to(device)\n",
    "            preds = model(data_inputs)\n",
    "            preds = preds.squeeze(dim=1)\n",
    "            preds = torch.sigmoid(preds)  # Sigmoid to map predictions between 0 and 1\n",
    "            pred_labels = (preds >= 0.5).long()  # Binarize predictions to 0 and 1\n",
    "\n",
    "            # Keep records of predictions for the accuracy metric (true_preds=TP+TN, num_preds=TP+TN+FP+FN)\n",
    "            true_preds += (pred_labels == data_labels).sum()\n",
    "            num_preds += data_labels.shape[0]\n",
    "    \n",
    "    acc = true_preds / num_preds\n",
    "    print(f\"Accuracy of the model: {100.0 * acc: 4.2f}%\")"
   ]
  },
  {
   "cell_type": "code",
   "execution_count": 55,
   "metadata": {},
   "outputs": [
    {
     "name": "stdout",
     "output_type": "stream",
     "text": [
      "Accuracy of the model:  100.00%\n"
     ]
    }
   ],
   "source": [
    "eval_model(model, test_data_loader)"
   ]
  },
  {
   "cell_type": "markdown",
   "metadata": {},
   "source": [
    "#### Visualizing classification boundaries"
   ]
  },
  {
   "cell_type": "code",
   "execution_count": null,
   "metadata": {},
   "outputs": [],
   "source": [
    "@torch.no_grad()  # Decorator, same effect as \"with torch.no_grad(): ...\" over the whole function.\n",
    "def visualize_classification(model, data, label):\n",
    "    if isinstance(data, torch.Tensor):\n",
    "        data = data.cpu().numpy()\n",
    "    if isinstance(label, torch.Tensor):\n",
    "        label = label.cpu().numpy()\n",
    "    data_0 = data[label == 0]\n",
    "    data_1 = data[label == 1]\n",
    "\n",
    "    plt.figure(figsize=(4, 4))\n",
    "    plt.scatter(data_0[:, 0], data_0[:, 1], edgecolor=\"#333\", label=\"Class 0\")\n",
    "    plt.scatter(data_1[:, 0], data_1[:, 1], edgecolor=\"#333\", label=\"Class 1\")\n",
    "    plt.title(\"Dataset samples\")\n",
    "    plt.ylabel(r\"$x_2$\")\n",
    "    plt.xlabel(r\"$x_1$\")\n",
    "    plt.legend()\n",
    "\n",
    "    # Let's make use of a lot of operations we have learned above\n",
    "    model.to(device)\n",
    "    c0 = torch.Tensor(to_rgba(\"C0\")).to(device)\n",
    "    c1 = torch.Tensor(to_rgba(\"C1\")).to(device)\n",
    "    x1 = torch.arange(-0.5, 1.5, step=0.01, device=device)\n",
    "    x2 = torch.arange(-0.5, 1.5, step=0.01, device=device)\n",
    "    xx1, xx2 = torch.meshgrid(x1, x2)  # Meshgrid function as in numpy\n",
    "    model_inputs = torch.stack([xx1, xx2], dim=1)\n",
    "    preds = model(model_inputs)\n",
    "    preds = torch.sigmoid(preds)\n",
    "    # Specifying \"None\" in a dimension creates a new one\n",
    "    output_image = preds * c0[None, None] + (1 - preds) * c1[None, None]\n",
    "    output_image = (\n",
    "        output_image.cpu().numpy()\n",
    "    )  # Convert to numpy array. This only works for tensors on CPU, hence first push to CPU\n",
    "    plt.imshow(output_image, origin=\"upper\", extent=(-0.5, 1.5, -0.5, 1.5))\n",
    "    plt.grid(False)"
   ]
  }
 ],
 "metadata": {
  "interpreter": {
   "hash": "d4d1e4263499bec80672ea0156c357c1ee493ec2b1c70f0acce89fc37c4a6abe"
  },
  "kernelspec": {
   "display_name": "Python 3.8.12 64-bit ('base': conda)",
   "language": "python",
   "name": "python3"
  },
  "language_info": {
   "codemirror_mode": {
    "name": "ipython",
    "version": 3
   },
   "file_extension": ".py",
   "mimetype": "text/x-python",
   "name": "python",
   "nbconvert_exporter": "python",
   "pygments_lexer": "ipython3",
   "version": "3.8.12"
  },
  "orig_nbformat": 4
 },
 "nbformat": 4,
 "nbformat_minor": 2
}
