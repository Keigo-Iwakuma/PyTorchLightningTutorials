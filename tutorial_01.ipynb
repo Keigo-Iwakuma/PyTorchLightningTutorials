{
 "cells": [
  {
   "cell_type": "markdown",
   "metadata": {},
   "source": [
    "# TUTORIAL 1: Introduction to PyTorch"
   ]
  },
  {
   "cell_type": "markdown",
   "metadata": {},
   "source": [
    "## Setup"
   ]
  },
  {
   "cell_type": "code",
   "execution_count": 1,
   "metadata": {},
   "outputs": [
    {
     "name": "stderr",
     "output_type": "stream",
     "text": [
      "/tmp/ipykernel_9709/796961534.py:13: DeprecationWarning: `set_matplotlib_formats` is deprecated since IPython 7.23, directly use `matplotlib_inline.backend_inline.set_matplotlib_formats()`\n",
      "  set_matplotlib_formats(\"svg\", \"pdf\")\n"
     ]
    }
   ],
   "source": [
    "import time\n",
    "\n",
    "import matplotlib.pyplot as plt\n",
    "import numpy as np\n",
    "import torch\n",
    "import torch.nn as nn\n",
    "import torch.utils.data as data\n",
    "\n",
    "from IPython.display import set_matplotlib_formats\n",
    "from matplotlib.colors import to_rgba\n",
    "from tqdm.notebook import tqdm\n",
    "\n",
    "set_matplotlib_formats(\"svg\", \"pdf\")"
   ]
  },
  {
   "cell_type": "markdown",
   "metadata": {},
   "source": [
    "## The Basics of PyTorch"
   ]
  },
  {
   "cell_type": "code",
   "execution_count": 2,
   "metadata": {},
   "outputs": [
    {
     "name": "stdout",
     "output_type": "stream",
     "text": [
      "Using torch 1.10.0a0+0aef44c\n"
     ]
    }
   ],
   "source": [
    "print(\"Using torch\", torch.__version__)"
   ]
  },
  {
   "cell_type": "code",
   "execution_count": 3,
   "metadata": {},
   "outputs": [
    {
     "data": {
      "text/plain": [
       "<torch._C.Generator at 0x7f129011e8b0>"
      ]
     },
     "execution_count": 3,
     "metadata": {},
     "output_type": "execute_result"
    }
   ],
   "source": [
    "torch.manual_seed(42)  # Setting the seed"
   ]
  },
  {
   "cell_type": "markdown",
   "metadata": {},
   "source": [
    "### Tensors"
   ]
  },
  {
   "cell_type": "markdown",
   "metadata": {},
   "source": [
    "#### Initialization"
   ]
  },
  {
   "cell_type": "code",
   "execution_count": 5,
   "metadata": {},
   "outputs": [
    {
     "name": "stdout",
     "output_type": "stream",
     "text": [
      "tensor([[[-9.1809e-04,  4.5584e-41, -9.1809e-04,  4.5584e-41],\n",
      "         [ 0.0000e+00,  0.0000e+00,  0.0000e+00,  0.0000e+00],\n",
      "         [-3.9993e+02,  4.5583e-41, -3.9993e+02,  4.5583e-41]],\n",
      "\n",
      "        [[ 1.3004e-42,  0.0000e+00,  1.5414e-44,  0.0000e+00],\n",
      "         [-3.9993e+02,  4.5583e-41, -1.7802e+05,  3.0928e-41],\n",
      "         [ 1.4013e-45,  0.0000e+00,  1.7754e+28,  2.1707e-18]]])\n"
     ]
    }
   ],
   "source": [
    "x = torch.Tensor(2, 3, 4)\n",
    "print(x)"
   ]
  },
  {
   "cell_type": "code",
   "execution_count": 6,
   "metadata": {},
   "outputs": [
    {
     "name": "stdout",
     "output_type": "stream",
     "text": [
      "tensor([[1., 2.],\n",
      "        [3., 4.]])\n"
     ]
    }
   ],
   "source": [
    "# Create a tensor from a (nested) list\n",
    "x = torch.Tensor([[1, 2], [3, 4]])\n",
    "print(x)"
   ]
  },
  {
   "cell_type": "code",
   "execution_count": 7,
   "metadata": {},
   "outputs": [
    {
     "name": "stdout",
     "output_type": "stream",
     "text": [
      "tensor([[[0.8823, 0.9150, 0.3829, 0.9593],\n",
      "         [0.3904, 0.6009, 0.2566, 0.7936],\n",
      "         [0.9408, 0.1332, 0.9346, 0.5936]],\n",
      "\n",
      "        [[0.8694, 0.5677, 0.7411, 0.4294],\n",
      "         [0.8854, 0.5739, 0.2666, 0.6274],\n",
      "         [0.2696, 0.4414, 0.2969, 0.8317]]])\n"
     ]
    }
   ],
   "source": [
    "# Create a tensor with random values between 0 and 1 with the shape [2, 3, 4]\n",
    "x = torch.rand(2, 3, 4)\n",
    "print(x)"
   ]
  },
  {
   "cell_type": "code",
   "execution_count": 8,
   "metadata": {},
   "outputs": [
    {
     "name": "stdout",
     "output_type": "stream",
     "text": [
      "Shape: torch.Size([2, 3, 4])\n",
      "Size: torch.Size([2, 3, 4])\n",
      "Size: 2 3 4\n"
     ]
    }
   ],
   "source": [
    "shape = x.shape\n",
    "print(\"Shape:\", shape)\n",
    "\n",
    "size = x.size()\n",
    "print(\"Size:\", size)\n",
    "\n",
    "dim1, dim2, dim3 = x.size()\n",
    "print(\"Size:\", dim1, dim2, dim3)"
   ]
  },
  {
   "cell_type": "markdown",
   "metadata": {},
   "source": [
    "#### Tensor to Numpy, adn Numpy to Tensor"
   ]
  },
  {
   "cell_type": "code",
   "execution_count": 9,
   "metadata": {},
   "outputs": [
    {
     "name": "stdout",
     "output_type": "stream",
     "text": [
      "Numpy array: [[1 2]\n",
      " [3 4]]\n",
      "PyTorch tensor: tensor([[1, 2],\n",
      "        [3, 4]])\n"
     ]
    }
   ],
   "source": [
    "np_arr = np.array([[1, 2], [3, 4]])\n",
    "tensor = torch.from_numpy(np_arr)\n",
    "\n",
    "print(\"Numpy array:\", np_arr)\n",
    "print(\"PyTorch tensor:\", tensor)"
   ]
  },
  {
   "cell_type": "code",
   "execution_count": 10,
   "metadata": {},
   "outputs": [
    {
     "name": "stdout",
     "output_type": "stream",
     "text": [
      "PyTorch tensor: tensor([0, 1, 2, 3])\n",
      "Numpy array: [0 1 2 3]\n"
     ]
    }
   ],
   "source": [
    "tensor = torch.arange(4)\n",
    "np_arr = tensor.numpy()\n",
    "\n",
    "print(\"PyTorch tensor:\", tensor)\n",
    "print(\"Numpy array:\", np_arr)"
   ]
  },
  {
   "cell_type": "markdown",
   "metadata": {},
   "source": [
    "#### Operations"
   ]
  },
  {
   "cell_type": "code",
   "execution_count": 11,
   "metadata": {},
   "outputs": [
    {
     "name": "stdout",
     "output_type": "stream",
     "text": [
      "X1 tensor([[0.1053, 0.2695, 0.3588],\n",
      "        [0.1994, 0.5472, 0.0062]])\n",
      "X2 tensor([[0.9516, 0.0753, 0.8860],\n",
      "        [0.5832, 0.3376, 0.8090]])\n",
      "Y tensor([[1.0569, 0.3448, 1.2448],\n",
      "        [0.7826, 0.8848, 0.8151]])\n"
     ]
    }
   ],
   "source": [
    "x1 = torch.rand(2, 3)\n",
    "x2 = torch.rand(2, 3)\n",
    "y = x1 + x2\n",
    "\n",
    "print(\"X1\", x1)\n",
    "print(\"X2\", x2)\n",
    "print(\"Y\", y)"
   ]
  },
  {
   "cell_type": "code",
   "execution_count": 12,
   "metadata": {},
   "outputs": [
    {
     "name": "stdout",
     "output_type": "stream",
     "text": [
      "X1 (before): tensor([[0.5779, 0.9040, 0.5547],\n",
      "        [0.3423, 0.6343, 0.3644]])\n",
      "X2 (before): tensor([[0.7104, 0.9464, 0.7890],\n",
      "        [0.2814, 0.7886, 0.5895]])\n",
      "X1 (after): tensor([[0.5779, 0.9040, 0.5547],\n",
      "        [0.3423, 0.6343, 0.3644]])\n",
      "X2 (after): tensor([[1.2884, 1.8504, 1.3437],\n",
      "        [0.6237, 1.4230, 0.9539]])\n"
     ]
    }
   ],
   "source": [
    "x1 = torch.rand(2, 3)\n",
    "x2 = torch.rand(2, 3)\n",
    "print(\"X1 (before):\", x1)\n",
    "print(\"X2 (before):\", x2)\n",
    "\n",
    "x2.add_(x1)\n",
    "print(\"X1 (after):\", x1)\n",
    "print(\"X2 (after):\", x2)"
   ]
  },
  {
   "cell_type": "code",
   "execution_count": 13,
   "metadata": {},
   "outputs": [
    {
     "name": "stdout",
     "output_type": "stream",
     "text": [
      "X tensor([0, 1, 2, 3, 4, 5])\n"
     ]
    }
   ],
   "source": [
    "x = torch.arange(6)\n",
    "print(\"X\", x)"
   ]
  },
  {
   "cell_type": "code",
   "execution_count": 14,
   "metadata": {},
   "outputs": [
    {
     "name": "stdout",
     "output_type": "stream",
     "text": [
      "X tensor([[0, 1, 2],\n",
      "        [3, 4, 5]])\n"
     ]
    }
   ],
   "source": [
    "x = x.view(2, 3)\n",
    "print(\"X\", x)"
   ]
  },
  {
   "cell_type": "code",
   "execution_count": 15,
   "metadata": {},
   "outputs": [
    {
     "name": "stdout",
     "output_type": "stream",
     "text": [
      "X tensor([[0, 3],\n",
      "        [1, 4],\n",
      "        [2, 5]])\n"
     ]
    }
   ],
   "source": [
    "x = x.permute(1, 0)  # Swapping dimension 0 and 1\n",
    "print(\"X\", x)"
   ]
  },
  {
   "cell_type": "code",
   "execution_count": 16,
   "metadata": {},
   "outputs": [
    {
     "name": "stdout",
     "output_type": "stream",
     "text": [
      "X tensor([[0, 1, 2],\n",
      "        [3, 4, 5]])\n"
     ]
    }
   ],
   "source": [
    "x = torch.arange(6)\n",
    "x = x.view(2, 3)\n",
    "print(\"X\", x)"
   ]
  },
  {
   "cell_type": "code",
   "execution_count": 17,
   "metadata": {},
   "outputs": [
    {
     "name": "stdout",
     "output_type": "stream",
     "text": [
      "W tensor([[0, 1, 2],\n",
      "        [3, 4, 5],\n",
      "        [6, 7, 8]])\n"
     ]
    }
   ],
   "source": [
    "W = torch.arange(9).view(3, 3)  # We can also stack multiple operations in a single line\n",
    "print(\"W\", W)"
   ]
  },
  {
   "cell_type": "code",
   "execution_count": 18,
   "metadata": {},
   "outputs": [
    {
     "name": "stdout",
     "output_type": "stream",
     "text": [
      "h tensor([[15, 18, 21],\n",
      "        [42, 54, 66]])\n"
     ]
    }
   ],
   "source": [
    "h = torch.matmul(x, W)  # Verify the result by calculating it by hand too!\n",
    "print(\"h\", h)"
   ]
  },
  {
   "cell_type": "markdown",
   "metadata": {},
   "source": [
    "#### Indexing"
   ]
  },
  {
   "cell_type": "code",
   "execution_count": 19,
   "metadata": {},
   "outputs": [
    {
     "name": "stdout",
     "output_type": "stream",
     "text": [
      "X tensor([[ 0,  1,  2,  3],\n",
      "        [ 4,  5,  6,  7],\n",
      "        [ 8,  9, 10, 11]])\n"
     ]
    }
   ],
   "source": [
    "x = torch.arange(12).view(3, 4)\n",
    "print(\"X\", x)"
   ]
  },
  {
   "cell_type": "code",
   "execution_count": 20,
   "metadata": {},
   "outputs": [
    {
     "name": "stdout",
     "output_type": "stream",
     "text": [
      "tensor([1, 5, 9])\n"
     ]
    }
   ],
   "source": [
    "print(x[:, 1])"
   ]
  },
  {
   "cell_type": "code",
   "execution_count": 21,
   "metadata": {},
   "outputs": [
    {
     "name": "stdout",
     "output_type": "stream",
     "text": [
      "tensor([0, 1, 2, 3])\n"
     ]
    }
   ],
   "source": [
    "print(x[0])  # First row"
   ]
  },
  {
   "cell_type": "code",
   "execution_count": 22,
   "metadata": {},
   "outputs": [
    {
     "name": "stdout",
     "output_type": "stream",
     "text": [
      "tensor([3, 7])\n"
     ]
    }
   ],
   "source": [
    "print(x[:2, -1])  # First two rows, last column"
   ]
  },
  {
   "cell_type": "code",
   "execution_count": 23,
   "metadata": {},
   "outputs": [
    {
     "name": "stdout",
     "output_type": "stream",
     "text": [
      "tensor([[ 4,  5,  6,  7],\n",
      "        [ 8,  9, 10, 11]])\n"
     ]
    }
   ],
   "source": [
    "print(x[1:3, :])  # Middle tow rows"
   ]
  },
  {
   "cell_type": "markdown",
   "metadata": {},
   "source": [
    "### Dynamic Computation Graph and Backpropagation"
   ]
  },
  {
   "cell_type": "code",
   "execution_count": 24,
   "metadata": {},
   "outputs": [
    {
     "name": "stdout",
     "output_type": "stream",
     "text": [
      "False\n"
     ]
    }
   ],
   "source": [
    "x = torch.ones((3,))\n",
    "print(x.requires_grad)"
   ]
  },
  {
   "cell_type": "code",
   "execution_count": 25,
   "metadata": {},
   "outputs": [
    {
     "name": "stdout",
     "output_type": "stream",
     "text": [
      "True\n"
     ]
    }
   ],
   "source": [
    "x.requires_grad_(True)\n",
    "print(x.requires_grad)"
   ]
  },
  {
   "cell_type": "code",
   "execution_count": 26,
   "metadata": {},
   "outputs": [
    {
     "name": "stdout",
     "output_type": "stream",
     "text": [
      "X tensor([0., 1., 2.], requires_grad=True)\n"
     ]
    }
   ],
   "source": [
    "x = torch.arange(3, dtype=torch.float32, requires_grad=True)  # Only float tensors can have gradients\n",
    "print(\"X\", x)"
   ]
  },
  {
   "cell_type": "code",
   "execution_count": 27,
   "metadata": {},
   "outputs": [
    {
     "name": "stdout",
     "output_type": "stream",
     "text": [
      "Y tensor(12.6667, grad_fn=<MeanBackward0>)\n"
     ]
    }
   ],
   "source": [
    "a = x + 2\n",
    "b = a ** 2\n",
    "c = b + 3\n",
    "y = c.mean()\n",
    "print(\"Y\", y)"
   ]
  },
  {
   "cell_type": "code",
   "execution_count": 28,
   "metadata": {},
   "outputs": [],
   "source": [
    "y.backward()"
   ]
  },
  {
   "cell_type": "code",
   "execution_count": 29,
   "metadata": {},
   "outputs": [
    {
     "name": "stdout",
     "output_type": "stream",
     "text": [
      "tensor([1.3333, 2.0000, 2.6667])\n"
     ]
    }
   ],
   "source": [
    "print(x.grad)"
   ]
  },
  {
   "cell_type": "markdown",
   "metadata": {},
   "source": [
    "### GPU support"
   ]
  },
  {
   "cell_type": "code",
   "execution_count": 30,
   "metadata": {},
   "outputs": [
    {
     "name": "stdout",
     "output_type": "stream",
     "text": [
      "Is the GPU available? True\n"
     ]
    }
   ],
   "source": [
    "gpu_avail = torch.cuda.is_available()\n",
    "print(f\"Is the GPU available? {gpu_avail}\")"
   ]
  },
  {
   "cell_type": "code",
   "execution_count": 31,
   "metadata": {},
   "outputs": [
    {
     "name": "stdout",
     "output_type": "stream",
     "text": [
      "Device cuda\n"
     ]
    }
   ],
   "source": [
    "device = torch.device(\"cuda\" if torch.cuda.is_available() else \"cpu\")\n",
    "print(\"Device\", device)"
   ]
  },
  {
   "cell_type": "code",
   "execution_count": 32,
   "metadata": {},
   "outputs": [
    {
     "name": "stdout",
     "output_type": "stream",
     "text": [
      "X tensor([[0., 0., 0.],\n",
      "        [0., 0., 0.]], device='cuda:0')\n"
     ]
    }
   ],
   "source": [
    "x = torch.zeros(2, 3)\n",
    "x = x.to(device)\n",
    "print(\"X\", x)"
   ]
  },
  {
   "cell_type": "code",
   "execution_count": 33,
   "metadata": {},
   "outputs": [
    {
     "name": "stdout",
     "output_type": "stream",
     "text": [
      "CPU time: 0.54500s\n",
      "GPU time: 0.00009s\n"
     ]
    }
   ],
   "source": [
    "x = torch.randn(5000, 5000)\n",
    "\n",
    "# CPU version\n",
    "start_time = time.time()\n",
    "_ = torch.matmul(x, x)\n",
    "end_time = time.time()\n",
    "print(f\"CPU time: {(end_time - start_time):6.5f}s\")\n",
    "\n",
    "# GPU version\n",
    "x = x.to(device)\n",
    "# The first operation on a CUDA device can be slow as it has to establish a CPU-GPU communication first.\n",
    "# Hence, we run an arbitrary command first without timing it for a fair comparizon.\n",
    "if torch.cuda.is_available():\n",
    "    _ = torch.matmul(x * 0.0, x)\n",
    "start_time = time.time()\n",
    "_ = torch.matmul(x, x)\n",
    "end_time = time.time()\n",
    "print(f\"GPU time: {(end_time - start_time):6.5f}s\")"
   ]
  },
  {
   "cell_type": "code",
   "execution_count": 34,
   "metadata": {},
   "outputs": [],
   "source": [
    "# GPU operations have a separate seed we also want to set\n",
    "if torch.cuda.is_available():\n",
    "    torch.cuda.manual_seed(42)\n",
    "    torch.cuda.manual_seed_all(42)\n",
    "\n",
    "# Additionally, some operations on a GPU are implemented stochastic for efficiency\n",
    "# We want to ensure that all operations are deterministic on GPU (if used) for reproducibility\n",
    "torch.backends.cudnn.deterministic = True\n",
    "torch.backends.cudnn.benchmark = False"
   ]
  },
  {
   "cell_type": "markdown",
   "metadata": {},
   "source": [
    "## Learning by example: Continuous XOR"
   ]
  },
  {
   "cell_type": "markdown",
   "metadata": {},
   "source": [
    "### The model"
   ]
  },
  {
   "cell_type": "markdown",
   "metadata": {},
   "source": [
    "#### nn.Module"
   ]
  },
  {
   "cell_type": "code",
   "execution_count": null,
   "metadata": {},
   "outputs": [],
   "source": [
    "class MyModule(nn.Module):\n",
    "    def __init__(self):\n",
    "        super().__init__()\n",
    "        # some init for my module\n",
    "    \n",
    "    def forward(self, x):\n",
    "        # Function for performing the calculation of the module.\n",
    "        pass"
   ]
  },
  {
   "cell_type": "markdown",
   "metadata": {},
   "source": [
    "#### Simple classifier"
   ]
  },
  {
   "cell_type": "code",
   "execution_count": 35,
   "metadata": {},
   "outputs": [],
   "source": [
    "class SimpleClassifier(nn.Module):\n",
    "    def __init__(self, num_inputs, num_hidden, num_outputs):\n",
    "        super().__init__()\n",
    "        # Initialize the modules we need to build the network\n",
    "        self.linear1 = nn.Linear(num_inputs, num_hidden)\n",
    "        self.act_fn = nn.Tanh()\n",
    "        self.linear2 = nn.Linear(num_hidden, num_outputs)\n",
    "    \n",
    "    def forward(self, x):\n",
    "        # Perform the calculation of the model to detemine the prediction\n",
    "        x = self.linear1(x)\n",
    "        x = self.act_fn(x)\n",
    "        x = self.linear2(x)\n",
    "        return x"
   ]
  },
  {
   "cell_type": "code",
   "execution_count": 36,
   "metadata": {},
   "outputs": [
    {
     "name": "stdout",
     "output_type": "stream",
     "text": [
      "SimpleClassifier(\n",
      "  (linear1): Linear(in_features=2, out_features=4, bias=True)\n",
      "  (act_fn): Tanh()\n",
      "  (linear2): Linear(in_features=4, out_features=1, bias=True)\n",
      ")\n"
     ]
    }
   ],
   "source": [
    "model = SimpleClassifier(num_inputs=2, num_hidden=4, num_outputs=1)\n",
    "# Printing a module shows all its submodules\n",
    "print(model)"
   ]
  },
  {
   "cell_type": "code",
   "execution_count": 37,
   "metadata": {},
   "outputs": [
    {
     "name": "stdout",
     "output_type": "stream",
     "text": [
      "Parameter linear1.weight, shape torch.Size([4, 2])\n",
      "Parameter linear1.bias, shape torch.Size([4])\n",
      "Parameter linear2.weight, shape torch.Size([1, 4])\n",
      "Parameter linear2.bias, shape torch.Size([1])\n"
     ]
    }
   ],
   "source": [
    "for name, param in model.named_parameters():\n",
    "    print(f\"Parameter {name}, shape {param.shape}\")"
   ]
  },
  {
   "cell_type": "markdown",
   "metadata": {},
   "source": [
    "### The data"
   ]
  },
  {
   "cell_type": "markdown",
   "metadata": {},
   "source": [
    "#### The dataset class"
   ]
  },
  {
   "cell_type": "code",
   "execution_count": 38,
   "metadata": {},
   "outputs": [],
   "source": [
    "class XORDataset(data.Dataset):\n",
    "    def __init__(self, size, std=0.1):\n",
    "        \"\"\"\n",
    "        Inputs:\n",
    "            size - Number of data points we want to generate\n",
    "            std - Standard deviation of the noise (see generate_continuous_xor function)\n",
    "        \"\"\"\n",
    "        super().__init__()\n",
    "        self.size = size\n",
    "        self.std = std\n",
    "        self.generate_continuous_xor()\n",
    "    \n",
    "    def generate_continuous_xor(self):\n",
    "        # Each data point in the XOR dataset has tow variables, x and y, that can be either 0 or 1\n",
    "        # The label is their XOR combination, i.e. 1 if only x or y is 1 while the other is 0.\n",
    "        # If x = y, the label is 0.\n",
    "        data = torch.randint(low=0, high=2, size=(self.size, 2), dtype=torch.float32)\n",
    "        label = (data.sum(dim=1) == 1).to(torch.long)\n",
    "        # To make it slightly more challenging, we add a bit of gaussian noise to the data points.\n",
    "        data += self.std * torch.randn(data.shape)\n",
    "\n",
    "        self.data = data\n",
    "        self.label = label\n",
    "    \n",
    "    def __len__(self):\n",
    "        # Number of data point we have. Alternatively self.data.shape[0], or self.label.shape[0]\n",
    "        return self.size\n",
    "    \n",
    "    def __getitem__(self, idx):\n",
    "        # Return the idx-th data point of the dataset\n",
    "        # If we have multiple things to return (data point and label), we can return them as tuple\n",
    "        data_point = self.data[idx]\n",
    "        data_label = self.label[idx]\n",
    "        return data_point, data_label"
   ]
  },
  {
   "cell_type": "code",
   "execution_count": 39,
   "metadata": {},
   "outputs": [
    {
     "name": "stdout",
     "output_type": "stream",
     "text": [
      "Size of dataset: 200\n",
      "Data point 0: (tensor([0.9632, 0.1117]), tensor(1))\n"
     ]
    }
   ],
   "source": [
    "dataset = XORDataset(size=200)\n",
    "print(\"Size of dataset:\", len(dataset))\n",
    "print(\"Data point 0:\", dataset[0])"
   ]
  },
  {
   "cell_type": "code",
   "execution_count": 40,
   "metadata": {},
   "outputs": [],
   "source": [
    "def visualize_samples(data, label):\n",
    "    if isinstance(data, torch.Tensor):\n",
    "        data = data.cpu().numpy()\n",
    "    if isinstance(label, torch.Tensor):\n",
    "        label = label.cpu().numpy()\n",
    "    data_0 = data[label == 0]\n",
    "    data_1 = data[label == 1]\n",
    "\n",
    "    plt.figure(figsize=(4, 4))\n",
    "    plt.scatter(data_0[:, 0], data_0[:, 1], edgecolor=\"#333\", label=\"Class 0\")\n",
    "    plt.scatter(data_1[:, 0], data_1[:, 1], edgecolor=\"#333\", label=\"Class 1\")\n",
    "    plt.title(\"Dataset samples\")\n",
    "    plt.ylabel(r\"$x_2$\")\n",
    "    plt.xlabel(r\"$x_1$\")\n",
    "    plt.legend()"
   ]
  },
  {
   "cell_type": "code",
   "execution_count": 41,
   "metadata": {},
   "outputs": [
    {
     "data": {
      "application/pdf": "[encoded data removed]",
      "image/svg+xml": "<?xml version=\"1.0\" encoding=\"utf-8\" standalone=\"no\"?>\n<!DOCTYPE svg PUBLIC \"-//W3C//DTD SVG 1.1//EN\"\n  \"http://www.w3.org/Graphics/SVG/1.1/DTD/svg11.dtd\">\n<svg height=\"277.314375pt\" version=\"1.1\" viewBox=\"0 0 288.985258 277.314375\" width=\"288.985258pt\" xmlns=\"http://www.w3.org/2000/svg\" xmlns:xlink=\"http://www.w3.org/1999/xlink\">\n <metadata>\n  <rdf:RDF xmlns:cc=\"http://creativecommons.org/ns#\" xmlns:dc=\"http://purl.org/dc/elements/1.1/\" xmlns:rdf=\"http://www.w3.org/1999/02/22-rdf-syntax-ns#\">\n   <cc:Work>\n    <dc:type rdf:resource=\"http://purl.org/dc/dcmitype/StillImage\"/>\n    <dc:date>2021-11-27T13:03:59.277333</dc:date>\n    <dc:format>image/svg+xml</dc:format>\n    <dc:creator>\n     <cc:Agent>\n      <dc:title>Matplotlib v3.4.3, https://matplotlib.org/</dc:title>\n     </cc:Agent>\n    </dc:creator>\n   </cc:Work>\n  </rdf:RDF>\n </metadata>\n <defs>\n  <style type=\"text/css\">*{stroke-linecap:butt;stroke-linejoin:round;}</style>\n </defs>\n <g id=\"figure_1\">\n  <g id=\"patch_1\">\n   <path d=\"M 0 277.314375 \nL 288.985258 277.314375 \nL 288.985258 0 \nL 0 0 \nz\n\" style=\"fill:none;\"/>\n  </g>\n  <g id=\"axes_1\">\n   <g id=\"patch_2\">\n    <path d=\"M 52.160938 239.758125 \nL 275.360937 239.758125 \nL 275.360937 22.318125 \nL 52.160938 22.318125 \nz\n\" style=\"fill:#ffffff;\"/>\n   </g>\n   <g id=\"PathCollection_1\">\n    <defs>\n     <path d=\"M 0 3 \nC 0.795609 3 1.55874 2.683901 2.12132 2.12132 \nC 2.683901 1.55874 3 0.795609 3 0 \nC 3 -0.795609 2.683901 -1.55874 2.12132 -2.12132 \nC 1.55874 -2.683901 0.795609 -3 0 -3 \nC -0.795609 -3 -1.55874 -2.683901 -2.12132 -2.12132 \nC -2.683901 -1.55874 -3 -0.795609 -3 0 \nC -3 0.795609 -2.683901 1.55874 -2.12132 2.12132 \nC -1.55874 2.683901 -0.795609 3 0 3 \nz\n\" id=\"m7eddab6ae6\" style=\"stroke:#333333;\"/>\n    </defs>\n    <g clip-path=\"url(#pc4148d79c4)\">\n     <use style=\"fill:#1f77b4;stroke:#333333;\" x=\"96.31168\" xlink:href=\"#m7eddab6ae6\" y=\"193.325344\"/>\n     <use style=\"fill:#1f77b4;stroke:#333333;\" x=\"232.057657\" xlink:href=\"#m7eddab6ae6\" y=\"62.145049\"/>\n     <use style=\"fill:#1f77b4;stroke:#333333;\" x=\"258.979442\" xlink:href=\"#m7eddab6ae6\" y=\"63.780462\"/>\n     <use style=\"fill:#1f77b4;stroke:#333333;\" x=\"108.913368\" xlink:href=\"#m7eddab6ae6\" y=\"204.409578\"/>\n     <use style=\"fill:#1f77b4;stroke:#333333;\" x=\"101.325808\" xlink:href=\"#m7eddab6ae6\" y=\"205.043015\"/>\n     <use style=\"fill:#1f77b4;stroke:#333333;\" x=\"70.983454\" xlink:href=\"#m7eddab6ae6\" y=\"189.560429\"/>\n     <use style=\"fill:#1f77b4;stroke:#333333;\" x=\"242.885541\" xlink:href=\"#m7eddab6ae6\" y=\"58.566133\"/>\n     <use style=\"fill:#1f77b4;stroke:#333333;\" x=\"232.016709\" xlink:href=\"#m7eddab6ae6\" y=\"51.440521\"/>\n     <use style=\"fill:#1f77b4;stroke:#333333;\" x=\"93.978943\" xlink:href=\"#m7eddab6ae6\" y=\"204.550687\"/>\n     <use style=\"fill:#1f77b4;stroke:#333333;\" x=\"237.538974\" xlink:href=\"#m7eddab6ae6\" y=\"53.572047\"/>\n     <use style=\"fill:#1f77b4;stroke:#333333;\" x=\"103.543109\" xlink:href=\"#m7eddab6ae6\" y=\"200.309835\"/>\n     <use style=\"fill:#1f77b4;stroke:#333333;\" x=\"255.555098\" xlink:href=\"#m7eddab6ae6\" y=\"32.201761\"/>\n     <use style=\"fill:#1f77b4;stroke:#333333;\" x=\"238.058002\" xlink:href=\"#m7eddab6ae6\" y=\"62.589723\"/>\n     <use style=\"fill:#1f77b4;stroke:#333333;\" x=\"232.170061\" xlink:href=\"#m7eddab6ae6\" y=\"57.754453\"/>\n     <use style=\"fill:#1f77b4;stroke:#333333;\" x=\"94.264177\" xlink:href=\"#m7eddab6ae6\" y=\"212.626168\"/>\n     <use style=\"fill:#1f77b4;stroke:#333333;\" x=\"89.231835\" xlink:href=\"#m7eddab6ae6\" y=\"185.037671\"/>\n     <use style=\"fill:#1f77b4;stroke:#333333;\" x=\"251.267421\" xlink:href=\"#m7eddab6ae6\" y=\"90.813692\"/>\n     <use style=\"fill:#1f77b4;stroke:#333333;\" x=\"254.815479\" xlink:href=\"#m7eddab6ae6\" y=\"83.753102\"/>\n     <use style=\"fill:#1f77b4;stroke:#333333;\" x=\"226.105337\" xlink:href=\"#m7eddab6ae6\" y=\"59.138235\"/>\n     <use style=\"fill:#1f77b4;stroke:#333333;\" x=\"82.022892\" xlink:href=\"#m7eddab6ae6\" y=\"209.202243\"/>\n     <use style=\"fill:#1f77b4;stroke:#333333;\" x=\"253.973129\" xlink:href=\"#m7eddab6ae6\" y=\"32.62492\"/>\n     <use style=\"fill:#1f77b4;stroke:#333333;\" x=\"245.15091\" xlink:href=\"#m7eddab6ae6\" y=\"59.955798\"/>\n     <use style=\"fill:#1f77b4;stroke:#333333;\" x=\"114.421987\" xlink:href=\"#m7eddab6ae6\" y=\"175.83743\"/>\n     <use style=\"fill:#1f77b4;stroke:#333333;\" x=\"228.657784\" xlink:href=\"#m7eddab6ae6\" y=\"32.336249\"/>\n     <use style=\"fill:#1f77b4;stroke:#333333;\" x=\"99.781014\" xlink:href=\"#m7eddab6ae6\" y=\"194.777215\"/>\n     <use style=\"fill:#1f77b4;stroke:#333333;\" x=\"227.807175\" xlink:href=\"#m7eddab6ae6\" y=\"51.50491\"/>\n     <use style=\"fill:#1f77b4;stroke:#333333;\" x=\"86.881354\" xlink:href=\"#m7eddab6ae6\" y=\"179.492748\"/>\n     <use style=\"fill:#1f77b4;stroke:#333333;\" x=\"250.727063\" xlink:href=\"#m7eddab6ae6\" y=\"48.77409\"/>\n     <use style=\"fill:#1f77b4;stroke:#333333;\" x=\"246.39628\" xlink:href=\"#m7eddab6ae6\" y=\"61.512745\"/>\n     <use style=\"fill:#1f77b4;stroke:#333333;\" x=\"240.179519\" xlink:href=\"#m7eddab6ae6\" y=\"43.69401\"/>\n     <use style=\"fill:#1f77b4;stroke:#333333;\" x=\"92.34098\" xlink:href=\"#m7eddab6ae6\" y=\"184.373252\"/>\n     <use style=\"fill:#1f77b4;stroke:#333333;\" x=\"104.506115\" xlink:href=\"#m7eddab6ae6\" y=\"209.709719\"/>\n     <use style=\"fill:#1f77b4;stroke:#333333;\" x=\"87.360439\" xlink:href=\"#m7eddab6ae6\" y=\"169.625602\"/>\n     <use style=\"fill:#1f77b4;stroke:#333333;\" x=\"97.745486\" xlink:href=\"#m7eddab6ae6\" y=\"201.318829\"/>\n     <use style=\"fill:#1f77b4;stroke:#333333;\" x=\"112.202457\" xlink:href=\"#m7eddab6ae6\" y=\"200.867622\"/>\n     <use style=\"fill:#1f77b4;stroke:#333333;\" x=\"93.386735\" xlink:href=\"#m7eddab6ae6\" y=\"195.701852\"/>\n     <use style=\"fill:#1f77b4;stroke:#333333;\" x=\"112.962408\" xlink:href=\"#m7eddab6ae6\" y=\"212.211753\"/>\n     <use style=\"fill:#1f77b4;stroke:#333333;\" x=\"213.923524\" xlink:href=\"#m7eddab6ae6\" y=\"39.620323\"/>\n     <use style=\"fill:#1f77b4;stroke:#333333;\" x=\"253.408944\" xlink:href=\"#m7eddab6ae6\" y=\"64.604829\"/>\n     <use style=\"fill:#1f77b4;stroke:#333333;\" x=\"238.202599\" xlink:href=\"#m7eddab6ae6\" y=\"63.759786\"/>\n     <use style=\"fill:#1f77b4;stroke:#333333;\" x=\"93.334759\" xlink:href=\"#m7eddab6ae6\" y=\"205.410605\"/>\n     <use style=\"fill:#1f77b4;stroke:#333333;\" x=\"222.697015\" xlink:href=\"#m7eddab6ae6\" y=\"89.092646\"/>\n     <use style=\"fill:#1f77b4;stroke:#333333;\" x=\"246.067518\" xlink:href=\"#m7eddab6ae6\" y=\"56.781365\"/>\n     <use style=\"fill:#1f77b4;stroke:#333333;\" x=\"97.908356\" xlink:href=\"#m7eddab6ae6\" y=\"212.127081\"/>\n     <use style=\"fill:#1f77b4;stroke:#333333;\" x=\"110.608912\" xlink:href=\"#m7eddab6ae6\" y=\"217.677792\"/>\n     <use style=\"fill:#1f77b4;stroke:#333333;\" x=\"119.278606\" xlink:href=\"#m7eddab6ae6\" y=\"177.02797\"/>\n     <use style=\"fill:#1f77b4;stroke:#333333;\" x=\"229.431275\" xlink:href=\"#m7eddab6ae6\" y=\"71.868079\"/>\n     <use style=\"fill:#1f77b4;stroke:#333333;\" x=\"217.108023\" xlink:href=\"#m7eddab6ae6\" y=\"44.358713\"/>\n     <use style=\"fill:#1f77b4;stroke:#333333;\" x=\"90.421001\" xlink:href=\"#m7eddab6ae6\" y=\"205.813556\"/>\n     <use style=\"fill:#1f77b4;stroke:#333333;\" x=\"230.637614\" xlink:href=\"#m7eddab6ae6\" y=\"68.485687\"/>\n     <use style=\"fill:#1f77b4;stroke:#333333;\" x=\"98.642521\" xlink:href=\"#m7eddab6ae6\" y=\"201.033344\"/>\n     <use style=\"fill:#1f77b4;stroke:#333333;\" x=\"242.296554\" xlink:href=\"#m7eddab6ae6\" y=\"33.609264\"/>\n     <use style=\"fill:#1f77b4;stroke:#333333;\" x=\"95.167044\" xlink:href=\"#m7eddab6ae6\" y=\"188.760034\"/>\n     <use style=\"fill:#1f77b4;stroke:#333333;\" x=\"227.659933\" xlink:href=\"#m7eddab6ae6\" y=\"76.575953\"/>\n     <use style=\"fill:#1f77b4;stroke:#333333;\" x=\"239.162594\" xlink:href=\"#m7eddab6ae6\" y=\"47.436505\"/>\n     <use style=\"fill:#1f77b4;stroke:#333333;\" x=\"70.985535\" xlink:href=\"#m7eddab6ae6\" y=\"190.609003\"/>\n     <use style=\"fill:#1f77b4;stroke:#333333;\" x=\"216.984682\" xlink:href=\"#m7eddab6ae6\" y=\"47.197067\"/>\n     <use style=\"fill:#1f77b4;stroke:#333333;\" x=\"247.342435\" xlink:href=\"#m7eddab6ae6\" y=\"65.6149\"/>\n     <use style=\"fill:#1f77b4;stroke:#333333;\" x=\"82.942512\" xlink:href=\"#m7eddab6ae6\" y=\"196.823089\"/>\n     <use style=\"fill:#1f77b4;stroke:#333333;\" x=\"94.610207\" xlink:href=\"#m7eddab6ae6\" y=\"229.874489\"/>\n     <use style=\"fill:#1f77b4;stroke:#333333;\" x=\"94.065144\" xlink:href=\"#m7eddab6ae6\" y=\"199.872245\"/>\n     <use style=\"fill:#1f77b4;stroke:#333333;\" x=\"75.9265\" xlink:href=\"#m7eddab6ae6\" y=\"200.007537\"/>\n     <use style=\"fill:#1f77b4;stroke:#333333;\" x=\"261.562131\" xlink:href=\"#m7eddab6ae6\" y=\"65.752612\"/>\n     <use style=\"fill:#1f77b4;stroke:#333333;\" x=\"227.651459\" xlink:href=\"#m7eddab6ae6\" y=\"73.759575\"/>\n     <use style=\"fill:#1f77b4;stroke:#333333;\" x=\"253.566025\" xlink:href=\"#m7eddab6ae6\" y=\"39.679857\"/>\n     <use style=\"fill:#1f77b4;stroke:#333333;\" x=\"76.490724\" xlink:href=\"#m7eddab6ae6\" y=\"185.321057\"/>\n     <use style=\"fill:#1f77b4;stroke:#333333;\" x=\"238.897525\" xlink:href=\"#m7eddab6ae6\" y=\"82.429587\"/>\n     <use style=\"fill:#1f77b4;stroke:#333333;\" x=\"249.223089\" xlink:href=\"#m7eddab6ae6\" y=\"89.661589\"/>\n     <use style=\"fill:#1f77b4;stroke:#333333;\" x=\"118.387936\" xlink:href=\"#m7eddab6ae6\" y=\"218.303568\"/>\n     <use style=\"fill:#1f77b4;stroke:#333333;\" x=\"108.710707\" xlink:href=\"#m7eddab6ae6\" y=\"207.070547\"/>\n     <use style=\"fill:#1f77b4;stroke:#333333;\" x=\"94.960359\" xlink:href=\"#m7eddab6ae6\" y=\"190.023846\"/>\n     <use style=\"fill:#1f77b4;stroke:#333333;\" x=\"95.804305\" xlink:href=\"#m7eddab6ae6\" y=\"187.711556\"/>\n     <use style=\"fill:#1f77b4;stroke:#333333;\" x=\"239.509346\" xlink:href=\"#m7eddab6ae6\" y=\"53.869424\"/>\n     <use style=\"fill:#1f77b4;stroke:#333333;\" x=\"226.971018\" xlink:href=\"#m7eddab6ae6\" y=\"88.154106\"/>\n     <use style=\"fill:#1f77b4;stroke:#333333;\" x=\"94.916859\" xlink:href=\"#m7eddab6ae6\" y=\"195.521558\"/>\n     <use style=\"fill:#1f77b4;stroke:#333333;\" x=\"106.991269\" xlink:href=\"#m7eddab6ae6\" y=\"186.850471\"/>\n     <use style=\"fill:#1f77b4;stroke:#333333;\" x=\"108.567957\" xlink:href=\"#m7eddab6ae6\" y=\"194.117803\"/>\n     <use style=\"fill:#1f77b4;stroke:#333333;\" x=\"239.227411\" xlink:href=\"#m7eddab6ae6\" y=\"37.590473\"/>\n     <use style=\"fill:#1f77b4;stroke:#333333;\" x=\"238.317384\" xlink:href=\"#m7eddab6ae6\" y=\"35.754283\"/>\n     <use style=\"fill:#1f77b4;stroke:#333333;\" x=\"96.994499\" xlink:href=\"#m7eddab6ae6\" y=\"208.108344\"/>\n     <use style=\"fill:#1f77b4;stroke:#333333;\" x=\"250.032038\" xlink:href=\"#m7eddab6ae6\" y=\"37.701594\"/>\n     <use style=\"fill:#1f77b4;stroke:#333333;\" x=\"232.359401\" xlink:href=\"#m7eddab6ae6\" y=\"72.374698\"/>\n     <use style=\"fill:#1f77b4;stroke:#333333;\" x=\"248.199716\" xlink:href=\"#m7eddab6ae6\" y=\"33.573869\"/>\n     <use style=\"fill:#1f77b4;stroke:#333333;\" x=\"88.429047\" xlink:href=\"#m7eddab6ae6\" y=\"192.95304\"/>\n     <use style=\"fill:#1f77b4;stroke:#333333;\" x=\"234.27057\" xlink:href=\"#m7eddab6ae6\" y=\"47.995435\"/>\n     <use style=\"fill:#1f77b4;stroke:#333333;\" x=\"98.536004\" xlink:href=\"#m7eddab6ae6\" y=\"212.515425\"/>\n     <use style=\"fill:#1f77b4;stroke:#333333;\" x=\"107.800107\" xlink:href=\"#m7eddab6ae6\" y=\"204.310706\"/>\n     <use style=\"fill:#1f77b4;stroke:#333333;\" x=\"87.726796\" xlink:href=\"#m7eddab6ae6\" y=\"191.216589\"/>\n     <use style=\"fill:#1f77b4;stroke:#333333;\" x=\"212.816998\" xlink:href=\"#m7eddab6ae6\" y=\"53.841351\"/>\n     <use style=\"fill:#1f77b4;stroke:#333333;\" x=\"225.168168\" xlink:href=\"#m7eddab6ae6\" y=\"47.841136\"/>\n     <use style=\"fill:#1f77b4;stroke:#333333;\" x=\"202.642744\" xlink:href=\"#m7eddab6ae6\" y=\"44.693113\"/>\n     <use style=\"fill:#1f77b4;stroke:#333333;\" x=\"86.981531\" xlink:href=\"#m7eddab6ae6\" y=\"191.534849\"/>\n     <use style=\"fill:#1f77b4;stroke:#333333;\" x=\"116.687423\" xlink:href=\"#m7eddab6ae6\" y=\"206.975146\"/>\n     <use style=\"fill:#1f77b4;stroke:#333333;\" x=\"91.776781\" xlink:href=\"#m7eddab6ae6\" y=\"209.817871\"/>\n     <use style=\"fill:#1f77b4;stroke:#333333;\" x=\"225.892096\" xlink:href=\"#m7eddab6ae6\" y=\"90.705434\"/>\n     <use style=\"fill:#1f77b4;stroke:#333333;\" x=\"102.087238\" xlink:href=\"#m7eddab6ae6\" y=\"195.303274\"/>\n     <use style=\"fill:#1f77b4;stroke:#333333;\" x=\"94.905243\" xlink:href=\"#m7eddab6ae6\" y=\"189.148117\"/>\n     <use style=\"fill:#1f77b4;stroke:#333333;\" x=\"89.515988\" xlink:href=\"#m7eddab6ae6\" y=\"200.223394\"/>\n     <use style=\"fill:#1f77b4;stroke:#333333;\" x=\"99.167164\" xlink:href=\"#m7eddab6ae6\" y=\"208.206126\"/>\n     <use style=\"fill:#1f77b4;stroke:#333333;\" x=\"211.577945\" xlink:href=\"#m7eddab6ae6\" y=\"57.867977\"/>\n     <use style=\"fill:#1f77b4;stroke:#333333;\" x=\"220.751413\" xlink:href=\"#m7eddab6ae6\" y=\"41.469595\"/>\n     <use style=\"fill:#1f77b4;stroke:#333333;\" x=\"72.137778\" xlink:href=\"#m7eddab6ae6\" y=\"214.445482\"/>\n     <use style=\"fill:#1f77b4;stroke:#333333;\" x=\"235.916363\" xlink:href=\"#m7eddab6ae6\" y=\"80.464924\"/>\n    </g>\n   </g>\n   <g id=\"PathCollection_2\">\n    <defs>\n     <path d=\"M 0 3 \nC 0.795609 3 1.55874 2.683901 2.12132 2.12132 \nC 2.683901 1.55874 3 0.795609 3 0 \nC 3 -0.795609 2.683901 -1.55874 2.12132 -2.12132 \nC 1.55874 -2.683901 0.795609 -3 0 -3 \nC -0.795609 -3 -1.55874 -2.683901 -2.12132 -2.12132 \nC -2.683901 -1.55874 -3 -0.795609 -3 0 \nC -3 0.795609 -2.683901 1.55874 -2.12132 2.12132 \nC -1.55874 2.683901 -0.795609 3 0 3 \nz\n\" id=\"m63dba2292a\" style=\"stroke:#333333;\"/>\n    </defs>\n    <g clip-path=\"url(#pc4148d79c4)\">\n     <use style=\"fill:#ff7f0e;stroke:#333333;\" x=\"230.877063\" xlink:href=\"#m63dba2292a\" y=\"180.913557\"/>\n     <use style=\"fill:#ff7f0e;stroke:#333333;\" x=\"243.842427\" xlink:href=\"#m63dba2292a\" y=\"181.183986\"/>\n     <use style=\"fill:#ff7f0e;stroke:#333333;\" x=\"232.017097\" xlink:href=\"#m63dba2292a\" y=\"198.932324\"/>\n     <use style=\"fill:#ff7f0e;stroke:#333333;\" x=\"89.746376\" xlink:href=\"#m63dba2292a\" y=\"45.392998\"/>\n     <use style=\"fill:#ff7f0e;stroke:#333333;\" x=\"250.686437\" xlink:href=\"#m63dba2292a\" y=\"201.599728\"/>\n     <use style=\"fill:#ff7f0e;stroke:#333333;\" x=\"100.400405\" xlink:href=\"#m63dba2292a\" y=\"63.553489\"/>\n     <use style=\"fill:#ff7f0e;stroke:#333333;\" x=\"219.862038\" xlink:href=\"#m63dba2292a\" y=\"211.350014\"/>\n     <use style=\"fill:#ff7f0e;stroke:#333333;\" x=\"130.59866\" xlink:href=\"#m63dba2292a\" y=\"59.599027\"/>\n     <use style=\"fill:#ff7f0e;stroke:#333333;\" x=\"247.536058\" xlink:href=\"#m63dba2292a\" y=\"217.196966\"/>\n     <use style=\"fill:#ff7f0e;stroke:#333333;\" x=\"214.797166\" xlink:href=\"#m63dba2292a\" y=\"185.557909\"/>\n     <use style=\"fill:#ff7f0e;stroke:#333333;\" x=\"229.906907\" xlink:href=\"#m63dba2292a\" y=\"173.017888\"/>\n     <use style=\"fill:#ff7f0e;stroke:#333333;\" x=\"65.731142\" xlink:href=\"#m63dba2292a\" y=\"44.566804\"/>\n     <use style=\"fill:#ff7f0e;stroke:#333333;\" x=\"116.585574\" xlink:href=\"#m63dba2292a\" y=\"45.533014\"/>\n     <use style=\"fill:#ff7f0e;stroke:#333333;\" x=\"96.4775\" xlink:href=\"#m63dba2292a\" y=\"76.495825\"/>\n     <use style=\"fill:#ff7f0e;stroke:#333333;\" x=\"96.788387\" xlink:href=\"#m63dba2292a\" y=\"42.091466\"/>\n     <use style=\"fill:#ff7f0e;stroke:#333333;\" x=\"75.708547\" xlink:href=\"#m63dba2292a\" y=\"39.030573\"/>\n     <use style=\"fill:#ff7f0e;stroke:#333333;\" x=\"233.922057\" xlink:href=\"#m63dba2292a\" y=\"201.757218\"/>\n     <use style=\"fill:#ff7f0e;stroke:#333333;\" x=\"216.28277\" xlink:href=\"#m63dba2292a\" y=\"180.766731\"/>\n     <use style=\"fill:#ff7f0e;stroke:#333333;\" x=\"225.945553\" xlink:href=\"#m63dba2292a\" y=\"182.832732\"/>\n     <use style=\"fill:#ff7f0e;stroke:#333333;\" x=\"107.888844\" xlink:href=\"#m63dba2292a\" y=\"59.25904\"/>\n     <use style=\"fill:#ff7f0e;stroke:#333333;\" x=\"212.266314\" xlink:href=\"#m63dba2292a\" y=\"192.147409\"/>\n     <use style=\"fill:#ff7f0e;stroke:#333333;\" x=\"257.089413\" xlink:href=\"#m63dba2292a\" y=\"200.542537\"/>\n     <use style=\"fill:#ff7f0e;stroke:#333333;\" x=\"248.528097\" xlink:href=\"#m63dba2292a\" y=\"198.107913\"/>\n     <use style=\"fill:#ff7f0e;stroke:#333333;\" x=\"223.275659\" xlink:href=\"#m63dba2292a\" y=\"202.11576\"/>\n     <use style=\"fill:#ff7f0e;stroke:#333333;\" x=\"254.62465\" xlink:href=\"#m63dba2292a\" y=\"176.456154\"/>\n     <use style=\"fill:#ff7f0e;stroke:#333333;\" x=\"83.200733\" xlink:href=\"#m63dba2292a\" y=\"70.175377\"/>\n     <use style=\"fill:#ff7f0e;stroke:#333333;\" x=\"251.724096\" xlink:href=\"#m63dba2292a\" y=\"179.390064\"/>\n     <use style=\"fill:#ff7f0e;stroke:#333333;\" x=\"110.819287\" xlink:href=\"#m63dba2292a\" y=\"55.123203\"/>\n     <use style=\"fill:#ff7f0e;stroke:#333333;\" x=\"232.126351\" xlink:href=\"#m63dba2292a\" y=\"178.669064\"/>\n     <use style=\"fill:#ff7f0e;stroke:#333333;\" x=\"68.497902\" xlink:href=\"#m63dba2292a\" y=\"56.973626\"/>\n     <use style=\"fill:#ff7f0e;stroke:#333333;\" x=\"95.226666\" xlink:href=\"#m63dba2292a\" y=\"66.120244\"/>\n     <use style=\"fill:#ff7f0e;stroke:#333333;\" x=\"223.392974\" xlink:href=\"#m63dba2292a\" y=\"208.672634\"/>\n     <use style=\"fill:#ff7f0e;stroke:#333333;\" x=\"214.945261\" xlink:href=\"#m63dba2292a\" y=\"183.133722\"/>\n     <use style=\"fill:#ff7f0e;stroke:#333333;\" x=\"100.205618\" xlink:href=\"#m63dba2292a\" y=\"60.661631\"/>\n     <use style=\"fill:#ff7f0e;stroke:#333333;\" x=\"244.127174\" xlink:href=\"#m63dba2292a\" y=\"183.85959\"/>\n     <use style=\"fill:#ff7f0e;stroke:#333333;\" x=\"100.782099\" xlink:href=\"#m63dba2292a\" y=\"68.534007\"/>\n     <use style=\"fill:#ff7f0e;stroke:#333333;\" x=\"97.685973\" xlink:href=\"#m63dba2292a\" y=\"71.284393\"/>\n     <use style=\"fill:#ff7f0e;stroke:#333333;\" x=\"261.24119\" xlink:href=\"#m63dba2292a\" y=\"209.357586\"/>\n     <use style=\"fill:#ff7f0e;stroke:#333333;\" x=\"231.536281\" xlink:href=\"#m63dba2292a\" y=\"180.074569\"/>\n     <use style=\"fill:#ff7f0e;stroke:#333333;\" x=\"84.432042\" xlink:href=\"#m63dba2292a\" y=\"55.826098\"/>\n     <use style=\"fill:#ff7f0e;stroke:#333333;\" x=\"114.704427\" xlink:href=\"#m63dba2292a\" y=\"57.881371\"/>\n     <use style=\"fill:#ff7f0e;stroke:#333333;\" x=\"118.139583\" xlink:href=\"#m63dba2292a\" y=\"40.282525\"/>\n     <use style=\"fill:#ff7f0e;stroke:#333333;\" x=\"244.331312\" xlink:href=\"#m63dba2292a\" y=\"206.328325\"/>\n     <use style=\"fill:#ff7f0e;stroke:#333333;\" x=\"84.937455\" xlink:href=\"#m63dba2292a\" y=\"59.985039\"/>\n     <use style=\"fill:#ff7f0e;stroke:#333333;\" x=\"229.111028\" xlink:href=\"#m63dba2292a\" y=\"185.254639\"/>\n     <use style=\"fill:#ff7f0e;stroke:#333333;\" x=\"99.865846\" xlink:href=\"#m63dba2292a\" y=\"73.50443\"/>\n     <use style=\"fill:#ff7f0e;stroke:#333333;\" x=\"107.774522\" xlink:href=\"#m63dba2292a\" y=\"50.128195\"/>\n     <use style=\"fill:#ff7f0e;stroke:#333333;\" x=\"106.681533\" xlink:href=\"#m63dba2292a\" y=\"53.57626\"/>\n     <use style=\"fill:#ff7f0e;stroke:#333333;\" x=\"220.300095\" xlink:href=\"#m63dba2292a\" y=\"186.154142\"/>\n     <use style=\"fill:#ff7f0e;stroke:#333333;\" x=\"84.93114\" xlink:href=\"#m63dba2292a\" y=\"77.508109\"/>\n     <use style=\"fill:#ff7f0e;stroke:#333333;\" x=\"105.491498\" xlink:href=\"#m63dba2292a\" y=\"48.161599\"/>\n     <use style=\"fill:#ff7f0e;stroke:#333333;\" x=\"212.017878\" xlink:href=\"#m63dba2292a\" y=\"182.204423\"/>\n     <use style=\"fill:#ff7f0e;stroke:#333333;\" x=\"238.780524\" xlink:href=\"#m63dba2292a\" y=\"210.592034\"/>\n     <use style=\"fill:#ff7f0e;stroke:#333333;\" x=\"102.920944\" xlink:href=\"#m63dba2292a\" y=\"48.671279\"/>\n     <use style=\"fill:#ff7f0e;stroke:#333333;\" x=\"109.227118\" xlink:href=\"#m63dba2292a\" y=\"67.791241\"/>\n     <use style=\"fill:#ff7f0e;stroke:#333333;\" x=\"218.916511\" xlink:href=\"#m63dba2292a\" y=\"195.110735\"/>\n     <use style=\"fill:#ff7f0e;stroke:#333333;\" x=\"210.412471\" xlink:href=\"#m63dba2292a\" y=\"197.807546\"/>\n     <use style=\"fill:#ff7f0e;stroke:#333333;\" x=\"106.409234\" xlink:href=\"#m63dba2292a\" y=\"62.370039\"/>\n     <use style=\"fill:#ff7f0e;stroke:#333333;\" x=\"62.306392\" xlink:href=\"#m63dba2292a\" y=\"69.539331\"/>\n     <use style=\"fill:#ff7f0e;stroke:#333333;\" x=\"91.834453\" xlink:href=\"#m63dba2292a\" y=\"77.469177\"/>\n     <use style=\"fill:#ff7f0e;stroke:#333333;\" x=\"109.483259\" xlink:href=\"#m63dba2292a\" y=\"52.116365\"/>\n     <use style=\"fill:#ff7f0e;stroke:#333333;\" x=\"87.52736\" xlink:href=\"#m63dba2292a\" y=\"63.223243\"/>\n     <use style=\"fill:#ff7f0e;stroke:#333333;\" x=\"94.034599\" xlink:href=\"#m63dba2292a\" y=\"55.768785\"/>\n     <use style=\"fill:#ff7f0e;stroke:#333333;\" x=\"110.113367\" xlink:href=\"#m63dba2292a\" y=\"68.261083\"/>\n     <use style=\"fill:#ff7f0e;stroke:#333333;\" x=\"257.318305\" xlink:href=\"#m63dba2292a\" y=\"202.317721\"/>\n     <use style=\"fill:#ff7f0e;stroke:#333333;\" x=\"79.762115\" xlink:href=\"#m63dba2292a\" y=\"39.847979\"/>\n     <use style=\"fill:#ff7f0e;stroke:#333333;\" x=\"258.048499\" xlink:href=\"#m63dba2292a\" y=\"185.012766\"/>\n     <use style=\"fill:#ff7f0e;stroke:#333333;\" x=\"244.789162\" xlink:href=\"#m63dba2292a\" y=\"171.865302\"/>\n     <use style=\"fill:#ff7f0e;stroke:#333333;\" x=\"214.47439\" xlink:href=\"#m63dba2292a\" y=\"211.299351\"/>\n     <use style=\"fill:#ff7f0e;stroke:#333333;\" x=\"218.387835\" xlink:href=\"#m63dba2292a\" y=\"227.253664\"/>\n     <use style=\"fill:#ff7f0e;stroke:#333333;\" x=\"98.247032\" xlink:href=\"#m63dba2292a\" y=\"41.347367\"/>\n     <use style=\"fill:#ff7f0e;stroke:#333333;\" x=\"221.09122\" xlink:href=\"#m63dba2292a\" y=\"178.959826\"/>\n     <use style=\"fill:#ff7f0e;stroke:#333333;\" x=\"207.783237\" xlink:href=\"#m63dba2292a\" y=\"165.02484\"/>\n     <use style=\"fill:#ff7f0e;stroke:#333333;\" x=\"84.486389\" xlink:href=\"#m63dba2292a\" y=\"47.120304\"/>\n     <use style=\"fill:#ff7f0e;stroke:#333333;\" x=\"108.320496\" xlink:href=\"#m63dba2292a\" y=\"59.847104\"/>\n     <use style=\"fill:#ff7f0e;stroke:#333333;\" x=\"247.02495\" xlink:href=\"#m63dba2292a\" y=\"184.293941\"/>\n     <use style=\"fill:#ff7f0e;stroke:#333333;\" x=\"92.024123\" xlink:href=\"#m63dba2292a\" y=\"51.399993\"/>\n     <use style=\"fill:#ff7f0e;stroke:#333333;\" x=\"103.976033\" xlink:href=\"#m63dba2292a\" y=\"61.578541\"/>\n     <use style=\"fill:#ff7f0e;stroke:#333333;\" x=\"102.375453\" xlink:href=\"#m63dba2292a\" y=\"64.816787\"/>\n     <use style=\"fill:#ff7f0e;stroke:#333333;\" x=\"230.527021\" xlink:href=\"#m63dba2292a\" y=\"177.171327\"/>\n     <use style=\"fill:#ff7f0e;stroke:#333333;\" x=\"238.484799\" xlink:href=\"#m63dba2292a\" y=\"167.950176\"/>\n     <use style=\"fill:#ff7f0e;stroke:#333333;\" x=\"247.340005\" xlink:href=\"#m63dba2292a\" y=\"185.179964\"/>\n     <use style=\"fill:#ff7f0e;stroke:#333333;\" x=\"134.8086\" xlink:href=\"#m63dba2292a\" y=\"59.304711\"/>\n     <use style=\"fill:#ff7f0e;stroke:#333333;\" x=\"213.726653\" xlink:href=\"#m63dba2292a\" y=\"213.578161\"/>\n     <use style=\"fill:#ff7f0e;stroke:#333333;\" x=\"265.215483\" xlink:href=\"#m63dba2292a\" y=\"212.626448\"/>\n     <use style=\"fill:#ff7f0e;stroke:#333333;\" x=\"226.839442\" xlink:href=\"#m63dba2292a\" y=\"209.593202\"/>\n     <use style=\"fill:#ff7f0e;stroke:#333333;\" x=\"88.454985\" xlink:href=\"#m63dba2292a\" y=\"69.802283\"/>\n     <use style=\"fill:#ff7f0e;stroke:#333333;\" x=\"86.200641\" xlink:href=\"#m63dba2292a\" y=\"59.30147\"/>\n     <use style=\"fill:#ff7f0e;stroke:#333333;\" x=\"249.708568\" xlink:href=\"#m63dba2292a\" y=\"212.467168\"/>\n     <use style=\"fill:#ff7f0e;stroke:#333333;\" x=\"86.639713\" xlink:href=\"#m63dba2292a\" y=\"66.734504\"/>\n     <use style=\"fill:#ff7f0e;stroke:#333333;\" x=\"72.549088\" xlink:href=\"#m63dba2292a\" y=\"61.78785\"/>\n     <use style=\"fill:#ff7f0e;stroke:#333333;\" x=\"116.327234\" xlink:href=\"#m63dba2292a\" y=\"48.616483\"/>\n     <use style=\"fill:#ff7f0e;stroke:#333333;\" x=\"89.624632\" xlink:href=\"#m63dba2292a\" y=\"51.591563\"/>\n     <use style=\"fill:#ff7f0e;stroke:#333333;\" x=\"257.369976\" xlink:href=\"#m63dba2292a\" y=\"209.982902\"/>\n     <use style=\"fill:#ff7f0e;stroke:#333333;\" x=\"209.334228\" xlink:href=\"#m63dba2292a\" y=\"191.955712\"/>\n     <use style=\"fill:#ff7f0e;stroke:#333333;\" x=\"98.138755\" xlink:href=\"#m63dba2292a\" y=\"44.566278\"/>\n     <use style=\"fill:#ff7f0e;stroke:#333333;\" x=\"254.619078\" xlink:href=\"#m63dba2292a\" y=\"207.56031\"/>\n    </g>\n   </g>\n   <g id=\"matplotlib.axis_1\">\n    <g id=\"xtick_1\">\n     <g id=\"line2d_1\">\n      <defs>\n       <path d=\"M 0 0 \nL 0 3.5 \n\" id=\"m43a41ad5e4\" style=\"stroke:#000000;stroke-width:0.8;\"/>\n      </defs>\n      <g>\n       <use style=\"stroke:#000000;stroke-width:0.8;\" x=\"62.596276\" xlink:href=\"#m43a41ad5e4\" y=\"239.758125\"/>\n      </g>\n     </g>\n     <g id=\"text_1\">\n      <!-- −0.25 -->\n      <g transform=\"translate(47.27362 254.356562)scale(0.1 -0.1)\">\n       <defs>\n        <path d=\"M 678 2272 \nL 4684 2272 \nL 4684 1741 \nL 678 1741 \nL 678 2272 \nz\n\" id=\"DejaVuSans-2212\" transform=\"scale(0.015625)\"/>\n        <path d=\"M 2034 4250 \nQ 1547 4250 1301 3770 \nQ 1056 3291 1056 2328 \nQ 1056 1369 1301 889 \nQ 1547 409 2034 409 \nQ 2525 409 2770 889 \nQ 3016 1369 3016 2328 \nQ 3016 3291 2770 3770 \nQ 2525 4250 2034 4250 \nz\nM 2034 4750 \nQ 2819 4750 3233 4129 \nQ 3647 3509 3647 2328 \nQ 3647 1150 3233 529 \nQ 2819 -91 2034 -91 \nQ 1250 -91 836 529 \nQ 422 1150 422 2328 \nQ 422 3509 836 4129 \nQ 1250 4750 2034 4750 \nz\n\" id=\"DejaVuSans-30\" transform=\"scale(0.015625)\"/>\n        <path d=\"M 684 794 \nL 1344 794 \nL 1344 0 \nL 684 0 \nL 684 794 \nz\n\" id=\"DejaVuSans-2e\" transform=\"scale(0.015625)\"/>\n        <path d=\"M 1228 531 \nL 3431 531 \nL 3431 0 \nL 469 0 \nL 469 531 \nQ 828 903 1448 1529 \nQ 2069 2156 2228 2338 \nQ 2531 2678 2651 2914 \nQ 2772 3150 2772 3378 \nQ 2772 3750 2511 3984 \nQ 2250 4219 1831 4219 \nQ 1534 4219 1204 4116 \nQ 875 4013 500 3803 \nL 500 4441 \nQ 881 4594 1212 4672 \nQ 1544 4750 1819 4750 \nQ 2544 4750 2975 4387 \nQ 3406 4025 3406 3419 \nQ 3406 3131 3298 2873 \nQ 3191 2616 2906 2266 \nQ 2828 2175 2409 1742 \nQ 1991 1309 1228 531 \nz\n\" id=\"DejaVuSans-32\" transform=\"scale(0.015625)\"/>\n        <path d=\"M 691 4666 \nL 3169 4666 \nL 3169 4134 \nL 1269 4134 \nL 1269 2991 \nQ 1406 3038 1543 3061 \nQ 1681 3084 1819 3084 \nQ 2600 3084 3056 2656 \nQ 3513 2228 3513 1497 \nQ 3513 744 3044 326 \nQ 2575 -91 1722 -91 \nQ 1428 -91 1123 -41 \nQ 819 9 494 109 \nL 494 744 \nQ 775 591 1075 516 \nQ 1375 441 1709 441 \nQ 2250 441 2565 725 \nQ 2881 1009 2881 1497 \nQ 2881 1984 2565 2268 \nQ 2250 2553 1709 2553 \nQ 1456 2553 1204 2497 \nQ 953 2441 691 2322 \nL 691 4666 \nz\n\" id=\"DejaVuSans-35\" transform=\"scale(0.015625)\"/>\n       </defs>\n       <use xlink:href=\"#DejaVuSans-2212\"/>\n       <use x=\"83.789062\" xlink:href=\"#DejaVuSans-30\"/>\n       <use x=\"147.412109\" xlink:href=\"#DejaVuSans-2e\"/>\n       <use x=\"179.199219\" xlink:href=\"#DejaVuSans-32\"/>\n       <use x=\"242.822266\" xlink:href=\"#DejaVuSans-35\"/>\n      </g>\n     </g>\n    </g>\n    <g id=\"xtick_2\">\n     <g id=\"line2d_2\">\n      <g>\n       <use style=\"stroke:#000000;stroke-width:0.8;\" x=\"97.272305\" xlink:href=\"#m43a41ad5e4\" y=\"239.758125\"/>\n      </g>\n     </g>\n     <g id=\"text_2\">\n      <!-- 0.00 -->\n      <g transform=\"translate(86.139492 254.356562)scale(0.1 -0.1)\">\n       <use xlink:href=\"#DejaVuSans-30\"/>\n       <use x=\"63.623047\" xlink:href=\"#DejaVuSans-2e\"/>\n       <use x=\"95.410156\" xlink:href=\"#DejaVuSans-30\"/>\n       <use x=\"159.033203\" xlink:href=\"#DejaVuSans-30\"/>\n      </g>\n     </g>\n    </g>\n    <g id=\"xtick_3\">\n     <g id=\"line2d_3\">\n      <g>\n       <use style=\"stroke:#000000;stroke-width:0.8;\" x=\"131.948333\" xlink:href=\"#m43a41ad5e4\" y=\"239.758125\"/>\n      </g>\n     </g>\n     <g id=\"text_3\">\n      <!-- 0.25 -->\n      <g transform=\"translate(120.81552 254.356562)scale(0.1 -0.1)\">\n       <use xlink:href=\"#DejaVuSans-30\"/>\n       <use x=\"63.623047\" xlink:href=\"#DejaVuSans-2e\"/>\n       <use x=\"95.410156\" xlink:href=\"#DejaVuSans-32\"/>\n       <use x=\"159.033203\" xlink:href=\"#DejaVuSans-35\"/>\n      </g>\n     </g>\n    </g>\n    <g id=\"xtick_4\">\n     <g id=\"line2d_4\">\n      <g>\n       <use style=\"stroke:#000000;stroke-width:0.8;\" x=\"166.624361\" xlink:href=\"#m43a41ad5e4\" y=\"239.758125\"/>\n      </g>\n     </g>\n     <g id=\"text_4\">\n      <!-- 0.50 -->\n      <g transform=\"translate(155.491548 254.356562)scale(0.1 -0.1)\">\n       <use xlink:href=\"#DejaVuSans-30\"/>\n       <use x=\"63.623047\" xlink:href=\"#DejaVuSans-2e\"/>\n       <use x=\"95.410156\" xlink:href=\"#DejaVuSans-35\"/>\n       <use x=\"159.033203\" xlink:href=\"#DejaVuSans-30\"/>\n      </g>\n     </g>\n    </g>\n    <g id=\"xtick_5\">\n     <g id=\"line2d_5\">\n      <g>\n       <use style=\"stroke:#000000;stroke-width:0.8;\" x=\"201.300389\" xlink:href=\"#m43a41ad5e4\" y=\"239.758125\"/>\n      </g>\n     </g>\n     <g id=\"text_5\">\n      <!-- 0.75 -->\n      <g transform=\"translate(190.167577 254.356562)scale(0.1 -0.1)\">\n       <defs>\n        <path d=\"M 525 4666 \nL 3525 4666 \nL 3525 4397 \nL 1831 0 \nL 1172 0 \nL 2766 4134 \nL 525 4134 \nL 525 4666 \nz\n\" id=\"DejaVuSans-37\" transform=\"scale(0.015625)\"/>\n       </defs>\n       <use xlink:href=\"#DejaVuSans-30\"/>\n       <use x=\"63.623047\" xlink:href=\"#DejaVuSans-2e\"/>\n       <use x=\"95.410156\" xlink:href=\"#DejaVuSans-37\"/>\n       <use x=\"159.033203\" xlink:href=\"#DejaVuSans-35\"/>\n      </g>\n     </g>\n    </g>\n    <g id=\"xtick_6\">\n     <g id=\"line2d_6\">\n      <g>\n       <use style=\"stroke:#000000;stroke-width:0.8;\" x=\"235.976417\" xlink:href=\"#m43a41ad5e4\" y=\"239.758125\"/>\n      </g>\n     </g>\n     <g id=\"text_6\">\n      <!-- 1.00 -->\n      <g transform=\"translate(224.843605 254.356562)scale(0.1 -0.1)\">\n       <defs>\n        <path d=\"M 794 531 \nL 1825 531 \nL 1825 4091 \nL 703 3866 \nL 703 4441 \nL 1819 4666 \nL 2450 4666 \nL 2450 531 \nL 3481 531 \nL 3481 0 \nL 794 0 \nL 794 531 \nz\n\" id=\"DejaVuSans-31\" transform=\"scale(0.015625)\"/>\n       </defs>\n       <use xlink:href=\"#DejaVuSans-31\"/>\n       <use x=\"63.623047\" xlink:href=\"#DejaVuSans-2e\"/>\n       <use x=\"95.410156\" xlink:href=\"#DejaVuSans-30\"/>\n       <use x=\"159.033203\" xlink:href=\"#DejaVuSans-30\"/>\n      </g>\n     </g>\n    </g>\n    <g id=\"xtick_7\">\n     <g id=\"line2d_7\">\n      <g>\n       <use style=\"stroke:#000000;stroke-width:0.8;\" x=\"270.652446\" xlink:href=\"#m43a41ad5e4\" y=\"239.758125\"/>\n      </g>\n     </g>\n     <g id=\"text_7\">\n      <!-- 1.25 -->\n      <g transform=\"translate(259.519633 254.356562)scale(0.1 -0.1)\">\n       <use xlink:href=\"#DejaVuSans-31\"/>\n       <use x=\"63.623047\" xlink:href=\"#DejaVuSans-2e\"/>\n       <use x=\"95.410156\" xlink:href=\"#DejaVuSans-32\"/>\n       <use x=\"159.033203\" xlink:href=\"#DejaVuSans-35\"/>\n      </g>\n     </g>\n    </g>\n    <g id=\"text_8\">\n     <!-- $x_1$ -->\n     <g transform=\"translate(158.410938 268.034687)scale(0.1 -0.1)\">\n      <defs>\n       <path d=\"M 3841 3500 \nL 2234 1784 \nL 3219 0 \nL 2559 0 \nL 1819 1388 \nL 531 0 \nL -166 0 \nL 1556 1844 \nL 641 3500 \nL 1300 3500 \nL 1972 2234 \nL 3144 3500 \nL 3841 3500 \nz\n\" id=\"DejaVuSans-Oblique-78\" transform=\"scale(0.015625)\"/>\n      </defs>\n      <use transform=\"translate(0 0.3125)\" xlink:href=\"#DejaVuSans-Oblique-78\"/>\n      <use transform=\"translate(59.179688 -16.09375)scale(0.7)\" xlink:href=\"#DejaVuSans-31\"/>\n     </g>\n    </g>\n   </g>\n   <g id=\"matplotlib.axis_2\">\n    <g id=\"ytick_1\">\n     <g id=\"line2d_8\">\n      <defs>\n       <path d=\"M 0 0 \nL -3.5 0 \n\" id=\"m4ef0fed0e1\" style=\"stroke:#000000;stroke-width:0.8;\"/>\n      </defs>\n      <g>\n       <use style=\"stroke:#000000;stroke-width:0.8;\" x=\"52.160938\" xlink:href=\"#m4ef0fed0e1\" y=\"223.94267\"/>\n      </g>\n     </g>\n     <g id=\"text_9\">\n      <!-- −0.2 -->\n      <g transform=\"translate(20.878125 227.741889)scale(0.1 -0.1)\">\n       <use xlink:href=\"#DejaVuSans-2212\"/>\n       <use x=\"83.789062\" xlink:href=\"#DejaVuSans-30\"/>\n       <use x=\"147.412109\" xlink:href=\"#DejaVuSans-2e\"/>\n       <use x=\"179.199219\" xlink:href=\"#DejaVuSans-32\"/>\n      </g>\n     </g>\n    </g>\n    <g id=\"ytick_2\">\n     <g id=\"line2d_9\">\n      <g>\n       <use style=\"stroke:#000000;stroke-width:0.8;\" x=\"52.160938\" xlink:href=\"#m4ef0fed0e1\" y=\"196.335617\"/>\n      </g>\n     </g>\n     <g id=\"text_10\">\n      <!-- 0.0 -->\n      <g transform=\"translate(29.257812 200.134836)scale(0.1 -0.1)\">\n       <use xlink:href=\"#DejaVuSans-30\"/>\n       <use x=\"63.623047\" xlink:href=\"#DejaVuSans-2e\"/>\n       <use x=\"95.410156\" xlink:href=\"#DejaVuSans-30\"/>\n      </g>\n     </g>\n    </g>\n    <g id=\"ytick_3\">\n     <g id=\"line2d_10\">\n      <g>\n       <use style=\"stroke:#000000;stroke-width:0.8;\" x=\"52.160938\" xlink:href=\"#m4ef0fed0e1\" y=\"168.728564\"/>\n      </g>\n     </g>\n     <g id=\"text_11\">\n      <!-- 0.2 -->\n      <g transform=\"translate(29.257812 172.527783)scale(0.1 -0.1)\">\n       <use xlink:href=\"#DejaVuSans-30\"/>\n       <use x=\"63.623047\" xlink:href=\"#DejaVuSans-2e\"/>\n       <use x=\"95.410156\" xlink:href=\"#DejaVuSans-32\"/>\n      </g>\n     </g>\n    </g>\n    <g id=\"ytick_4\">\n     <g id=\"line2d_11\">\n      <g>\n       <use style=\"stroke:#000000;stroke-width:0.8;\" x=\"52.160938\" xlink:href=\"#m4ef0fed0e1\" y=\"141.12151\"/>\n      </g>\n     </g>\n     <g id=\"text_12\">\n      <!-- 0.4 -->\n      <g transform=\"translate(29.257812 144.920729)scale(0.1 -0.1)\">\n       <defs>\n        <path d=\"M 2419 4116 \nL 825 1625 \nL 2419 1625 \nL 2419 4116 \nz\nM 2253 4666 \nL 3047 4666 \nL 3047 1625 \nL 3713 1625 \nL 3713 1100 \nL 3047 1100 \nL 3047 0 \nL 2419 0 \nL 2419 1100 \nL 313 1100 \nL 313 1709 \nL 2253 4666 \nz\n\" id=\"DejaVuSans-34\" transform=\"scale(0.015625)\"/>\n       </defs>\n       <use xlink:href=\"#DejaVuSans-30\"/>\n       <use x=\"63.623047\" xlink:href=\"#DejaVuSans-2e\"/>\n       <use x=\"95.410156\" xlink:href=\"#DejaVuSans-34\"/>\n      </g>\n     </g>\n    </g>\n    <g id=\"ytick_5\">\n     <g id=\"line2d_12\">\n      <g>\n       <use style=\"stroke:#000000;stroke-width:0.8;\" x=\"52.160938\" xlink:href=\"#m4ef0fed0e1\" y=\"113.514457\"/>\n      </g>\n     </g>\n     <g id=\"text_13\">\n      <!-- 0.6 -->\n      <g transform=\"translate(29.257812 117.313676)scale(0.1 -0.1)\">\n       <defs>\n        <path d=\"M 2113 2584 \nQ 1688 2584 1439 2293 \nQ 1191 2003 1191 1497 \nQ 1191 994 1439 701 \nQ 1688 409 2113 409 \nQ 2538 409 2786 701 \nQ 3034 994 3034 1497 \nQ 3034 2003 2786 2293 \nQ 2538 2584 2113 2584 \nz\nM 3366 4563 \nL 3366 3988 \nQ 3128 4100 2886 4159 \nQ 2644 4219 2406 4219 \nQ 1781 4219 1451 3797 \nQ 1122 3375 1075 2522 \nQ 1259 2794 1537 2939 \nQ 1816 3084 2150 3084 \nQ 2853 3084 3261 2657 \nQ 3669 2231 3669 1497 \nQ 3669 778 3244 343 \nQ 2819 -91 2113 -91 \nQ 1303 -91 875 529 \nQ 447 1150 447 2328 \nQ 447 3434 972 4092 \nQ 1497 4750 2381 4750 \nQ 2619 4750 2861 4703 \nQ 3103 4656 3366 4563 \nz\n\" id=\"DejaVuSans-36\" transform=\"scale(0.015625)\"/>\n       </defs>\n       <use xlink:href=\"#DejaVuSans-30\"/>\n       <use x=\"63.623047\" xlink:href=\"#DejaVuSans-2e\"/>\n       <use x=\"95.410156\" xlink:href=\"#DejaVuSans-36\"/>\n      </g>\n     </g>\n    </g>\n    <g id=\"ytick_6\">\n     <g id=\"line2d_13\">\n      <g>\n       <use style=\"stroke:#000000;stroke-width:0.8;\" x=\"52.160938\" xlink:href=\"#m4ef0fed0e1\" y=\"85.907404\"/>\n      </g>\n     </g>\n     <g id=\"text_14\">\n      <!-- 0.8 -->\n      <g transform=\"translate(29.257812 89.706623)scale(0.1 -0.1)\">\n       <defs>\n        <path d=\"M 2034 2216 \nQ 1584 2216 1326 1975 \nQ 1069 1734 1069 1313 \nQ 1069 891 1326 650 \nQ 1584 409 2034 409 \nQ 2484 409 2743 651 \nQ 3003 894 3003 1313 \nQ 3003 1734 2745 1975 \nQ 2488 2216 2034 2216 \nz\nM 1403 2484 \nQ 997 2584 770 2862 \nQ 544 3141 544 3541 \nQ 544 4100 942 4425 \nQ 1341 4750 2034 4750 \nQ 2731 4750 3128 4425 \nQ 3525 4100 3525 3541 \nQ 3525 3141 3298 2862 \nQ 3072 2584 2669 2484 \nQ 3125 2378 3379 2068 \nQ 3634 1759 3634 1313 \nQ 3634 634 3220 271 \nQ 2806 -91 2034 -91 \nQ 1263 -91 848 271 \nQ 434 634 434 1313 \nQ 434 1759 690 2068 \nQ 947 2378 1403 2484 \nz\nM 1172 3481 \nQ 1172 3119 1398 2916 \nQ 1625 2713 2034 2713 \nQ 2441 2713 2670 2916 \nQ 2900 3119 2900 3481 \nQ 2900 3844 2670 4047 \nQ 2441 4250 2034 4250 \nQ 1625 4250 1398 4047 \nQ 1172 3844 1172 3481 \nz\n\" id=\"DejaVuSans-38\" transform=\"scale(0.015625)\"/>\n       </defs>\n       <use xlink:href=\"#DejaVuSans-30\"/>\n       <use x=\"63.623047\" xlink:href=\"#DejaVuSans-2e\"/>\n       <use x=\"95.410156\" xlink:href=\"#DejaVuSans-38\"/>\n      </g>\n     </g>\n    </g>\n    <g id=\"ytick_7\">\n     <g id=\"line2d_14\">\n      <g>\n       <use style=\"stroke:#000000;stroke-width:0.8;\" x=\"52.160938\" xlink:href=\"#m4ef0fed0e1\" y=\"58.300351\"/>\n      </g>\n     </g>\n     <g id=\"text_15\">\n      <!-- 1.0 -->\n      <g transform=\"translate(29.257812 62.099569)scale(0.1 -0.1)\">\n       <use xlink:href=\"#DejaVuSans-31\"/>\n       <use x=\"63.623047\" xlink:href=\"#DejaVuSans-2e\"/>\n       <use x=\"95.410156\" xlink:href=\"#DejaVuSans-30\"/>\n      </g>\n     </g>\n    </g>\n    <g id=\"ytick_8\">\n     <g id=\"line2d_15\">\n      <g>\n       <use style=\"stroke:#000000;stroke-width:0.8;\" x=\"52.160938\" xlink:href=\"#m4ef0fed0e1\" y=\"30.693297\"/>\n      </g>\n     </g>\n     <g id=\"text_16\">\n      <!-- 1.2 -->\n      <g transform=\"translate(29.257812 34.492516)scale(0.1 -0.1)\">\n       <use xlink:href=\"#DejaVuSans-31\"/>\n       <use x=\"63.623047\" xlink:href=\"#DejaVuSans-2e\"/>\n       <use x=\"95.410156\" xlink:href=\"#DejaVuSans-32\"/>\n      </g>\n     </g>\n    </g>\n    <g id=\"text_17\">\n     <!-- $x_2$ -->\n     <g transform=\"translate(14.798438 136.388125)rotate(-90)scale(0.1 -0.1)\">\n      <use transform=\"translate(0 0.3125)\" xlink:href=\"#DejaVuSans-Oblique-78\"/>\n      <use transform=\"translate(59.179688 -16.09375)scale(0.7)\" xlink:href=\"#DejaVuSans-32\"/>\n     </g>\n    </g>\n   </g>\n   <g id=\"patch_3\">\n    <path d=\"M 52.160938 239.758125 \nL 52.160938 22.318125 \n\" style=\"fill:none;stroke:#000000;stroke-linecap:square;stroke-linejoin:miter;stroke-width:0.8;\"/>\n   </g>\n   <g id=\"patch_4\">\n    <path d=\"M 275.360937 239.758125 \nL 275.360937 22.318125 \n\" style=\"fill:none;stroke:#000000;stroke-linecap:square;stroke-linejoin:miter;stroke-width:0.8;\"/>\n   </g>\n   <g id=\"patch_5\">\n    <path d=\"M 52.160937 239.758125 \nL 275.360937 239.758125 \n\" style=\"fill:none;stroke:#000000;stroke-linecap:square;stroke-linejoin:miter;stroke-width:0.8;\"/>\n   </g>\n   <g id=\"patch_6\">\n    <path d=\"M 52.160937 22.318125 \nL 275.360937 22.318125 \n\" style=\"fill:none;stroke:#000000;stroke-linecap:square;stroke-linejoin:miter;stroke-width:0.8;\"/>\n   </g>\n   <g id=\"text_18\">\n    <!-- Dataset samples -->\n    <g transform=\"translate(113.418125 16.318125)scale(0.12 -0.12)\">\n     <defs>\n      <path d=\"M 1259 4147 \nL 1259 519 \nL 2022 519 \nQ 2988 519 3436 956 \nQ 3884 1394 3884 2338 \nQ 3884 3275 3436 3711 \nQ 2988 4147 2022 4147 \nL 1259 4147 \nz\nM 628 4666 \nL 1925 4666 \nQ 3281 4666 3915 4102 \nQ 4550 3538 4550 2338 \nQ 4550 1131 3912 565 \nQ 3275 0 1925 0 \nL 628 0 \nL 628 4666 \nz\n\" id=\"DejaVuSans-44\" transform=\"scale(0.015625)\"/>\n      <path d=\"M 2194 1759 \nQ 1497 1759 1228 1600 \nQ 959 1441 959 1056 \nQ 959 750 1161 570 \nQ 1363 391 1709 391 \nQ 2188 391 2477 730 \nQ 2766 1069 2766 1631 \nL 2766 1759 \nL 2194 1759 \nz\nM 3341 1997 \nL 3341 0 \nL 2766 0 \nL 2766 531 \nQ 2569 213 2275 61 \nQ 1981 -91 1556 -91 \nQ 1019 -91 701 211 \nQ 384 513 384 1019 \nQ 384 1609 779 1909 \nQ 1175 2209 1959 2209 \nL 2766 2209 \nL 2766 2266 \nQ 2766 2663 2505 2880 \nQ 2244 3097 1772 3097 \nQ 1472 3097 1187 3025 \nQ 903 2953 641 2809 \nL 641 3341 \nQ 956 3463 1253 3523 \nQ 1550 3584 1831 3584 \nQ 2591 3584 2966 3190 \nQ 3341 2797 3341 1997 \nz\n\" id=\"DejaVuSans-61\" transform=\"scale(0.015625)\"/>\n      <path d=\"M 1172 4494 \nL 1172 3500 \nL 2356 3500 \nL 2356 3053 \nL 1172 3053 \nL 1172 1153 \nQ 1172 725 1289 603 \nQ 1406 481 1766 481 \nL 2356 481 \nL 2356 0 \nL 1766 0 \nQ 1100 0 847 248 \nQ 594 497 594 1153 \nL 594 3053 \nL 172 3053 \nL 172 3500 \nL 594 3500 \nL 594 4494 \nL 1172 4494 \nz\n\" id=\"DejaVuSans-74\" transform=\"scale(0.015625)\"/>\n      <path d=\"M 2834 3397 \nL 2834 2853 \nQ 2591 2978 2328 3040 \nQ 2066 3103 1784 3103 \nQ 1356 3103 1142 2972 \nQ 928 2841 928 2578 \nQ 928 2378 1081 2264 \nQ 1234 2150 1697 2047 \nL 1894 2003 \nQ 2506 1872 2764 1633 \nQ 3022 1394 3022 966 \nQ 3022 478 2636 193 \nQ 2250 -91 1575 -91 \nQ 1294 -91 989 -36 \nQ 684 19 347 128 \nL 347 722 \nQ 666 556 975 473 \nQ 1284 391 1588 391 \nQ 1994 391 2212 530 \nQ 2431 669 2431 922 \nQ 2431 1156 2273 1281 \nQ 2116 1406 1581 1522 \nL 1381 1569 \nQ 847 1681 609 1914 \nQ 372 2147 372 2553 \nQ 372 3047 722 3315 \nQ 1072 3584 1716 3584 \nQ 2034 3584 2315 3537 \nQ 2597 3491 2834 3397 \nz\n\" id=\"DejaVuSans-73\" transform=\"scale(0.015625)\"/>\n      <path d=\"M 3597 1894 \nL 3597 1613 \nL 953 1613 \nQ 991 1019 1311 708 \nQ 1631 397 2203 397 \nQ 2534 397 2845 478 \nQ 3156 559 3463 722 \nL 3463 178 \nQ 3153 47 2828 -22 \nQ 2503 -91 2169 -91 \nQ 1331 -91 842 396 \nQ 353 884 353 1716 \nQ 353 2575 817 3079 \nQ 1281 3584 2069 3584 \nQ 2775 3584 3186 3129 \nQ 3597 2675 3597 1894 \nz\nM 3022 2063 \nQ 3016 2534 2758 2815 \nQ 2500 3097 2075 3097 \nQ 1594 3097 1305 2825 \nQ 1016 2553 972 2059 \nL 3022 2063 \nz\n\" id=\"DejaVuSans-65\" transform=\"scale(0.015625)\"/>\n      <path id=\"DejaVuSans-20\" transform=\"scale(0.015625)\"/>\n      <path d=\"M 3328 2828 \nQ 3544 3216 3844 3400 \nQ 4144 3584 4550 3584 \nQ 5097 3584 5394 3201 \nQ 5691 2819 5691 2113 \nL 5691 0 \nL 5113 0 \nL 5113 2094 \nQ 5113 2597 4934 2840 \nQ 4756 3084 4391 3084 \nQ 3944 3084 3684 2787 \nQ 3425 2491 3425 1978 \nL 3425 0 \nL 2847 0 \nL 2847 2094 \nQ 2847 2600 2669 2842 \nQ 2491 3084 2119 3084 \nQ 1678 3084 1418 2786 \nQ 1159 2488 1159 1978 \nL 1159 0 \nL 581 0 \nL 581 3500 \nL 1159 3500 \nL 1159 2956 \nQ 1356 3278 1631 3431 \nQ 1906 3584 2284 3584 \nQ 2666 3584 2933 3390 \nQ 3200 3197 3328 2828 \nz\n\" id=\"DejaVuSans-6d\" transform=\"scale(0.015625)\"/>\n      <path d=\"M 1159 525 \nL 1159 -1331 \nL 581 -1331 \nL 581 3500 \nL 1159 3500 \nL 1159 2969 \nQ 1341 3281 1617 3432 \nQ 1894 3584 2278 3584 \nQ 2916 3584 3314 3078 \nQ 3713 2572 3713 1747 \nQ 3713 922 3314 415 \nQ 2916 -91 2278 -91 \nQ 1894 -91 1617 61 \nQ 1341 213 1159 525 \nz\nM 3116 1747 \nQ 3116 2381 2855 2742 \nQ 2594 3103 2138 3103 \nQ 1681 3103 1420 2742 \nQ 1159 2381 1159 1747 \nQ 1159 1113 1420 752 \nQ 1681 391 2138 391 \nQ 2594 391 2855 752 \nQ 3116 1113 3116 1747 \nz\n\" id=\"DejaVuSans-70\" transform=\"scale(0.015625)\"/>\n      <path d=\"M 603 4863 \nL 1178 4863 \nL 1178 0 \nL 603 0 \nL 603 4863 \nz\n\" id=\"DejaVuSans-6c\" transform=\"scale(0.015625)\"/>\n     </defs>\n     <use xlink:href=\"#DejaVuSans-44\"/>\n     <use x=\"77.001953\" xlink:href=\"#DejaVuSans-61\"/>\n     <use x=\"138.28125\" xlink:href=\"#DejaVuSans-74\"/>\n     <use x=\"177.490234\" xlink:href=\"#DejaVuSans-61\"/>\n     <use x=\"238.769531\" xlink:href=\"#DejaVuSans-73\"/>\n     <use x=\"290.869141\" xlink:href=\"#DejaVuSans-65\"/>\n     <use x=\"352.392578\" xlink:href=\"#DejaVuSans-74\"/>\n     <use x=\"391.601562\" xlink:href=\"#DejaVuSans-20\"/>\n     <use x=\"423.388672\" xlink:href=\"#DejaVuSans-73\"/>\n     <use x=\"475.488281\" xlink:href=\"#DejaVuSans-61\"/>\n     <use x=\"536.767578\" xlink:href=\"#DejaVuSans-6d\"/>\n     <use x=\"634.179688\" xlink:href=\"#DejaVuSans-70\"/>\n     <use x=\"697.65625\" xlink:href=\"#DejaVuSans-6c\"/>\n     <use x=\"725.439453\" xlink:href=\"#DejaVuSans-65\"/>\n     <use x=\"786.962891\" xlink:href=\"#DejaVuSans-73\"/>\n    </g>\n   </g>\n   <g id=\"legend_1\">\n    <g id=\"patch_7\">\n     <path d=\"M 200.5125 147.21625 \nL 268.360937 147.21625 \nQ 270.360937 147.21625 270.360937 145.21625 \nL 270.360937 116.86 \nQ 270.360937 114.86 268.360937 114.86 \nL 200.5125 114.86 \nQ 198.5125 114.86 198.5125 116.86 \nL 198.5125 145.21625 \nQ 198.5125 147.21625 200.5125 147.21625 \nz\n\" style=\"fill:#ffffff;opacity:0.8;stroke:#cccccc;stroke-linejoin:miter;\"/>\n    </g>\n    <g id=\"PathCollection_3\">\n     <g>\n      <use style=\"fill:#1f77b4;stroke:#333333;\" x=\"212.5125\" xlink:href=\"#m7eddab6ae6\" y=\"123.833437\"/>\n     </g>\n    </g>\n    <g id=\"text_19\">\n     <!-- Class 0 -->\n     <g transform=\"translate(230.5125 126.458437)scale(0.1 -0.1)\">\n      <defs>\n       <path d=\"M 4122 4306 \nL 4122 3641 \nQ 3803 3938 3442 4084 \nQ 3081 4231 2675 4231 \nQ 1875 4231 1450 3742 \nQ 1025 3253 1025 2328 \nQ 1025 1406 1450 917 \nQ 1875 428 2675 428 \nQ 3081 428 3442 575 \nQ 3803 722 4122 1019 \nL 4122 359 \nQ 3791 134 3420 21 \nQ 3050 -91 2638 -91 \nQ 1578 -91 968 557 \nQ 359 1206 359 2328 \nQ 359 3453 968 4101 \nQ 1578 4750 2638 4750 \nQ 3056 4750 3426 4639 \nQ 3797 4528 4122 4306 \nz\n\" id=\"DejaVuSans-43\" transform=\"scale(0.015625)\"/>\n      </defs>\n      <use xlink:href=\"#DejaVuSans-43\"/>\n      <use x=\"69.824219\" xlink:href=\"#DejaVuSans-6c\"/>\n      <use x=\"97.607422\" xlink:href=\"#DejaVuSans-61\"/>\n      <use x=\"158.886719\" xlink:href=\"#DejaVuSans-73\"/>\n      <use x=\"210.986328\" xlink:href=\"#DejaVuSans-73\"/>\n      <use x=\"263.085938\" xlink:href=\"#DejaVuSans-20\"/>\n      <use x=\"294.873047\" xlink:href=\"#DejaVuSans-30\"/>\n     </g>\n    </g>\n    <g id=\"PathCollection_4\">\n     <g>\n      <use style=\"fill:#ff7f0e;stroke:#333333;\" x=\"212.5125\" xlink:href=\"#m63dba2292a\" y=\"138.511562\"/>\n     </g>\n    </g>\n    <g id=\"text_20\">\n     <!-- Class 1 -->\n     <g transform=\"translate(230.5125 141.136562)scale(0.1 -0.1)\">\n      <use xlink:href=\"#DejaVuSans-43\"/>\n      <use x=\"69.824219\" xlink:href=\"#DejaVuSans-6c\"/>\n      <use x=\"97.607422\" xlink:href=\"#DejaVuSans-61\"/>\n      <use x=\"158.886719\" xlink:href=\"#DejaVuSans-73\"/>\n      <use x=\"210.986328\" xlink:href=\"#DejaVuSans-73\"/>\n      <use x=\"263.085938\" xlink:href=\"#DejaVuSans-20\"/>\n      <use x=\"294.873047\" xlink:href=\"#DejaVuSans-31\"/>\n     </g>\n    </g>\n   </g>\n  </g>\n </g>\n <defs>\n  <clipPath id=\"pc4148d79c4\">\n   <rect height=\"217.44\" width=\"223.2\" x=\"52.160938\" y=\"22.318125\"/>\n  </clipPath>\n </defs>\n</svg>\n",
      "text/plain": [
       "<Figure size 288x288 with 1 Axes>"
      ]
     },
     "metadata": {
      "needs_background": "light"
     },
     "output_type": "display_data"
    }
   ],
   "source": [
    "visualize_samples(dataset.data, dataset.label)\n",
    "plt.show()"
   ]
  },
  {
   "cell_type": "markdown",
   "metadata": {},
   "source": [
    "#### The data loader class"
   ]
  },
  {
   "cell_type": "code",
   "execution_count": 42,
   "metadata": {},
   "outputs": [],
   "source": [
    "data_loader = data.DataLoader(dataset, batch_size=8, shuffle=True)"
   ]
  },
  {
   "cell_type": "code",
   "execution_count": 43,
   "metadata": {},
   "outputs": [
    {
     "name": "stdout",
     "output_type": "stream",
     "text": [
      "Data inputs torch.Size([8, 2]) \n",
      " tensor([[-0.0890,  0.8608],\n",
      "        [ 1.0905, -0.0128],\n",
      "        [ 0.7967,  0.2268],\n",
      "        [-0.0688,  0.0371],\n",
      "        [ 0.8732, -0.2240],\n",
      "        [-0.0559, -0.0282],\n",
      "        [ 0.9277,  0.0978],\n",
      "        [ 1.0150,  0.9689]])\n",
      "Data labels torch.Size([8]) \n",
      " tensor([1, 1, 1, 0, 1, 0, 1, 0])\n"
     ]
    }
   ],
   "source": [
    "# next(iter(...)) catches the first batch of the data loader\n",
    "# If shuffle is True, this will return a different batch every time we run this cell\n",
    "# For iterating over the whole dataset, we can simple use \"for batch in data_loader: ...\"\n",
    "data_inputs, data_labels = next(iter(data_loader))\n",
    "\n",
    "# The shape of the outputs are [batch_size, d_1, ..., d_N] where d_1, ... , d_N are the\n",
    "# dimensions of the data point returned from the dataset class\n",
    "print(\"Data inputs\", data_inputs.shape, \"\\n\", data_inputs)\n",
    "print(\"Data labels\", data_labels.shape, \"\\n\", data_labels)"
   ]
  },
  {
   "cell_type": "markdown",
   "metadata": {},
   "source": [
    "### Optimization"
   ]
  },
  {
   "cell_type": "markdown",
   "metadata": {},
   "source": [
    "#### loss modules"
   ]
  },
  {
   "cell_type": "code",
   "execution_count": 44,
   "metadata": {},
   "outputs": [],
   "source": [
    "loss_module = nn.BCEWithLogitsLoss()"
   ]
  },
  {
   "cell_type": "markdown",
   "metadata": {},
   "source": [
    "#### Stochastic Gradient Descent"
   ]
  },
  {
   "cell_type": "code",
   "execution_count": 45,
   "metadata": {},
   "outputs": [],
   "source": [
    "# Input to the optimizer are the prameters of the model: model.parameters()\n",
    "optimizer = torch.optim.SGD(model.parameters(), lr=0.1)"
   ]
  },
  {
   "cell_type": "markdown",
   "metadata": {},
   "source": [
    "### Training"
   ]
  },
  {
   "cell_type": "code",
   "execution_count": 46,
   "metadata": {},
   "outputs": [],
   "source": [
    "train_dataset = XORDataset(size=1000)\n",
    "train_data_loader = data.DataLoader(train_dataset, batch_size=128, shuffle=True)"
   ]
  },
  {
   "cell_type": "code",
   "execution_count": 47,
   "metadata": {},
   "outputs": [
    {
     "data": {
      "text/plain": [
       "SimpleClassifier(\n",
       "  (linear1): Linear(in_features=2, out_features=4, bias=True)\n",
       "  (act_fn): Tanh()\n",
       "  (linear2): Linear(in_features=4, out_features=1, bias=True)\n",
       ")"
      ]
     },
     "execution_count": 47,
     "metadata": {},
     "output_type": "execute_result"
    }
   ],
   "source": [
    "# Push model to device. Has to be only done once\n",
    "model.to(device)"
   ]
  },
  {
   "cell_type": "code",
   "execution_count": 48,
   "metadata": {},
   "outputs": [],
   "source": [
    "def train_model(model, optimizer, data_loader, loss_module, num_epochs=100):\n",
    "    # Set model to train mode\n",
    "    model.train()\n",
    "\n",
    "    # Training loop\n",
    "    for epoch in tqdm(range(num_epochs)):\n",
    "        for data_inputs, data_labels in data_loader:\n",
    "\n",
    "            # Step 1: Move input data to device (only strictly necessary if we use GPU)\n",
    "            data_inputs = data_inputs.to(device)\n",
    "            data_labels = data_labels.to(device)\n",
    "\n",
    "            # Step 2: Run the model on the input data\n",
    "            preds = model(data_inputs)\n",
    "            preds = preds.squeeze(dim=1)  # Output is [Batch size, 1], but we want [Batch size]\n",
    "\n",
    "            # Step 3: Calculate the loss\n",
    "            loss = loss_module(preds, data_labels.float())\n",
    "\n",
    "            # Step 4: Perform backpropagation\n",
    "            # Before calculating the gradients, we need to ensure that they are all zero.\n",
    "            # The gradients would not be overwritten, but actually added to the existing ones.\n",
    "            optimizer.zero_grad()\n",
    "            # Perform backpropagation\n",
    "            loss.backward()\n",
    "\n",
    "            # Step 5: Update the parameters\n",
    "            optimizer.step()"
   ]
  },
  {
   "cell_type": "code",
   "execution_count": 49,
   "metadata": {},
   "outputs": [
    {
     "data": {
      "application/vnd.jupyter.widget-view+json": {
       "model_id": "d142bac0316a4d1ca31c4bbe419c276f",
       "version_major": 2,
       "version_minor": 0
      },
      "text/plain": [
       "  0%|          | 0/100 [00:00<?, ?it/s]"
      ]
     },
     "metadata": {},
     "output_type": "display_data"
    }
   ],
   "source": [
    "train_model(model, optimizer, train_data_loader, loss_module)"
   ]
  },
  {
   "cell_type": "markdown",
   "metadata": {},
   "source": [
    "#### Saving a model"
   ]
  },
  {
   "cell_type": "code",
   "execution_count": 50,
   "metadata": {},
   "outputs": [
    {
     "name": "stdout",
     "output_type": "stream",
     "text": [
      "OrderedDict([('linear1.weight', tensor([[-2.0204, -2.3115],\n",
      "        [ 1.3085, -1.8443],\n",
      "        [-1.5097, -0.6611],\n",
      "        [-0.7672, -0.9231]], device='cuda:0')), ('linear1.bias', tensor([ 0.7389, -0.9149,  1.4694, -0.1811], device='cuda:0')), ('linear2.weight', tensor([[-2.5598,  1.9691,  2.1621, -0.4404]], device='cuda:0')), ('linear2.bias', tensor([-1.0178], device='cuda:0'))])\n"
     ]
    }
   ],
   "source": [
    "state_dict = model.state_dict()\n",
    "print(state_dict)"
   ]
  },
  {
   "cell_type": "code",
   "execution_count": 51,
   "metadata": {},
   "outputs": [],
   "source": [
    "# torch.save(object, filename). For the filename, any extension can be used\n",
    "torch.save(state_dict, \"our_model.tar\")"
   ]
  },
  {
   "cell_type": "code",
   "execution_count": 52,
   "metadata": {},
   "outputs": [
    {
     "name": "stdout",
     "output_type": "stream",
     "text": [
      "Original model\n",
      " OrderedDict([('linear1.weight', tensor([[-2.0204, -2.3115],\n",
      "        [ 1.3085, -1.8443],\n",
      "        [-1.5097, -0.6611],\n",
      "        [-0.7672, -0.9231]], device='cuda:0')), ('linear1.bias', tensor([ 0.7389, -0.9149,  1.4694, -0.1811], device='cuda:0')), ('linear2.weight', tensor([[-2.5598,  1.9691,  2.1621, -0.4404]], device='cuda:0')), ('linear2.bias', tensor([-1.0178], device='cuda:0'))])\n",
      "\n",
      "Loaded model\n",
      " OrderedDict([('linear1.weight', tensor([[-2.0204, -2.3115],\n",
      "        [ 1.3085, -1.8443],\n",
      "        [-1.5097, -0.6611],\n",
      "        [-0.7672, -0.9231]])), ('linear1.bias', tensor([ 0.7389, -0.9149,  1.4694, -0.1811])), ('linear2.weight', tensor([[-2.5598,  1.9691,  2.1621, -0.4404]])), ('linear2.bias', tensor([-1.0178]))])\n"
     ]
    }
   ],
   "source": [
    "# Load state dict from the disk (make sure it is the same name as above)\n",
    "state_dict = torch.load(\"our_model.tar\")\n",
    "\n",
    "# Create a new model and load the state\n",
    "new_model = SimpleClassifier(num_inputs=2, num_hidden=4, num_outputs=1)\n",
    "new_model.load_state_dict(state_dict)\n",
    "\n",
    "# Verify that the parameters are the same\n",
    "print(\"Original model\\n\", model.state_dict())\n",
    "print(\"\\nLoaded model\\n\", new_model.state_dict())"
   ]
  },
  {
   "cell_type": "markdown",
   "metadata": {},
   "source": [
    "### Evaluation"
   ]
  },
  {
   "cell_type": "code",
   "execution_count": 53,
   "metadata": {},
   "outputs": [],
   "source": [
    "test_dataset = XORDataset(size=500)\n",
    "# drop_last -> Don't drop the last batch although it is smaller than 128\n",
    "test_data_loader = data.DataLoader(test_dataset, batch_size=128, shuffle=False, drop_last=False)"
   ]
  },
  {
   "cell_type": "code",
   "execution_count": 54,
   "metadata": {},
   "outputs": [],
   "source": [
    "def eval_model(model, data_loader):\n",
    "    model.eval()  # Set model to eval mode\n",
    "    true_preds, num_preds = 0., 0.\n",
    "    \n",
    "    with torch.no_grad():  # Deactivate gradients for the following code\n",
    "        for data_inputs, data_labels in data_loader:\n",
    "\n",
    "            # Determine prediction of model on dev set\n",
    "            data_inputs, data_labels = data_inputs.to(device), data_labels.to(device)\n",
    "            preds = model(data_inputs)\n",
    "            preds = preds.squeeze(dim=1)\n",
    "            preds = torch.sigmoid(preds)  # Sigmoid to map predictions between 0 and 1\n",
    "            pred_labels = (preds >= 0.5).long()  # Binarize predictions to 0 and 1\n",
    "\n",
    "            # Keep records of predictions for the accuracy metric (true_preds=TP+TN, num_preds=TP+TN+FP+FN)\n",
    "            true_preds += (pred_labels == data_labels).sum()\n",
    "            num_preds += data_labels.shape[0]\n",
    "    \n",
    "    acc = true_preds / num_preds\n",
    "    print(f\"Accuracy of the model: {100.0 * acc: 4.2f}%\")"
   ]
  },
  {
   "cell_type": "code",
   "execution_count": 55,
   "metadata": {},
   "outputs": [
    {
     "name": "stdout",
     "output_type": "stream",
     "text": [
      "Accuracy of the model:  100.00%\n"
     ]
    }
   ],
   "source": [
    "eval_model(model, test_data_loader)"
   ]
  },
  {
   "cell_type": "markdown",
   "metadata": {},
   "source": [
    "#### Visualizing classification boundaries"
   ]
  },
  {
   "cell_type": "code",
   "execution_count": 58,
   "metadata": {},
   "outputs": [],
   "source": [
    "@torch.no_grad()  # Decorator, same effect as \"with torch.no_grad(): ...\" over the whole function.\n",
    "def visualize_classification(model, data, label):\n",
    "    if isinstance(data, torch.Tensor):\n",
    "        data = data.cpu().numpy()\n",
    "    if isinstance(label, torch.Tensor):\n",
    "        label = label.cpu().numpy()\n",
    "    data_0 = data[label == 0]\n",
    "    data_1 = data[label == 1]\n",
    "\n",
    "    plt.figure(figsize=(4, 4))\n",
    "    plt.scatter(data_0[:, 0], data_0[:, 1], edgecolor=\"#333\", label=\"Class 0\")\n",
    "    plt.scatter(data_1[:, 0], data_1[:, 1], edgecolor=\"#333\", label=\"Class 1\")\n",
    "    plt.title(\"Dataset samples\")\n",
    "    plt.ylabel(r\"$x_2$\")\n",
    "    plt.xlabel(r\"$x_1$\")\n",
    "    plt.legend()\n",
    "\n",
    "    # Let's make use of a lot of operations we have learned above\n",
    "    model.to(device)\n",
    "    c0 = torch.Tensor(to_rgba(\"C0\")).to(device)\n",
    "    c1 = torch.Tensor(to_rgba(\"C1\")).to(device)\n",
    "    x1 = torch.arange(-0.5, 1.5, step=0.01, device=device)\n",
    "    x2 = torch.arange(-0.5, 1.5, step=0.01, device=device)\n",
    "    xx1, xx2 = torch.meshgrid(x1, x2)  # Meshgrid function as in numpy\n",
    "    model_inputs = torch.stack([xx1, xx2], dim=-1)\n",
    "    preds = model(model_inputs)\n",
    "    preds = torch.sigmoid(preds)\n",
    "    # Specifying \"None\" in a dimension creates a new one\n",
    "    output_image = preds * c0[None, None] + (1 - preds) * c1[None, None]\n",
    "    output_image = (\n",
    "        output_image.cpu().numpy()\n",
    "    )  # Convert to numpy array. This only works for tensors on CPU, hence first push to CPU\n",
    "    plt.imshow(output_image, origin=\"upper\", extent=(-0.5, 1.5, -0.5, 1.5))\n",
    "    plt.grid(False)"
   ]
  },
  {
   "cell_type": "code",
   "execution_count": 59,
   "metadata": {},
   "outputs": [
    {
     "data": {
      "application/pdf": "[encoded data removed]",
      "image/svg+xml": "<?xml version=\"1.0\" encoding=\"utf-8\" standalone=\"no\"?>\n<!DOCTYPE svg PUBLIC \"-//W3C//DTD SVG 1.1//EN\"\n  \"http://www.w3.org/Graphics/SVG/1.1/DTD/svg11.dtd\">\n<svg height=\"277.314375pt\" version=\"1.1\" viewBox=\"0 0 291.115 277.314375\" width=\"291.115pt\" xmlns=\"http://www.w3.org/2000/svg\" xmlns:xlink=\"http://www.w3.org/1999/xlink\">\n <metadata>\n  <rdf:RDF xmlns:cc=\"http://creativecommons.org/ns#\" xmlns:dc=\"http://purl.org/dc/elements/1.1/\" xmlns:rdf=\"http://www.w3.org/1999/02/22-rdf-syntax-ns#\">\n   <cc:Work>\n    <dc:type rdf:resource=\"http://purl.org/dc/dcmitype/StillImage\"/>\n    <dc:date>2021-11-27T13:41:51.751756</dc:date>\n    <dc:format>image/svg+xml</dc:format>\n    <dc:creator>\n     <cc:Agent>\n      <dc:title>Matplotlib v3.4.3, https://matplotlib.org/</dc:title>\n     </cc:Agent>\n    </dc:creator>\n   </cc:Work>\n  </rdf:RDF>\n </metadata>\n <defs>\n  <style type=\"text/css\">*{stroke-linecap:butt;stroke-linejoin:round;}</style>\n </defs>\n <g id=\"figure_1\">\n  <g id=\"patch_1\">\n   <path d=\"M 0 277.314375 \nL 291.115 277.314375 \nL 291.115 0 \nL 0 0 \nz\n\" style=\"fill:none;\"/>\n  </g>\n  <g id=\"axes_1\">\n   <g id=\"patch_2\">\n    <path d=\"M 58.523438 239.758125 \nL 275.963437 239.758125 \nL 275.963437 22.318125 \nL 58.523438 22.318125 \nz\n\" style=\"fill:#ffffff;\"/>\n   </g>\n   <g clip-path=\"url(#pf1565dfc9a)\">\n    <image height=\"218\" id=\"image5ac545b08c\" transform=\"scale(1 -1)translate(0 -218)\" width=\"218\" x=\"58.523438\" xlink:href=\"data:image/png;base64,\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\" y=\"-21.758125\"/>\n   </g>\n   <g id=\"PathCollection_1\">\n    <defs>\n     <path d=\"M 0 3 \nC 0.795609 3 1.55874 2.683901 2.12132 2.12132 \nC 2.683901 1.55874 3 0.795609 3 0 \nC 3 -0.795609 2.683901 -1.55874 2.12132 -2.12132 \nC 1.55874 -2.683901 0.795609 -3 0 -3 \nC -0.795609 -3 -1.55874 -2.683901 -2.12132 -2.12132 \nC -2.683901 -1.55874 -3 -0.795609 -3 0 \nC -3 0.795609 -2.683901 1.55874 -2.12132 2.12132 \nC -1.55874 2.683901 -0.795609 3 0 3 \nz\n\" id=\"mdd3dae2a2f\" style=\"stroke:#333333;\"/>\n    </defs>\n    <g clip-path=\"url(#pf1565dfc9a)\">\n     <use style=\"fill:#1f77b4;stroke:#333333;\" x=\"112.130475\" xlink:href=\"#mdd3dae2a2f\" y=\"183.02716\"/>\n     <use style=\"fill:#1f77b4;stroke:#333333;\" x=\"218.531808\" xlink:href=\"#mdd3dae2a2f\" y=\"79.706304\"/>\n     <use style=\"fill:#1f77b4;stroke:#333333;\" x=\"239.633825\" xlink:href=\"#mdd3dae2a2f\" y=\"80.994397\"/>\n     <use style=\"fill:#1f77b4;stroke:#333333;\" x=\"122.008015\" xlink:href=\"#mdd3dae2a2f\" y=\"191.757377\"/>\n     <use style=\"fill:#1f77b4;stroke:#333333;\" x=\"116.060682\" xlink:href=\"#mdd3dae2a2f\" y=\"192.256288\"/>\n     <use style=\"fill:#1f77b4;stroke:#333333;\" x=\"92.277532\" xlink:href=\"#mdd3dae2a2f\" y=\"180.061819\"/>\n     <use style=\"fill:#1f77b4;stroke:#333333;\" x=\"227.018994\" xlink:href=\"#mdd3dae2a2f\" y=\"76.887462\"/>\n     <use style=\"fill:#1f77b4;stroke:#333333;\" x=\"218.499712\" xlink:href=\"#mdd3dae2a2f\" y=\"71.275153\"/>\n     <use style=\"fill:#1f77b4;stroke:#333333;\" x=\"110.302013\" xlink:href=\"#mdd3dae2a2f\" y=\"191.868518\"/>\n     <use style=\"fill:#1f77b4;stroke:#333333;\" x=\"222.828211\" xlink:href=\"#mdd3dae2a2f\" y=\"72.953996\"/>\n     <use style=\"fill:#1f77b4;stroke:#333333;\" x=\"117.798662\" xlink:href=\"#mdd3dae2a2f\" y=\"188.528318\"/>\n     <use style=\"fill:#1f77b4;stroke:#333333;\" x=\"236.949732\" xlink:href=\"#mdd3dae2a2f\" y=\"56.122229\"/>\n     <use style=\"fill:#1f77b4;stroke:#333333;\" x=\"223.235039\" xlink:href=\"#mdd3dae2a2f\" y=\"80.056541\"/>\n     <use style=\"fill:#1f77b4;stroke:#333333;\" x=\"218.619913\" xlink:href=\"#mdd3dae2a2f\" y=\"76.248163\"/>\n     <use style=\"fill:#1f77b4;stroke:#333333;\" x=\"110.525586\" xlink:href=\"#mdd3dae2a2f\" y=\"198.228967\"/>\n     <use style=\"fill:#1f77b4;stroke:#333333;\" x=\"106.581102\" xlink:href=\"#mdd3dae2a2f\" y=\"176.499583\"/>\n     <use style=\"fill:#1f77b4;stroke:#333333;\" x=\"233.588936\" xlink:href=\"#mdd3dae2a2f\" y=\"102.286439\"/>\n     <use style=\"fill:#1f77b4;stroke:#333333;\" x=\"236.369999\" xlink:href=\"#mdd3dae2a2f\" y=\"96.725344\"/>\n     <use style=\"fill:#1f77b4;stroke:#333333;\" x=\"213.86622\" xlink:href=\"#mdd3dae2a2f\" y=\"77.338064\"/>\n     <use style=\"fill:#1f77b4;stroke:#333333;\" x=\"100.93054\" xlink:href=\"#mdd3dae2a2f\" y=\"195.532199\"/>\n     <use style=\"fill:#1f77b4;stroke:#333333;\" x=\"235.709742\" xlink:href=\"#mdd3dae2a2f\" y=\"56.455519\"/>\n     <use style=\"fill:#1f77b4;stroke:#333333;\" x=\"228.794651\" xlink:href=\"#mdd3dae2a2f\" y=\"77.981996\"/>\n     <use style=\"fill:#1f77b4;stroke:#333333;\" x=\"126.325818\" xlink:href=\"#mdd3dae2a2f\" y=\"169.253244\"/>\n     <use style=\"fill:#1f77b4;stroke:#333333;\" x=\"215.866897\" xlink:href=\"#mdd3dae2a2f\" y=\"56.228154\"/>\n     <use style=\"fill:#1f77b4;stroke:#333333;\" x=\"114.849831\" xlink:href=\"#mdd3dae2a2f\" y=\"184.170689\"/>\n     <use style=\"fill:#1f77b4;stroke:#333333;\" x=\"215.200167\" xlink:href=\"#mdd3dae2a2f\" y=\"71.325868\"/>\n     <use style=\"fill:#1f77b4;stroke:#333333;\" x=\"104.738732\" xlink:href=\"#mdd3dae2a2f\" y=\"172.132264\"/>\n     <use style=\"fill:#1f77b4;stroke:#333333;\" x=\"233.165389\" xlink:href=\"#mdd3dae2a2f\" y=\"69.175006\"/>\n     <use style=\"fill:#1f77b4;stroke:#333333;\" x=\"229.770805\" xlink:href=\"#mdd3dae2a2f\" y=\"79.208287\"/>\n     <use style=\"fill:#1f77b4;stroke:#333333;\" x=\"224.897941\" xlink:href=\"#mdd3dae2a2f\" y=\"65.173809\"/>\n     <use style=\"fill:#1f77b4;stroke:#333333;\" x=\"109.018133\" xlink:href=\"#mdd3dae2a2f\" y=\"175.976269\"/>\n     <use style=\"fill:#1f77b4;stroke:#333333;\" x=\"118.553492\" xlink:href=\"#mdd3dae2a2f\" y=\"195.931899\"/>\n     <use style=\"fill:#1f77b4;stroke:#333333;\" x=\"105.114252\" xlink:href=\"#mdd3dae2a2f\" y=\"164.360655\"/>\n     <use style=\"fill:#1f77b4;stroke:#333333;\" x=\"113.25433\" xlink:href=\"#mdd3dae2a2f\" y=\"189.323026\"/>\n     <use style=\"fill:#1f77b4;stroke:#333333;\" x=\"124.586091\" xlink:href=\"#mdd3dae2a2f\" y=\"188.967644\"/>\n     <use style=\"fill:#1f77b4;stroke:#333333;\" x=\"109.837824\" xlink:href=\"#mdd3dae2a2f\" y=\"184.898956\"/>\n     <use style=\"fill:#1f77b4;stroke:#333333;\" x=\"125.181761\" xlink:href=\"#mdd3dae2a2f\" y=\"197.902563\"/>\n     <use style=\"fill:#1f77b4;stroke:#333333;\" x=\"204.317789\" xlink:href=\"#mdd3dae2a2f\" y=\"61.965272\"/>\n     <use style=\"fill:#1f77b4;stroke:#333333;\" x=\"235.267519\" xlink:href=\"#mdd3dae2a2f\" y=\"81.643688\"/>\n     <use style=\"fill:#1f77b4;stroke:#333333;\" x=\"223.348378\" xlink:href=\"#mdd3dae2a2f\" y=\"80.978112\"/>\n     <use style=\"fill:#1f77b4;stroke:#333333;\" x=\"109.797084\" xlink:href=\"#mdd3dae2a2f\" y=\"192.545811\"/>\n     <use style=\"fill:#1f77b4;stroke:#333333;\" x=\"211.194686\" xlink:href=\"#mdd3dae2a2f\" y=\"100.930901\"/>\n     <use style=\"fill:#1f77b4;stroke:#333333;\" x=\"229.513113\" xlink:href=\"#mdd3dae2a2f\" y=\"75.481734\"/>\n     <use style=\"fill:#1f77b4;stroke:#333333;\" x=\"113.381992\" xlink:href=\"#mdd3dae2a2f\" y=\"197.835874\"/>\n     <use style=\"fill:#1f77b4;stroke:#333333;\" x=\"123.337028\" xlink:href=\"#mdd3dae2a2f\" y=\"202.207751\"/>\n     <use style=\"fill:#1f77b4;stroke:#333333;\" x=\"130.132567\" xlink:href=\"#mdd3dae2a2f\" y=\"170.190943\"/>\n     <use style=\"fill:#1f77b4;stroke:#333333;\" x=\"216.473179\" xlink:href=\"#mdd3dae2a2f\" y=\"87.364405\"/>\n     <use style=\"fill:#1f77b4;stroke:#333333;\" x=\"206.813885\" xlink:href=\"#mdd3dae2a2f\" y=\"65.697345\"/>\n     <use style=\"fill:#1f77b4;stroke:#333333;\" x=\"107.513202\" xlink:href=\"#mdd3dae2a2f\" y=\"192.863185\"/>\n     <use style=\"fill:#1f77b4;stroke:#333333;\" x=\"217.41874\" xlink:href=\"#mdd3dae2a2f\" y=\"84.700348\"/>\n     <use style=\"fill:#1f77b4;stroke:#333333;\" x=\"113.95745\" xlink:href=\"#mdd3dae2a2f\" y=\"189.098171\"/>\n     <use style=\"fill:#1f77b4;stroke:#333333;\" x=\"226.55733\" xlink:href=\"#mdd3dae2a2f\" y=\"57.230812\"/>\n     <use style=\"fill:#1f77b4;stroke:#333333;\" x=\"111.233278\" xlink:href=\"#mdd3dae2a2f\" y=\"179.431408\"/>\n     <use style=\"fill:#1f77b4;stroke:#333333;\" x=\"215.084754\" xlink:href=\"#mdd3dae2a2f\" y=\"91.072443\"/>\n     <use style=\"fill:#1f77b4;stroke:#333333;\" x=\"224.100848\" xlink:href=\"#mdd3dae2a2f\" y=\"68.121491\"/>\n     <use style=\"fill:#1f77b4;stroke:#333333;\" x=\"92.279163\" xlink:href=\"#mdd3dae2a2f\" y=\"180.887702\"/>\n     <use style=\"fill:#1f77b4;stroke:#333333;\" x=\"206.717206\" xlink:href=\"#mdd3dae2a2f\" y=\"67.932904\"/>\n     <use style=\"fill:#1f77b4;stroke:#333333;\" x=\"230.512427\" xlink:href=\"#mdd3dae2a2f\" y=\"82.439245\"/>\n     <use style=\"fill:#1f77b4;stroke:#333333;\" x=\"101.651362\" xlink:href=\"#mdd3dae2a2f\" y=\"185.78207\"/>\n     <use style=\"fill:#1f77b4;stroke:#333333;\" x=\"110.796814\" xlink:href=\"#mdd3dae2a2f\" y=\"211.814172\"/>\n     <use style=\"fill:#1f77b4;stroke:#333333;\" x=\"110.369579\" xlink:href=\"#mdd3dae2a2f\" y=\"188.183661\"/>\n     <use style=\"fill:#1f77b4;stroke:#333333;\" x=\"96.152024\" xlink:href=\"#mdd3dae2a2f\" y=\"188.29022\"/>\n     <use style=\"fill:#1f77b4;stroke:#333333;\" x=\"241.658206\" xlink:href=\"#mdd3dae2a2f\" y=\"82.547711\"/>\n     <use style=\"fill:#1f77b4;stroke:#333333;\" x=\"215.078112\" xlink:href=\"#mdd3dae2a2f\" y=\"88.854193\"/>\n     <use style=\"fill:#1f77b4;stroke:#333333;\" x=\"235.390643\" xlink:href=\"#mdd3dae2a2f\" y=\"62.012163\"/>\n     <use style=\"fill:#1f77b4;stroke:#333333;\" x=\"96.594278\" xlink:href=\"#mdd3dae2a2f\" y=\"176.722784\"/>\n     <use style=\"fill:#1f77b4;stroke:#333333;\" x=\"223.89308\" xlink:href=\"#mdd3dae2a2f\" y=\"95.68291\"/>\n     <use style=\"fill:#1f77b4;stroke:#333333;\" x=\"231.986534\" xlink:href=\"#mdd3dae2a2f\" y=\"101.379014\"/>\n     <use style=\"fill:#1f77b4;stroke:#333333;\" x=\"129.434435\" xlink:href=\"#mdd3dae2a2f\" y=\"202.700628\"/>\n     <use style=\"fill:#1f77b4;stroke:#333333;\" x=\"121.849164\" xlink:href=\"#mdd3dae2a2f\" y=\"193.853222\"/>\n     <use style=\"fill:#1f77b4;stroke:#333333;\" x=\"111.071273\" xlink:href=\"#mdd3dae2a2f\" y=\"180.426817\"/>\n     <use style=\"fill:#1f77b4;stroke:#333333;\" x=\"111.73278\" xlink:href=\"#mdd3dae2a2f\" y=\"178.6056\"/>\n     <use style=\"fill:#1f77b4;stroke:#333333;\" x=\"224.372642\" xlink:href=\"#mdd3dae2a2f\" y=\"73.188217\"/>\n     <use style=\"fill:#1f77b4;stroke:#333333;\" x=\"214.544764\" xlink:href=\"#mdd3dae2a2f\" y=\"100.191683\"/>\n     <use style=\"fill:#1f77b4;stroke:#333333;\" x=\"111.037176\" xlink:href=\"#mdd3dae2a2f\" y=\"184.756952\"/>\n     <use style=\"fill:#1f77b4;stroke:#333333;\" x=\"120.501423\" xlink:href=\"#mdd3dae2a2f\" y=\"177.927389\"/>\n     <use style=\"fill:#1f77b4;stroke:#333333;\" x=\"121.737273\" xlink:href=\"#mdd3dae2a2f\" y=\"183.651319\"/>\n     <use style=\"fill:#1f77b4;stroke:#333333;\" x=\"224.151653\" xlink:href=\"#mdd3dae2a2f\" y=\"60.366512\"/>\n     <use style=\"fill:#1f77b4;stroke:#333333;\" x=\"223.43835\" xlink:href=\"#mdd3dae2a2f\" y=\"58.920283\"/>\n     <use style=\"fill:#1f77b4;stroke:#333333;\" x=\"112.665686\" xlink:href=\"#mdd3dae2a2f\" y=\"194.670616\"/>\n     <use style=\"fill:#1f77b4;stroke:#333333;\" x=\"232.62061\" xlink:href=\"#mdd3dae2a2f\" y=\"60.454033\"/>\n     <use style=\"fill:#1f77b4;stroke:#333333;\" x=\"218.768323\" xlink:href=\"#mdd3dae2a2f\" y=\"87.76343\"/>\n     <use style=\"fill:#1f77b4;stroke:#333333;\" x=\"231.184386\" xlink:href=\"#mdd3dae2a2f\" y=\"57.202935\"/>\n     <use style=\"fill:#1f77b4;stroke:#333333;\" x=\"105.951856\" xlink:href=\"#mdd3dae2a2f\" y=\"182.733923\"/>\n     <use style=\"fill:#1f77b4;stroke:#333333;\" x=\"220.266348\" xlink:href=\"#mdd3dae2a2f\" y=\"68.561718\"/>\n     <use style=\"fill:#1f77b4;stroke:#333333;\" x=\"113.873959\" xlink:href=\"#mdd3dae2a2f\" y=\"198.141743\"/>\n     <use style=\"fill:#1f77b4;stroke:#333333;\" x=\"121.135411\" xlink:href=\"#mdd3dae2a2f\" y=\"191.679503\"/>\n     <use style=\"fill:#1f77b4;stroke:#333333;\" x=\"105.401412\" xlink:href=\"#mdd3dae2a2f\" y=\"181.366251\"/>\n     <use style=\"fill:#1f77b4;stroke:#333333;\" x=\"203.450464\" xlink:href=\"#mdd3dae2a2f\" y=\"73.166107\"/>\n     <use style=\"fill:#1f77b4;stroke:#333333;\" x=\"213.131642\" xlink:href=\"#mdd3dae2a2f\" y=\"68.440188\"/>\n     <use style=\"fill:#1f77b4;stroke:#333333;\" x=\"195.475611\" xlink:href=\"#mdd3dae2a2f\" y=\"65.960727\"/>\n     <use style=\"fill:#1f77b4;stroke:#333333;\" x=\"104.817254\" xlink:href=\"#mdd3dae2a2f\" y=\"181.616921\"/>\n     <use style=\"fill:#1f77b4;stroke:#333333;\" x=\"128.101527\" xlink:href=\"#mdd3dae2a2f\" y=\"193.778082\"/>\n     <use style=\"fill:#1f77b4;stroke:#333333;\" x=\"108.575899\" xlink:href=\"#mdd3dae2a2f\" y=\"196.017082\"/>\n     <use style=\"fill:#1f77b4;stroke:#333333;\" x=\"213.699076\" xlink:href=\"#mdd3dae2a2f\" y=\"102.201172\"/>\n     <use style=\"fill:#1f77b4;stroke:#333333;\" x=\"116.657511\" xlink:href=\"#mdd3dae2a2f\" y=\"184.585026\"/>\n     <use style=\"fill:#1f77b4;stroke:#333333;\" x=\"111.028071\" xlink:href=\"#mdd3dae2a2f\" y=\"179.737071\"/>\n     <use style=\"fill:#1f77b4;stroke:#333333;\" x=\"106.803829\" xlink:href=\"#mdd3dae2a2f\" y=\"188.460235\"/>\n     <use style=\"fill:#1f77b4;stroke:#333333;\" x=\"114.368679\" xlink:href=\"#mdd3dae2a2f\" y=\"194.747632\"/>\n     <use style=\"fill:#1f77b4;stroke:#333333;\" x=\"202.479261\" xlink:href=\"#mdd3dae2a2f\" y=\"76.337577\"/>\n     <use style=\"fill:#1f77b4;stroke:#333333;\" x=\"209.669671\" xlink:href=\"#mdd3dae2a2f\" y=\"63.421804\"/>\n     <use style=\"fill:#1f77b4;stroke:#333333;\" x=\"93.182322\" xlink:href=\"#mdd3dae2a2f\" y=\"199.661904\"/>\n     <use style=\"fill:#1f77b4;stroke:#333333;\" x=\"221.556365\" xlink:href=\"#mdd3dae2a2f\" y=\"94.135493\"/>\n    </g>\n   </g>\n   <g id=\"PathCollection_2\">\n    <defs>\n     <path d=\"M 0 3 \nC 0.795609 3 1.55874 2.683901 2.12132 2.12132 \nC 2.683901 1.55874 3 0.795609 3 0 \nC 3 -0.795609 2.683901 -1.55874 2.12132 -2.12132 \nC 1.55874 -2.683901 0.795609 -3 0 -3 \nC -0.795609 -3 -1.55874 -2.683901 -2.12132 -2.12132 \nC -2.683901 -1.55874 -3 -0.795609 -3 0 \nC -3 0.795609 -2.683901 1.55874 -2.12132 2.12132 \nC -1.55874 2.683901 -0.795609 3 0 3 \nz\n\" id=\"mcbb0ad9a1c\" style=\"stroke:#333333;\"/>\n    </defs>\n    <g clip-path=\"url(#pf1565dfc9a)\">\n     <use style=\"fill:#ff7f0e;stroke:#333333;\" x=\"217.606427\" xlink:href=\"#mcbb0ad9a1c\" y=\"173.251328\"/>\n     <use style=\"fill:#ff7f0e;stroke:#333333;\" x=\"227.769027\" xlink:href=\"#mcbb0ad9a1c\" y=\"173.464324\"/>\n     <use style=\"fill:#ff7f0e;stroke:#333333;\" x=\"218.500016\" xlink:href=\"#mcbb0ad9a1c\" y=\"187.443356\"/>\n     <use style=\"fill:#ff7f0e;stroke:#333333;\" x=\"106.984413\" xlink:href=\"#mcbb0ad9a1c\" y=\"66.511974\"/>\n     <use style=\"fill:#ff7f0e;stroke:#333333;\" x=\"233.133545\" xlink:href=\"#mcbb0ad9a1c\" y=\"189.544269\"/>\n     <use style=\"fill:#ff7f0e;stroke:#333333;\" x=\"115.335326\" xlink:href=\"#mcbb0ad9a1c\" y=\"80.815627\"/>\n     <use style=\"fill:#ff7f0e;stroke:#333333;\" x=\"208.972555\" xlink:href=\"#mcbb0ad9a1c\" y=\"197.223837\"/>\n     <use style=\"fill:#ff7f0e;stroke:#333333;\" x=\"139.005527\" xlink:href=\"#mcbb0ad9a1c\" y=\"77.700995\"/>\n     <use style=\"fill:#ff7f0e;stroke:#333333;\" x=\"230.664194\" xlink:href=\"#mcbb0ad9a1c\" y=\"201.829041\"/>\n     <use style=\"fill:#ff7f0e;stroke:#333333;\" x=\"205.002573\" xlink:href=\"#mcbb0ad9a1c\" y=\"176.909335\"/>\n     <use style=\"fill:#ff7f0e;stroke:#333333;\" x=\"216.845993\" xlink:href=\"#mcbb0ad9a1c\" y=\"167.032503\"/>\n     <use style=\"fill:#ff7f0e;stroke:#333333;\" x=\"88.160629\" xlink:href=\"#mcbb0ad9a1c\" y=\"65.861243\"/>\n     <use style=\"fill:#ff7f0e;stroke:#333333;\" x=\"128.021696\" xlink:href=\"#mcbb0ad9a1c\" y=\"66.622254\"/>\n     <use style=\"fill:#ff7f0e;stroke:#333333;\" x=\"112.260448\" xlink:href=\"#mcbb0ad9a1c\" y=\"91.009332\"/>\n     <use style=\"fill:#ff7f0e;stroke:#333333;\" x=\"112.50413\" xlink:href=\"#mcbb0ad9a1c\" y=\"63.911605\"/>\n     <use style=\"fill:#ff7f0e;stroke:#333333;\" x=\"95.981186\" xlink:href=\"#mcbb0ad9a1c\" y=\"61.50077\"/>\n     <use style=\"fill:#ff7f0e;stroke:#333333;\" x=\"219.993175\" xlink:href=\"#mcbb0ad9a1c\" y=\"189.668312\"/>\n     <use style=\"fill:#ff7f0e;stroke:#333333;\" x=\"206.167029\" xlink:href=\"#mcbb0ad9a1c\" y=\"173.135684\"/>\n     <use style=\"fill:#ff7f0e;stroke:#333333;\" x=\"213.740977\" xlink:href=\"#mcbb0ad9a1c\" y=\"174.762918\"/>\n     <use style=\"fill:#ff7f0e;stroke:#333333;\" x=\"121.204965\" xlink:href=\"#mcbb0ad9a1c\" y=\"77.433213\"/>\n     <use style=\"fill:#ff7f0e;stroke:#333333;\" x=\"203.018823\" xlink:href=\"#mcbb0ad9a1c\" y=\"182.099388\"/>\n     <use style=\"fill:#ff7f0e;stroke:#333333;\" x=\"238.152369\" xlink:href=\"#mcbb0ad9a1c\" y=\"188.7116\"/>\n     <use style=\"fill:#ff7f0e;stroke:#333333;\" x=\"231.441781\" xlink:href=\"#mcbb0ad9a1c\" y=\"186.794029\"/>\n     <use style=\"fill:#ff7f0e;stroke:#333333;\" x=\"211.648243\" xlink:href=\"#mcbb0ad9a1c\" y=\"189.950709\"/>\n     <use style=\"fill:#ff7f0e;stroke:#333333;\" x=\"236.220422\" xlink:href=\"#mcbb0ad9a1c\" y=\"169.740566\"/>\n     <use style=\"fill:#ff7f0e;stroke:#333333;\" x=\"101.853762\" xlink:href=\"#mcbb0ad9a1c\" y=\"86.031191\"/>\n     <use style=\"fill:#ff7f0e;stroke:#333333;\" x=\"233.94689\" xlink:href=\"#mcbb0ad9a1c\" y=\"172.051387\"/>\n     <use style=\"fill:#ff7f0e;stroke:#333333;\" x=\"123.501925\" xlink:href=\"#mcbb0ad9a1c\" y=\"74.175724\"/>\n     <use style=\"fill:#ff7f0e;stroke:#333333;\" x=\"218.585652\" xlink:href=\"#mcbb0ad9a1c\" y=\"171.48351\"/>\n     <use style=\"fill:#ff7f0e;stroke:#333333;\" x=\"90.32929\" xlink:href=\"#mcbb0ad9a1c\" y=\"75.633164\"/>\n     <use style=\"fill:#ff7f0e;stroke:#333333;\" x=\"111.280011\" xlink:href=\"#mcbb0ad9a1c\" y=\"82.837267\"/>\n     <use style=\"fill:#ff7f0e;stroke:#333333;\" x=\"211.740197\" xlink:href=\"#mcbb0ad9a1c\" y=\"195.115065\"/>\n     <use style=\"fill:#ff7f0e;stroke:#333333;\" x=\"205.118653\" xlink:href=\"#mcbb0ad9a1c\" y=\"174.999985\"/>\n     <use style=\"fill:#ff7f0e;stroke:#333333;\" x=\"115.182647\" xlink:href=\"#mcbb0ad9a1c\" y=\"78.537928\"/>\n     <use style=\"fill:#ff7f0e;stroke:#333333;\" x=\"227.992219\" xlink:href=\"#mcbb0ad9a1c\" y=\"175.571697\"/>\n     <use style=\"fill:#ff7f0e;stroke:#333333;\" x=\"115.634509\" xlink:href=\"#mcbb0ad9a1c\" y=\"84.738407\"/>\n     <use style=\"fill:#ff7f0e;stroke:#333333;\" x=\"113.207682\" xlink:href=\"#mcbb0ad9a1c\" y=\"86.904679\"/>\n     <use style=\"fill:#ff7f0e;stroke:#333333;\" x=\"241.406644\" xlink:href=\"#mcbb0ad9a1c\" y=\"195.654551\"/>\n     <use style=\"fill:#ff7f0e;stroke:#333333;\" x=\"218.12314\" xlink:href=\"#mcbb0ad9a1c\" y=\"172.59052\"/>\n     <use style=\"fill:#ff7f0e;stroke:#333333;\" x=\"102.818896\" xlink:href=\"#mcbb0ad9a1c\" y=\"74.729342\"/>\n     <use style=\"fill:#ff7f0e;stroke:#333333;\" x=\"126.547202\" xlink:href=\"#mcbb0ad9a1c\" y=\"76.348126\"/>\n     <use style=\"fill:#ff7f0e;stroke:#333333;\" x=\"129.239769\" xlink:href=\"#mcbb0ad9a1c\" y=\"62.486839\"/>\n     <use style=\"fill:#ff7f0e;stroke:#333333;\" x=\"228.152228\" xlink:href=\"#mcbb0ad9a1c\" y=\"193.26863\"/>\n     <use style=\"fill:#ff7f0e;stroke:#333333;\" x=\"103.215052\" xlink:href=\"#mcbb0ad9a1c\" y=\"78.005027\"/>\n     <use style=\"fill:#ff7f0e;stroke:#333333;\" x=\"216.222162\" xlink:href=\"#mcbb0ad9a1c\" y=\"176.670472\"/>\n     <use style=\"fill:#ff7f0e;stroke:#333333;\" x=\"114.916325\" xlink:href=\"#mcbb0ad9a1c\" y=\"88.653235\"/>\n     <use style=\"fill:#ff7f0e;stroke:#333333;\" x=\"121.115357\" xlink:href=\"#mcbb0ad9a1c\" y=\"70.241533\"/>\n     <use style=\"fill:#ff7f0e;stroke:#333333;\" x=\"120.258643\" xlink:href=\"#mcbb0ad9a1c\" y=\"72.957314\"/>\n     <use style=\"fill:#ff7f0e;stroke:#333333;\" x=\"209.315916\" xlink:href=\"#mcbb0ad9a1c\" y=\"177.378942\"/>\n     <use style=\"fill:#ff7f0e;stroke:#333333;\" x=\"103.210102\" xlink:href=\"#mcbb0ad9a1c\" y=\"91.806632\"/>\n     <use style=\"fill:#ff7f0e;stroke:#333333;\" x=\"119.325862\" xlink:href=\"#mcbb0ad9a1c\" y=\"68.692592\"/>\n     <use style=\"fill:#ff7f0e;stroke:#333333;\" x=\"202.824093\" xlink:href=\"#mcbb0ad9a1c\" y=\"174.268046\"/>\n     <use style=\"fill:#ff7f0e;stroke:#333333;\" x=\"223.801372\" xlink:href=\"#mcbb0ad9a1c\" y=\"196.626833\"/>\n     <use style=\"fill:#ff7f0e;stroke:#333333;\" x=\"117.310993\" xlink:href=\"#mcbb0ad9a1c\" y=\"69.094029\"/>\n     <use style=\"fill:#ff7f0e;stroke:#333333;\" x=\"122.253941\" xlink:href=\"#mcbb0ad9a1c\" y=\"84.153386\"/>\n     <use style=\"fill:#ff7f0e;stroke:#333333;\" x=\"208.231426\" xlink:href=\"#mcbb0ad9a1c\" y=\"184.433377\"/>\n     <use style=\"fill:#ff7f0e;stroke:#333333;\" x=\"201.565732\" xlink:href=\"#mcbb0ad9a1c\" y=\"186.557453\"/>\n     <use style=\"fill:#ff7f0e;stroke:#333333;\" x=\"120.045207\" xlink:href=\"#mcbb0ad9a1c\" y=\"79.883512\"/>\n     <use style=\"fill:#ff7f0e;stroke:#333333;\" x=\"85.476218\" xlink:href=\"#mcbb0ad9a1c\" y=\"85.530225\"/>\n     <use style=\"fill:#ff7f0e;stroke:#333333;\" x=\"108.621104\" xlink:href=\"#mcbb0ad9a1c\" y=\"91.775968\"/>\n     <use style=\"fill:#ff7f0e;stroke:#333333;\" x=\"122.454711\" xlink:href=\"#mcbb0ad9a1c\" y=\"71.807464\"/>\n     <use style=\"fill:#ff7f0e;stroke:#333333;\" x=\"105.245089\" xlink:href=\"#mcbb0ad9a1c\" y=\"80.555517\"/>\n     <use style=\"fill:#ff7f0e;stroke:#333333;\" x=\"110.345637\" xlink:href=\"#mcbb0ad9a1c\" y=\"74.684201\"/>\n     <use style=\"fill:#ff7f0e;stroke:#333333;\" x=\"122.948606\" xlink:href=\"#mcbb0ad9a1c\" y=\"84.523445\"/>\n     <use style=\"fill:#ff7f0e;stroke:#333333;\" x=\"238.331781\" xlink:href=\"#mcbb0ad9a1c\" y=\"190.109778\"/>\n     <use style=\"fill:#ff7f0e;stroke:#333333;\" x=\"99.158482\" xlink:href=\"#mcbb0ad9a1c\" y=\"62.144579\"/>\n     <use style=\"fill:#ff7f0e;stroke:#333333;\" x=\"238.904126\" xlink:href=\"#mcbb0ad9a1c\" y=\"176.479967\"/>\n     <use style=\"fill:#ff7f0e;stroke:#333333;\" x=\"228.511103\" xlink:href=\"#mcbb0ad9a1c\" y=\"166.124698\"/>\n     <use style=\"fill:#ff7f0e;stroke:#333333;\" x=\"204.749573\" xlink:href=\"#mcbb0ad9a1c\" y=\"197.183933\"/>\n     <use style=\"fill:#ff7f0e;stroke:#333333;\" x=\"207.817035\" xlink:href=\"#mcbb0ad9a1c\" y=\"209.749946\"/>\n     <use style=\"fill:#ff7f0e;stroke:#333333;\" x=\"113.647455\" xlink:href=\"#mcbb0ad9a1c\" y=\"63.325534\"/>\n     <use style=\"fill:#ff7f0e;stroke:#333333;\" x=\"209.936021\" xlink:href=\"#mcbb0ad9a1c\" y=\"171.712521\"/>\n     <use style=\"fill:#ff7f0e;stroke:#333333;\" x=\"199.504867\" xlink:href=\"#mcbb0ad9a1c\" y=\"160.73698\"/>\n     <use style=\"fill:#ff7f0e;stroke:#333333;\" x=\"102.861494\" xlink:href=\"#mcbb0ad9a1c\" y=\"67.872443\"/>\n     <use style=\"fill:#ff7f0e;stroke:#333333;\" x=\"121.543306\" xlink:href=\"#mcbb0ad9a1c\" y=\"77.896386\"/>\n     <use style=\"fill:#ff7f0e;stroke:#333333;\" x=\"230.263574\" xlink:href=\"#mcbb0ad9a1c\" y=\"175.913803\"/>\n     <use style=\"fill:#ff7f0e;stroke:#333333;\" x=\"108.769772\" xlink:href=\"#mcbb0ad9a1c\" y=\"71.243232\"/>\n     <use style=\"fill:#ff7f0e;stroke:#333333;\" x=\"118.137999\" xlink:href=\"#mcbb0ad9a1c\" y=\"79.260109\"/>\n     <use style=\"fill:#ff7f0e;stroke:#333333;\" x=\"116.883422\" xlink:href=\"#mcbb0ad9a1c\" y=\"81.810632\"/>\n     <use style=\"fill:#ff7f0e;stroke:#333333;\" x=\"217.332054\" xlink:href=\"#mcbb0ad9a1c\" y=\"170.303854\"/>\n     <use style=\"fill:#ff7f0e;stroke:#333333;\" x=\"223.569574\" xlink:href=\"#mcbb0ad9a1c\" y=\"163.041048\"/>\n     <use style=\"fill:#ff7f0e;stroke:#333333;\" x=\"230.510522\" xlink:href=\"#mcbb0ad9a1c\" y=\"176.611656\"/>\n     <use style=\"fill:#ff7f0e;stroke:#333333;\" x=\"142.305392\" xlink:href=\"#mcbb0ad9a1c\" y=\"77.469185\"/>\n     <use style=\"fill:#ff7f0e;stroke:#333333;\" x=\"204.163476\" xlink:href=\"#mcbb0ad9a1c\" y=\"198.978781\"/>\n     <use style=\"fill:#ff7f0e;stroke:#333333;\" x=\"244.521801\" xlink:href=\"#mcbb0ad9a1c\" y=\"198.229188\"/>\n     <use style=\"fill:#ff7f0e;stroke:#333333;\" x=\"214.441631\" xlink:href=\"#mcbb0ad9a1c\" y=\"195.840128\"/>\n     <use style=\"fill:#ff7f0e;stroke:#333333;\" x=\"105.972186\" xlink:href=\"#mcbb0ad9a1c\" y=\"85.737332\"/>\n     <use style=\"fill:#ff7f0e;stroke:#333333;\" x=\"104.205171\" xlink:href=\"#mcbb0ad9a1c\" y=\"77.466631\"/>\n     <use style=\"fill:#ff7f0e;stroke:#333333;\" x=\"232.367065\" xlink:href=\"#mcbb0ad9a1c\" y=\"198.103735\"/>\n     <use style=\"fill:#ff7f0e;stroke:#333333;\" x=\"104.549328\" xlink:href=\"#mcbb0ad9a1c\" y=\"83.321073\"/>\n     <use style=\"fill:#ff7f0e;stroke:#333333;\" x=\"93.504718\" xlink:href=\"#mcbb0ad9a1c\" y=\"79.424966\"/>\n     <use style=\"fill:#ff7f0e;stroke:#333333;\" x=\"127.819202\" xlink:href=\"#mcbb0ad9a1c\" y=\"69.050871\"/>\n     <use style=\"fill:#ff7f0e;stroke:#333333;\" x=\"106.888986\" xlink:href=\"#mcbb0ad9a1c\" y=\"71.394117\"/>\n     <use style=\"fill:#ff7f0e;stroke:#333333;\" x=\"238.372282\" xlink:href=\"#mcbb0ad9a1c\" y=\"196.147065\"/>\n     <use style=\"fill:#ff7f0e;stroke:#333333;\" x=\"200.720575\" xlink:href=\"#mcbb0ad9a1c\" y=\"181.948403\"/>\n     <use style=\"fill:#ff7f0e;stroke:#333333;\" x=\"113.562585\" xlink:href=\"#mcbb0ad9a1c\" y=\"65.860828\"/>\n     <use style=\"fill:#ff7f0e;stroke:#333333;\" x=\"236.216055\" xlink:href=\"#mcbb0ad9a1c\" y=\"194.238972\"/>\n    </g>\n   </g>\n   <g id=\"matplotlib.axis_1\">\n    <g id=\"xtick_1\">\n     <g id=\"line2d_1\">\n      <defs>\n       <path d=\"M 0 0 \nL 0 3.5 \n\" id=\"m54d0466fc6\" style=\"stroke:#000000;stroke-width:0.8;\"/>\n      </defs>\n      <g>\n       <use style=\"stroke:#000000;stroke-width:0.8;\" x=\"58.523438\" xlink:href=\"#m54d0466fc6\" y=\"239.758125\"/>\n      </g>\n     </g>\n     <g id=\"text_1\">\n      <!-- −0.5 -->\n      <g transform=\"translate(46.382031 254.356562)scale(0.1 -0.1)\">\n       <defs>\n        <path d=\"M 678 2272 \nL 4684 2272 \nL 4684 1741 \nL 678 1741 \nL 678 2272 \nz\n\" id=\"DejaVuSans-2212\" transform=\"scale(0.015625)\"/>\n        <path d=\"M 2034 4250 \nQ 1547 4250 1301 3770 \nQ 1056 3291 1056 2328 \nQ 1056 1369 1301 889 \nQ 1547 409 2034 409 \nQ 2525 409 2770 889 \nQ 3016 1369 3016 2328 \nQ 3016 3291 2770 3770 \nQ 2525 4250 2034 4250 \nz\nM 2034 4750 \nQ 2819 4750 3233 4129 \nQ 3647 3509 3647 2328 \nQ 3647 1150 3233 529 \nQ 2819 -91 2034 -91 \nQ 1250 -91 836 529 \nQ 422 1150 422 2328 \nQ 422 3509 836 4129 \nQ 1250 4750 2034 4750 \nz\n\" id=\"DejaVuSans-30\" transform=\"scale(0.015625)\"/>\n        <path d=\"M 684 794 \nL 1344 794 \nL 1344 0 \nL 684 0 \nL 684 794 \nz\n\" id=\"DejaVuSans-2e\" transform=\"scale(0.015625)\"/>\n        <path d=\"M 691 4666 \nL 3169 4666 \nL 3169 4134 \nL 1269 4134 \nL 1269 2991 \nQ 1406 3038 1543 3061 \nQ 1681 3084 1819 3084 \nQ 2600 3084 3056 2656 \nQ 3513 2228 3513 1497 \nQ 3513 744 3044 326 \nQ 2575 -91 1722 -91 \nQ 1428 -91 1123 -41 \nQ 819 9 494 109 \nL 494 744 \nQ 775 591 1075 516 \nQ 1375 441 1709 441 \nQ 2250 441 2565 725 \nQ 2881 1009 2881 1497 \nQ 2881 1984 2565 2268 \nQ 2250 2553 1709 2553 \nQ 1456 2553 1204 2497 \nQ 953 2441 691 2322 \nL 691 4666 \nz\n\" id=\"DejaVuSans-35\" transform=\"scale(0.015625)\"/>\n       </defs>\n       <use xlink:href=\"#DejaVuSans-2212\"/>\n       <use x=\"83.789062\" xlink:href=\"#DejaVuSans-30\"/>\n       <use x=\"147.412109\" xlink:href=\"#DejaVuSans-2e\"/>\n       <use x=\"179.199219\" xlink:href=\"#DejaVuSans-35\"/>\n      </g>\n     </g>\n    </g>\n    <g id=\"xtick_2\">\n     <g id=\"line2d_2\">\n      <g>\n       <use style=\"stroke:#000000;stroke-width:0.8;\" x=\"112.883437\" xlink:href=\"#m54d0466fc6\" y=\"239.758125\"/>\n      </g>\n     </g>\n     <g id=\"text_2\">\n      <!-- 0.0 -->\n      <g transform=\"translate(104.931875 254.356562)scale(0.1 -0.1)\">\n       <use xlink:href=\"#DejaVuSans-30\"/>\n       <use x=\"63.623047\" xlink:href=\"#DejaVuSans-2e\"/>\n       <use x=\"95.410156\" xlink:href=\"#DejaVuSans-30\"/>\n      </g>\n     </g>\n    </g>\n    <g id=\"xtick_3\">\n     <g id=\"line2d_3\">\n      <g>\n       <use style=\"stroke:#000000;stroke-width:0.8;\" x=\"167.243437\" xlink:href=\"#m54d0466fc6\" y=\"239.758125\"/>\n      </g>\n     </g>\n     <g id=\"text_3\">\n      <!-- 0.5 -->\n      <g transform=\"translate(159.291875 254.356562)scale(0.1 -0.1)\">\n       <use xlink:href=\"#DejaVuSans-30\"/>\n       <use x=\"63.623047\" xlink:href=\"#DejaVuSans-2e\"/>\n       <use x=\"95.410156\" xlink:href=\"#DejaVuSans-35\"/>\n      </g>\n     </g>\n    </g>\n    <g id=\"xtick_4\">\n     <g id=\"line2d_4\">\n      <g>\n       <use style=\"stroke:#000000;stroke-width:0.8;\" x=\"221.603437\" xlink:href=\"#m54d0466fc6\" y=\"239.758125\"/>\n      </g>\n     </g>\n     <g id=\"text_4\">\n      <!-- 1.0 -->\n      <g transform=\"translate(213.651875 254.356562)scale(0.1 -0.1)\">\n       <defs>\n        <path d=\"M 794 531 \nL 1825 531 \nL 1825 4091 \nL 703 3866 \nL 703 4441 \nL 1819 4666 \nL 2450 4666 \nL 2450 531 \nL 3481 531 \nL 3481 0 \nL 794 0 \nL 794 531 \nz\n\" id=\"DejaVuSans-31\" transform=\"scale(0.015625)\"/>\n       </defs>\n       <use xlink:href=\"#DejaVuSans-31\"/>\n       <use x=\"63.623047\" xlink:href=\"#DejaVuSans-2e\"/>\n       <use x=\"95.410156\" xlink:href=\"#DejaVuSans-30\"/>\n      </g>\n     </g>\n    </g>\n    <g id=\"xtick_5\">\n     <g id=\"line2d_5\">\n      <g>\n       <use style=\"stroke:#000000;stroke-width:0.8;\" x=\"275.963437\" xlink:href=\"#m54d0466fc6\" y=\"239.758125\"/>\n      </g>\n     </g>\n     <g id=\"text_5\">\n      <!-- 1.5 -->\n      <g transform=\"translate(268.011875 254.356562)scale(0.1 -0.1)\">\n       <use xlink:href=\"#DejaVuSans-31\"/>\n       <use x=\"63.623047\" xlink:href=\"#DejaVuSans-2e\"/>\n       <use x=\"95.410156\" xlink:href=\"#DejaVuSans-35\"/>\n      </g>\n     </g>\n    </g>\n    <g id=\"text_6\">\n     <!-- $x_1$ -->\n     <g transform=\"translate(161.893438 268.034687)scale(0.1 -0.1)\">\n      <defs>\n       <path d=\"M 3841 3500 \nL 2234 1784 \nL 3219 0 \nL 2559 0 \nL 1819 1388 \nL 531 0 \nL -166 0 \nL 1556 1844 \nL 641 3500 \nL 1300 3500 \nL 1972 2234 \nL 3144 3500 \nL 3841 3500 \nz\n\" id=\"DejaVuSans-Oblique-78\" transform=\"scale(0.015625)\"/>\n      </defs>\n      <use transform=\"translate(0 0.3125)\" xlink:href=\"#DejaVuSans-Oblique-78\"/>\n      <use transform=\"translate(59.179688 -16.09375)scale(0.7)\" xlink:href=\"#DejaVuSans-31\"/>\n     </g>\n    </g>\n   </g>\n   <g id=\"matplotlib.axis_2\">\n    <g id=\"ytick_1\">\n     <g id=\"line2d_6\">\n      <defs>\n       <path d=\"M 0 0 \nL -3.5 0 \n\" id=\"m7443ac278e\" style=\"stroke:#000000;stroke-width:0.8;\"/>\n      </defs>\n      <g>\n       <use style=\"stroke:#000000;stroke-width:0.8;\" x=\"58.523438\" xlink:href=\"#m7443ac278e\" y=\"239.758125\"/>\n      </g>\n     </g>\n     <g id=\"text_7\">\n      <!-- −0.50 -->\n      <g transform=\"translate(20.878125 243.557344)scale(0.1 -0.1)\">\n       <use xlink:href=\"#DejaVuSans-2212\"/>\n       <use x=\"83.789062\" xlink:href=\"#DejaVuSans-30\"/>\n       <use x=\"147.412109\" xlink:href=\"#DejaVuSans-2e\"/>\n       <use x=\"179.199219\" xlink:href=\"#DejaVuSans-35\"/>\n       <use x=\"242.822266\" xlink:href=\"#DejaVuSans-30\"/>\n      </g>\n     </g>\n    </g>\n    <g id=\"ytick_2\">\n     <g id=\"line2d_7\">\n      <g>\n       <use style=\"stroke:#000000;stroke-width:0.8;\" x=\"58.523438\" xlink:href=\"#m7443ac278e\" y=\"212.578125\"/>\n      </g>\n     </g>\n     <g id=\"text_8\">\n      <!-- −0.25 -->\n      <g transform=\"translate(20.878125 216.377344)scale(0.1 -0.1)\">\n       <defs>\n        <path d=\"M 1228 531 \nL 3431 531 \nL 3431 0 \nL 469 0 \nL 469 531 \nQ 828 903 1448 1529 \nQ 2069 2156 2228 2338 \nQ 2531 2678 2651 2914 \nQ 2772 3150 2772 3378 \nQ 2772 3750 2511 3984 \nQ 2250 4219 1831 4219 \nQ 1534 4219 1204 4116 \nQ 875 4013 500 3803 \nL 500 4441 \nQ 881 4594 1212 4672 \nQ 1544 4750 1819 4750 \nQ 2544 4750 2975 4387 \nQ 3406 4025 3406 3419 \nQ 3406 3131 3298 2873 \nQ 3191 2616 2906 2266 \nQ 2828 2175 2409 1742 \nQ 1991 1309 1228 531 \nz\n\" id=\"DejaVuSans-32\" transform=\"scale(0.015625)\"/>\n       </defs>\n       <use xlink:href=\"#DejaVuSans-2212\"/>\n       <use x=\"83.789062\" xlink:href=\"#DejaVuSans-30\"/>\n       <use x=\"147.412109\" xlink:href=\"#DejaVuSans-2e\"/>\n       <use x=\"179.199219\" xlink:href=\"#DejaVuSans-32\"/>\n       <use x=\"242.822266\" xlink:href=\"#DejaVuSans-35\"/>\n      </g>\n     </g>\n    </g>\n    <g id=\"ytick_3\">\n     <g id=\"line2d_8\">\n      <g>\n       <use style=\"stroke:#000000;stroke-width:0.8;\" x=\"58.523438\" xlink:href=\"#m7443ac278e\" y=\"185.398125\"/>\n      </g>\n     </g>\n     <g id=\"text_9\">\n      <!-- 0.00 -->\n      <g transform=\"translate(29.257812 189.197344)scale(0.1 -0.1)\">\n       <use xlink:href=\"#DejaVuSans-30\"/>\n       <use x=\"63.623047\" xlink:href=\"#DejaVuSans-2e\"/>\n       <use x=\"95.410156\" xlink:href=\"#DejaVuSans-30\"/>\n       <use x=\"159.033203\" xlink:href=\"#DejaVuSans-30\"/>\n      </g>\n     </g>\n    </g>\n    <g id=\"ytick_4\">\n     <g id=\"line2d_9\">\n      <g>\n       <use style=\"stroke:#000000;stroke-width:0.8;\" x=\"58.523438\" xlink:href=\"#m7443ac278e\" y=\"158.218125\"/>\n      </g>\n     </g>\n     <g id=\"text_10\">\n      <!-- 0.25 -->\n      <g transform=\"translate(29.257812 162.017344)scale(0.1 -0.1)\">\n       <use xlink:href=\"#DejaVuSans-30\"/>\n       <use x=\"63.623047\" xlink:href=\"#DejaVuSans-2e\"/>\n       <use x=\"95.410156\" xlink:href=\"#DejaVuSans-32\"/>\n       <use x=\"159.033203\" xlink:href=\"#DejaVuSans-35\"/>\n      </g>\n     </g>\n    </g>\n    <g id=\"ytick_5\">\n     <g id=\"line2d_10\">\n      <g>\n       <use style=\"stroke:#000000;stroke-width:0.8;\" x=\"58.523438\" xlink:href=\"#m7443ac278e\" y=\"131.038125\"/>\n      </g>\n     </g>\n     <g id=\"text_11\">\n      <!-- 0.50 -->\n      <g transform=\"translate(29.257812 134.837344)scale(0.1 -0.1)\">\n       <use xlink:href=\"#DejaVuSans-30\"/>\n       <use x=\"63.623047\" xlink:href=\"#DejaVuSans-2e\"/>\n       <use x=\"95.410156\" xlink:href=\"#DejaVuSans-35\"/>\n       <use x=\"159.033203\" xlink:href=\"#DejaVuSans-30\"/>\n      </g>\n     </g>\n    </g>\n    <g id=\"ytick_6\">\n     <g id=\"line2d_11\">\n      <g>\n       <use style=\"stroke:#000000;stroke-width:0.8;\" x=\"58.523438\" xlink:href=\"#m7443ac278e\" y=\"103.858125\"/>\n      </g>\n     </g>\n     <g id=\"text_12\">\n      <!-- 0.75 -->\n      <g transform=\"translate(29.257812 107.657344)scale(0.1 -0.1)\">\n       <defs>\n        <path d=\"M 525 4666 \nL 3525 4666 \nL 3525 4397 \nL 1831 0 \nL 1172 0 \nL 2766 4134 \nL 525 4134 \nL 525 4666 \nz\n\" id=\"DejaVuSans-37\" transform=\"scale(0.015625)\"/>\n       </defs>\n       <use xlink:href=\"#DejaVuSans-30\"/>\n       <use x=\"63.623047\" xlink:href=\"#DejaVuSans-2e\"/>\n       <use x=\"95.410156\" xlink:href=\"#DejaVuSans-37\"/>\n       <use x=\"159.033203\" xlink:href=\"#DejaVuSans-35\"/>\n      </g>\n     </g>\n    </g>\n    <g id=\"ytick_7\">\n     <g id=\"line2d_12\">\n      <g>\n       <use style=\"stroke:#000000;stroke-width:0.8;\" x=\"58.523438\" xlink:href=\"#m7443ac278e\" y=\"76.678125\"/>\n      </g>\n     </g>\n     <g id=\"text_13\">\n      <!-- 1.00 -->\n      <g transform=\"translate(29.257812 80.477344)scale(0.1 -0.1)\">\n       <use xlink:href=\"#DejaVuSans-31\"/>\n       <use x=\"63.623047\" xlink:href=\"#DejaVuSans-2e\"/>\n       <use x=\"95.410156\" xlink:href=\"#DejaVuSans-30\"/>\n       <use x=\"159.033203\" xlink:href=\"#DejaVuSans-30\"/>\n      </g>\n     </g>\n    </g>\n    <g id=\"ytick_8\">\n     <g id=\"line2d_13\">\n      <g>\n       <use style=\"stroke:#000000;stroke-width:0.8;\" x=\"58.523438\" xlink:href=\"#m7443ac278e\" y=\"49.498125\"/>\n      </g>\n     </g>\n     <g id=\"text_14\">\n      <!-- 1.25 -->\n      <g transform=\"translate(29.257812 53.297344)scale(0.1 -0.1)\">\n       <use xlink:href=\"#DejaVuSans-31\"/>\n       <use x=\"63.623047\" xlink:href=\"#DejaVuSans-2e\"/>\n       <use x=\"95.410156\" xlink:href=\"#DejaVuSans-32\"/>\n       <use x=\"159.033203\" xlink:href=\"#DejaVuSans-35\"/>\n      </g>\n     </g>\n    </g>\n    <g id=\"ytick_9\">\n     <g id=\"line2d_14\">\n      <g>\n       <use style=\"stroke:#000000;stroke-width:0.8;\" x=\"58.523438\" xlink:href=\"#m7443ac278e\" y=\"22.318125\"/>\n      </g>\n     </g>\n     <g id=\"text_15\">\n      <!-- 1.50 -->\n      <g transform=\"translate(29.257812 26.117344)scale(0.1 -0.1)\">\n       <use xlink:href=\"#DejaVuSans-31\"/>\n       <use x=\"63.623047\" xlink:href=\"#DejaVuSans-2e\"/>\n       <use x=\"95.410156\" xlink:href=\"#DejaVuSans-35\"/>\n       <use x=\"159.033203\" xlink:href=\"#DejaVuSans-30\"/>\n      </g>\n     </g>\n    </g>\n    <g id=\"text_16\">\n     <!-- $x_2$ -->\n     <g transform=\"translate(14.798437 136.388125)rotate(-90)scale(0.1 -0.1)\">\n      <use transform=\"translate(0 0.3125)\" xlink:href=\"#DejaVuSans-Oblique-78\"/>\n      <use transform=\"translate(59.179688 -16.09375)scale(0.7)\" xlink:href=\"#DejaVuSans-32\"/>\n     </g>\n    </g>\n   </g>\n   <g id=\"patch_3\">\n    <path d=\"M 58.523438 239.758125 \nL 58.523438 22.318125 \n\" style=\"fill:none;stroke:#000000;stroke-linecap:square;stroke-linejoin:miter;stroke-width:0.8;\"/>\n   </g>\n   <g id=\"patch_4\">\n    <path d=\"M 275.963437 239.758125 \nL 275.963437 22.318125 \n\" style=\"fill:none;stroke:#000000;stroke-linecap:square;stroke-linejoin:miter;stroke-width:0.8;\"/>\n   </g>\n   <g id=\"patch_5\">\n    <path d=\"M 58.523438 239.758125 \nL 275.963437 239.758125 \n\" style=\"fill:none;stroke:#000000;stroke-linecap:square;stroke-linejoin:miter;stroke-width:0.8;\"/>\n   </g>\n   <g id=\"patch_6\">\n    <path d=\"M 58.523438 22.318125 \nL 275.963437 22.318125 \n\" style=\"fill:none;stroke:#000000;stroke-linecap:square;stroke-linejoin:miter;stroke-width:0.8;\"/>\n   </g>\n   <g id=\"text_17\">\n    <!-- Dataset samples -->\n    <g transform=\"translate(116.900625 16.318125)scale(0.12 -0.12)\">\n     <defs>\n      <path d=\"M 1259 4147 \nL 1259 519 \nL 2022 519 \nQ 2988 519 3436 956 \nQ 3884 1394 3884 2338 \nQ 3884 3275 3436 3711 \nQ 2988 4147 2022 4147 \nL 1259 4147 \nz\nM 628 4666 \nL 1925 4666 \nQ 3281 4666 3915 4102 \nQ 4550 3538 4550 2338 \nQ 4550 1131 3912 565 \nQ 3275 0 1925 0 \nL 628 0 \nL 628 4666 \nz\n\" id=\"DejaVuSans-44\" transform=\"scale(0.015625)\"/>\n      <path d=\"M 2194 1759 \nQ 1497 1759 1228 1600 \nQ 959 1441 959 1056 \nQ 959 750 1161 570 \nQ 1363 391 1709 391 \nQ 2188 391 2477 730 \nQ 2766 1069 2766 1631 \nL 2766 1759 \nL 2194 1759 \nz\nM 3341 1997 \nL 3341 0 \nL 2766 0 \nL 2766 531 \nQ 2569 213 2275 61 \nQ 1981 -91 1556 -91 \nQ 1019 -91 701 211 \nQ 384 513 384 1019 \nQ 384 1609 779 1909 \nQ 1175 2209 1959 2209 \nL 2766 2209 \nL 2766 2266 \nQ 2766 2663 2505 2880 \nQ 2244 3097 1772 3097 \nQ 1472 3097 1187 3025 \nQ 903 2953 641 2809 \nL 641 3341 \nQ 956 3463 1253 3523 \nQ 1550 3584 1831 3584 \nQ 2591 3584 2966 3190 \nQ 3341 2797 3341 1997 \nz\n\" id=\"DejaVuSans-61\" transform=\"scale(0.015625)\"/>\n      <path d=\"M 1172 4494 \nL 1172 3500 \nL 2356 3500 \nL 2356 3053 \nL 1172 3053 \nL 1172 1153 \nQ 1172 725 1289 603 \nQ 1406 481 1766 481 \nL 2356 481 \nL 2356 0 \nL 1766 0 \nQ 1100 0 847 248 \nQ 594 497 594 1153 \nL 594 3053 \nL 172 3053 \nL 172 3500 \nL 594 3500 \nL 594 4494 \nL 1172 4494 \nz\n\" id=\"DejaVuSans-74\" transform=\"scale(0.015625)\"/>\n      <path d=\"M 2834 3397 \nL 2834 2853 \nQ 2591 2978 2328 3040 \nQ 2066 3103 1784 3103 \nQ 1356 3103 1142 2972 \nQ 928 2841 928 2578 \nQ 928 2378 1081 2264 \nQ 1234 2150 1697 2047 \nL 1894 2003 \nQ 2506 1872 2764 1633 \nQ 3022 1394 3022 966 \nQ 3022 478 2636 193 \nQ 2250 -91 1575 -91 \nQ 1294 -91 989 -36 \nQ 684 19 347 128 \nL 347 722 \nQ 666 556 975 473 \nQ 1284 391 1588 391 \nQ 1994 391 2212 530 \nQ 2431 669 2431 922 \nQ 2431 1156 2273 1281 \nQ 2116 1406 1581 1522 \nL 1381 1569 \nQ 847 1681 609 1914 \nQ 372 2147 372 2553 \nQ 372 3047 722 3315 \nQ 1072 3584 1716 3584 \nQ 2034 3584 2315 3537 \nQ 2597 3491 2834 3397 \nz\n\" id=\"DejaVuSans-73\" transform=\"scale(0.015625)\"/>\n      <path d=\"M 3597 1894 \nL 3597 1613 \nL 953 1613 \nQ 991 1019 1311 708 \nQ 1631 397 2203 397 \nQ 2534 397 2845 478 \nQ 3156 559 3463 722 \nL 3463 178 \nQ 3153 47 2828 -22 \nQ 2503 -91 2169 -91 \nQ 1331 -91 842 396 \nQ 353 884 353 1716 \nQ 353 2575 817 3079 \nQ 1281 3584 2069 3584 \nQ 2775 3584 3186 3129 \nQ 3597 2675 3597 1894 \nz\nM 3022 2063 \nQ 3016 2534 2758 2815 \nQ 2500 3097 2075 3097 \nQ 1594 3097 1305 2825 \nQ 1016 2553 972 2059 \nL 3022 2063 \nz\n\" id=\"DejaVuSans-65\" transform=\"scale(0.015625)\"/>\n      <path id=\"DejaVuSans-20\" transform=\"scale(0.015625)\"/>\n      <path d=\"M 3328 2828 \nQ 3544 3216 3844 3400 \nQ 4144 3584 4550 3584 \nQ 5097 3584 5394 3201 \nQ 5691 2819 5691 2113 \nL 5691 0 \nL 5113 0 \nL 5113 2094 \nQ 5113 2597 4934 2840 \nQ 4756 3084 4391 3084 \nQ 3944 3084 3684 2787 \nQ 3425 2491 3425 1978 \nL 3425 0 \nL 2847 0 \nL 2847 2094 \nQ 2847 2600 2669 2842 \nQ 2491 3084 2119 3084 \nQ 1678 3084 1418 2786 \nQ 1159 2488 1159 1978 \nL 1159 0 \nL 581 0 \nL 581 3500 \nL 1159 3500 \nL 1159 2956 \nQ 1356 3278 1631 3431 \nQ 1906 3584 2284 3584 \nQ 2666 3584 2933 3390 \nQ 3200 3197 3328 2828 \nz\n\" id=\"DejaVuSans-6d\" transform=\"scale(0.015625)\"/>\n      <path d=\"M 1159 525 \nL 1159 -1331 \nL 581 -1331 \nL 581 3500 \nL 1159 3500 \nL 1159 2969 \nQ 1341 3281 1617 3432 \nQ 1894 3584 2278 3584 \nQ 2916 3584 3314 3078 \nQ 3713 2572 3713 1747 \nQ 3713 922 3314 415 \nQ 2916 -91 2278 -91 \nQ 1894 -91 1617 61 \nQ 1341 213 1159 525 \nz\nM 3116 1747 \nQ 3116 2381 2855 2742 \nQ 2594 3103 2138 3103 \nQ 1681 3103 1420 2742 \nQ 1159 2381 1159 1747 \nQ 1159 1113 1420 752 \nQ 1681 391 2138 391 \nQ 2594 391 2855 752 \nQ 3116 1113 3116 1747 \nz\n\" id=\"DejaVuSans-70\" transform=\"scale(0.015625)\"/>\n      <path d=\"M 603 4863 \nL 1178 4863 \nL 1178 0 \nL 603 0 \nL 603 4863 \nz\n\" id=\"DejaVuSans-6c\" transform=\"scale(0.015625)\"/>\n     </defs>\n     <use xlink:href=\"#DejaVuSans-44\"/>\n     <use x=\"77.001953\" xlink:href=\"#DejaVuSans-61\"/>\n     <use x=\"138.28125\" xlink:href=\"#DejaVuSans-74\"/>\n     <use x=\"177.490234\" xlink:href=\"#DejaVuSans-61\"/>\n     <use x=\"238.769531\" xlink:href=\"#DejaVuSans-73\"/>\n     <use x=\"290.869141\" xlink:href=\"#DejaVuSans-65\"/>\n     <use x=\"352.392578\" xlink:href=\"#DejaVuSans-74\"/>\n     <use x=\"391.601562\" xlink:href=\"#DejaVuSans-20\"/>\n     <use x=\"423.388672\" xlink:href=\"#DejaVuSans-73\"/>\n     <use x=\"475.488281\" xlink:href=\"#DejaVuSans-61\"/>\n     <use x=\"536.767578\" xlink:href=\"#DejaVuSans-6d\"/>\n     <use x=\"634.179688\" xlink:href=\"#DejaVuSans-70\"/>\n     <use x=\"697.65625\" xlink:href=\"#DejaVuSans-6c\"/>\n     <use x=\"725.439453\" xlink:href=\"#DejaVuSans-65\"/>\n     <use x=\"786.962891\" xlink:href=\"#DejaVuSans-73\"/>\n    </g>\n   </g>\n   <g id=\"legend_1\">\n    <g id=\"patch_7\">\n     <path d=\"M 65.523438 59.674375 \nL 133.371875 59.674375 \nQ 135.371875 59.674375 135.371875 57.674375 \nL 135.371875 29.318125 \nQ 135.371875 27.318125 133.371875 27.318125 \nL 65.523438 27.318125 \nQ 63.523438 27.318125 63.523438 29.318125 \nL 63.523438 57.674375 \nQ 63.523438 59.674375 65.523438 59.674375 \nz\n\" style=\"fill:#ffffff;opacity:0.8;stroke:#cccccc;stroke-linejoin:miter;\"/>\n    </g>\n    <g id=\"PathCollection_3\">\n     <g>\n      <use style=\"fill:#1f77b4;stroke:#333333;\" x=\"77.523438\" xlink:href=\"#mdd3dae2a2f\" y=\"36.291562\"/>\n     </g>\n    </g>\n    <g id=\"text_18\">\n     <!-- Class 0 -->\n     <g transform=\"translate(95.523438 38.916562)scale(0.1 -0.1)\">\n      <defs>\n       <path d=\"M 4122 4306 \nL 4122 3641 \nQ 3803 3938 3442 4084 \nQ 3081 4231 2675 4231 \nQ 1875 4231 1450 3742 \nQ 1025 3253 1025 2328 \nQ 1025 1406 1450 917 \nQ 1875 428 2675 428 \nQ 3081 428 3442 575 \nQ 3803 722 4122 1019 \nL 4122 359 \nQ 3791 134 3420 21 \nQ 3050 -91 2638 -91 \nQ 1578 -91 968 557 \nQ 359 1206 359 2328 \nQ 359 3453 968 4101 \nQ 1578 4750 2638 4750 \nQ 3056 4750 3426 4639 \nQ 3797 4528 4122 4306 \nz\n\" id=\"DejaVuSans-43\" transform=\"scale(0.015625)\"/>\n      </defs>\n      <use xlink:href=\"#DejaVuSans-43\"/>\n      <use x=\"69.824219\" xlink:href=\"#DejaVuSans-6c\"/>\n      <use x=\"97.607422\" xlink:href=\"#DejaVuSans-61\"/>\n      <use x=\"158.886719\" xlink:href=\"#DejaVuSans-73\"/>\n      <use x=\"210.986328\" xlink:href=\"#DejaVuSans-73\"/>\n      <use x=\"263.085938\" xlink:href=\"#DejaVuSans-20\"/>\n      <use x=\"294.873047\" xlink:href=\"#DejaVuSans-30\"/>\n     </g>\n    </g>\n    <g id=\"PathCollection_4\">\n     <g>\n      <use style=\"fill:#ff7f0e;stroke:#333333;\" x=\"77.523438\" xlink:href=\"#mcbb0ad9a1c\" y=\"50.969687\"/>\n     </g>\n    </g>\n    <g id=\"text_19\">\n     <!-- Class 1 -->\n     <g transform=\"translate(95.523438 53.594687)scale(0.1 -0.1)\">\n      <use xlink:href=\"#DejaVuSans-43\"/>\n      <use x=\"69.824219\" xlink:href=\"#DejaVuSans-6c\"/>\n      <use x=\"97.607422\" xlink:href=\"#DejaVuSans-61\"/>\n      <use x=\"158.886719\" xlink:href=\"#DejaVuSans-73\"/>\n      <use x=\"210.986328\" xlink:href=\"#DejaVuSans-73\"/>\n      <use x=\"263.085938\" xlink:href=\"#DejaVuSans-20\"/>\n      <use x=\"294.873047\" xlink:href=\"#DejaVuSans-31\"/>\n     </g>\n    </g>\n   </g>\n  </g>\n </g>\n <defs>\n  <clipPath id=\"pf1565dfc9a\">\n   <rect height=\"217.44\" width=\"217.44\" x=\"58.523438\" y=\"22.318125\"/>\n  </clipPath>\n </defs>\n</svg>\n",
      "text/plain": [
       "<Figure size 288x288 with 1 Axes>"
      ]
     },
     "metadata": {
      "needs_background": "light"
     },
     "output_type": "display_data"
    }
   ],
   "source": [
    "visualize_classification(model, dataset.data, dataset.label)\n",
    "plt.show()"
   ]
  },
  {
   "cell_type": "code",
   "execution_count": null,
   "metadata": {},
   "outputs": [],
   "source": []
  }
 ],
 "metadata": {
  "interpreter": {
   "hash": "d4d1e4263499bec80672ea0156c357c1ee493ec2b1c70f0acce89fc37c4a6abe"
  },
  "kernelspec": {
   "display_name": "Python 3.8.12 64-bit ('base': conda)",
   "language": "python",
   "name": "python3"
  },
  "language_info": {
   "codemirror_mode": {
    "name": "ipython",
    "version": 3
   },
   "file_extension": ".py",
   "mimetype": "text/x-python",
   "name": "python",
   "nbconvert_exporter": "python",
   "pygments_lexer": "ipython3",
   "version": "3.8.12"
  },
  "orig_nbformat": 4
 },
 "nbformat": 4,
 "nbformat_minor": 2
}
